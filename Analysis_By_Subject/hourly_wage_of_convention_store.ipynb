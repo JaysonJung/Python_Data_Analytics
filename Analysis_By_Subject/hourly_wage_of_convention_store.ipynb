{
 "cells": [
  {
   "cell_type": "markdown",
   "metadata": {},
   "source": [
    "# 편의점 시급 데이터 분석"
   ]
  },
  {
   "cell_type": "code",
   "execution_count": 1,
   "metadata": {},
   "outputs": [],
   "source": [
    "# 필요 라이브러리 임포트\n",
    "import numpy as np\n",
    "import pandas as pd\n",
    "import matplotlib.pylab as plt\n",
    "import seaborn as sns\n",
    "import scipy.stats as stats\n",
    "# Jupyter Notebook에서 Matplotlib 출력을 위한 설정\n",
    "%matplotlib inline\n",
    "from matplotlib import font_manager, rc\n",
    "font_name = font_manager.FontProperties(fname=\"c:/Windows/Fonts/malgun.ttf\").get_name()\n",
    "rc('font', family=font_name)\n",
    "# Matplotlib 출력 크기 설정\n",
    "plt.rcParams[\"figure.figsize\"] = (14,4)\n",
    "plt.rcParams['lines.linewidth'] = 2\n",
    "plt.rcParams['lines.color'] = 'r'\n",
    "plt.rcParams['axes.grid'] = True "
   ]
  },
  {
   "cell_type": "code",
   "execution_count": 2,
   "metadata": {},
   "outputs": [
    {
     "data": {
      "text/html": [
       "<div>\n",
       "<style scoped>\n",
       "    .dataframe tbody tr th:only-of-type {\n",
       "        vertical-align: middle;\n",
       "    }\n",
       "\n",
       "    .dataframe tbody tr th {\n",
       "        vertical-align: top;\n",
       "    }\n",
       "\n",
       "    .dataframe thead th {\n",
       "        text-align: right;\n",
       "    }\n",
       "</style>\n",
       "<table border=\"1\" class=\"dataframe\">\n",
       "  <thead>\n",
       "    <tr style=\"text-align: right;\">\n",
       "      <th></th>\n",
       "      <th>area</th>\n",
       "      <th>company</th>\n",
       "      <th>hourly_wage</th>\n",
       "      <th>area1</th>\n",
       "      <th>area2</th>\n",
       "      <th>outlier</th>\n",
       "      <th>name</th>\n",
       "    </tr>\n",
       "  </thead>\n",
       "  <tbody>\n",
       "    <tr>\n",
       "      <th>0</th>\n",
       "      <td>강남구 삼성동</td>\n",
       "      <td>gs25 오크우드점</td>\n",
       "      <td>5600</td>\n",
       "      <td>강남구</td>\n",
       "      <td>삼성동</td>\n",
       "      <td>0</td>\n",
       "      <td>gs25</td>\n",
       "    </tr>\n",
       "    <tr>\n",
       "      <th>1</th>\n",
       "      <td>강남구 삼성동</td>\n",
       "      <td>gs25 코엑스점</td>\n",
       "      <td>5700</td>\n",
       "      <td>강남구</td>\n",
       "      <td>삼성동</td>\n",
       "      <td>0</td>\n",
       "      <td>gs25</td>\n",
       "    </tr>\n",
       "    <tr>\n",
       "      <th>2</th>\n",
       "      <td>강서구 화곡동</td>\n",
       "      <td>gs25편의점</td>\n",
       "      <td>5600</td>\n",
       "      <td>강서구</td>\n",
       "      <td>화곡동</td>\n",
       "      <td>0</td>\n",
       "      <td>gs25</td>\n",
       "    </tr>\n",
       "    <tr>\n",
       "      <th>3</th>\n",
       "      <td>광진구 군자동</td>\n",
       "      <td>gs25</td>\n",
       "      <td>5580</td>\n",
       "      <td>광진구</td>\n",
       "      <td>군자동</td>\n",
       "      <td>0</td>\n",
       "      <td>gs25</td>\n",
       "    </tr>\n",
       "    <tr>\n",
       "      <th>4</th>\n",
       "      <td>광진구 중곡동</td>\n",
       "      <td>gs25중곡대원점</td>\n",
       "      <td>5580</td>\n",
       "      <td>광진구</td>\n",
       "      <td>중곡동</td>\n",
       "      <td>0</td>\n",
       "      <td>gs25</td>\n",
       "    </tr>\n",
       "    <tr>\n",
       "      <th>5</th>\n",
       "      <td>구로구 구로동</td>\n",
       "      <td>gs25구로동양점</td>\n",
       "      <td>6000</td>\n",
       "      <td>구로구</td>\n",
       "      <td>구로동</td>\n",
       "      <td>0</td>\n",
       "      <td>gs25</td>\n",
       "    </tr>\n",
       "    <tr>\n",
       "      <th>6</th>\n",
       "      <td>구로구 구로동</td>\n",
       "      <td>gs25구로동양점</td>\n",
       "      <td>5580</td>\n",
       "      <td>구로구</td>\n",
       "      <td>구로동</td>\n",
       "      <td>0</td>\n",
       "      <td>gs25</td>\n",
       "    </tr>\n",
       "    <tr>\n",
       "      <th>7</th>\n",
       "      <td>동대문구 장안동</td>\n",
       "      <td>gs25장안중앙점</td>\n",
       "      <td>5600</td>\n",
       "      <td>동대문구</td>\n",
       "      <td>장안동</td>\n",
       "      <td>0</td>\n",
       "      <td>gs25</td>\n",
       "    </tr>\n",
       "  </tbody>\n",
       "</table>\n",
       "</div>"
      ],
      "text/plain": [
       "       area     company  hourly_wage area1 area2  outlier  name\n",
       "0   강남구 삼성동  gs25 오크우드점         5600   강남구   삼성동        0  gs25\n",
       "1   강남구 삼성동   gs25 코엑스점         5700   강남구   삼성동        0  gs25\n",
       "2   강서구 화곡동     gs25편의점         5600   강서구   화곡동        0  gs25\n",
       "3   광진구 군자동        gs25         5580   광진구   군자동        0  gs25\n",
       "4   광진구 중곡동   gs25중곡대원점         5580   광진구   중곡동        0  gs25\n",
       "5   구로구 구로동   gs25구로동양점         6000   구로구   구로동        0  gs25\n",
       "6   구로구 구로동   gs25구로동양점         5580   구로구   구로동        0  gs25\n",
       "7  동대문구 장안동   gs25장안중앙점         5600  동대문구   장안동        0  gs25"
      ]
     },
     "execution_count": 2,
     "metadata": {},
     "output_type": "execute_result"
    }
   ],
   "source": [
    "data = pd.read_csv('data/convenient_store.csv', encoding='euc-kr')\n",
    "data.head(8)"
   ]
  },
  {
   "cell_type": "code",
   "execution_count": 10,
   "metadata": {},
   "outputs": [
    {
     "name": "stdout",
     "output_type": "stream",
     "text": [
      "<class 'pandas.core.frame.DataFrame'>\n",
      "RangeIndex: 177 entries, 0 to 176\n",
      "Data columns (total 7 columns):\n",
      "area           177 non-null object\n",
      "company        177 non-null object\n",
      "hourly_wage    177 non-null int64\n",
      "area1          177 non-null object\n",
      "area2          177 non-null object\n",
      "outlier        177 non-null int64\n",
      "name           177 non-null object\n",
      "dtypes: int64(2), object(5)\n",
      "memory usage: 9.8+ KB\n"
     ]
    }
   ],
   "source": [
    "data.info()"
   ]
  },
  {
   "cell_type": "markdown",
   "metadata": {},
   "source": [
    "레코드 수: 177개\n",
    "컬럼 수: 7개"
   ]
  },
  {
   "cell_type": "code",
   "execution_count": 11,
   "metadata": {},
   "outputs": [
    {
     "data": {
      "text/html": [
       "<div>\n",
       "<style scoped>\n",
       "    .dataframe tbody tr th:only-of-type {\n",
       "        vertical-align: middle;\n",
       "    }\n",
       "\n",
       "    .dataframe tbody tr th {\n",
       "        vertical-align: top;\n",
       "    }\n",
       "\n",
       "    .dataframe thead th {\n",
       "        text-align: right;\n",
       "    }\n",
       "</style>\n",
       "<table border=\"1\" class=\"dataframe\">\n",
       "  <thead>\n",
       "    <tr style=\"text-align: right;\">\n",
       "      <th></th>\n",
       "      <th>hourly_wage</th>\n",
       "      <th>outlier</th>\n",
       "    </tr>\n",
       "  </thead>\n",
       "  <tbody>\n",
       "    <tr>\n",
       "      <th>count</th>\n",
       "      <td>177.000000</td>\n",
       "      <td>177.0</td>\n",
       "    </tr>\n",
       "    <tr>\n",
       "      <th>mean</th>\n",
       "      <td>5787.627119</td>\n",
       "      <td>0.0</td>\n",
       "    </tr>\n",
       "    <tr>\n",
       "      <th>std</th>\n",
       "      <td>352.318646</td>\n",
       "      <td>0.0</td>\n",
       "    </tr>\n",
       "    <tr>\n",
       "      <th>min</th>\n",
       "      <td>5580.000000</td>\n",
       "      <td>0.0</td>\n",
       "    </tr>\n",
       "    <tr>\n",
       "      <th>25%</th>\n",
       "      <td>5580.000000</td>\n",
       "      <td>0.0</td>\n",
       "    </tr>\n",
       "    <tr>\n",
       "      <th>50%</th>\n",
       "      <td>5600.000000</td>\n",
       "      <td>0.0</td>\n",
       "    </tr>\n",
       "    <tr>\n",
       "      <th>75%</th>\n",
       "      <td>6000.000000</td>\n",
       "      <td>0.0</td>\n",
       "    </tr>\n",
       "    <tr>\n",
       "      <th>max</th>\n",
       "      <td>7500.000000</td>\n",
       "      <td>0.0</td>\n",
       "    </tr>\n",
       "  </tbody>\n",
       "</table>\n",
       "</div>"
      ],
      "text/plain": [
       "       hourly_wage  outlier\n",
       "count   177.000000    177.0\n",
       "mean   5787.627119      0.0\n",
       "std     352.318646      0.0\n",
       "min    5580.000000      0.0\n",
       "25%    5580.000000      0.0\n",
       "50%    5600.000000      0.0\n",
       "75%    6000.000000      0.0\n",
       "max    7500.000000      0.0"
      ]
     },
     "execution_count": 11,
     "metadata": {},
     "output_type": "execute_result"
    }
   ],
   "source": [
    "data.describe()"
   ]
  },
  {
   "cell_type": "markdown",
   "metadata": {},
   "source": [
    "실수형 값들에 대한 기술통계"
   ]
  },
  {
   "cell_type": "code",
   "execution_count": 12,
   "metadata": {},
   "outputs": [
    {
     "data": {
      "text/plain": [
       "count         177\n",
       "unique        117\n",
       "top       강남구 논현동\n",
       "freq            7\n",
       "Name: area, dtype: object"
      ]
     },
     "execution_count": 12,
     "metadata": {},
     "output_type": "execute_result"
    }
   ],
   "source": [
    "data.area.describe()"
   ]
  },
  {
   "cell_type": "markdown",
   "metadata": {},
   "source": [
    "빈도 표출"
   ]
  },
  {
   "cell_type": "markdown",
   "metadata": {},
   "source": [
    "데이터 필터링\n",
    "\n",
    "이번엔 시급이 6000원 이상 되는 항목들을 추출"
   ]
  },
  {
   "cell_type": "code",
   "execution_count": 13,
   "metadata": {},
   "outputs": [],
   "source": [
    "high_wage = data[data.hourly_wage >= 6000]"
   ]
  },
  {
   "cell_type": "code",
   "execution_count": 14,
   "metadata": {},
   "outputs": [
    {
     "data": {
      "text/html": [
       "<div>\n",
       "<style scoped>\n",
       "    .dataframe tbody tr th:only-of-type {\n",
       "        vertical-align: middle;\n",
       "    }\n",
       "\n",
       "    .dataframe tbody tr th {\n",
       "        vertical-align: top;\n",
       "    }\n",
       "\n",
       "    .dataframe thead th {\n",
       "        text-align: right;\n",
       "    }\n",
       "</style>\n",
       "<table border=\"1\" class=\"dataframe\">\n",
       "  <thead>\n",
       "    <tr style=\"text-align: right;\">\n",
       "      <th></th>\n",
       "      <th>area</th>\n",
       "      <th>company</th>\n",
       "      <th>hourly_wage</th>\n",
       "      <th>area1</th>\n",
       "      <th>area2</th>\n",
       "      <th>outlier</th>\n",
       "      <th>name</th>\n",
       "    </tr>\n",
       "  </thead>\n",
       "  <tbody>\n",
       "    <tr>\n",
       "      <th>5</th>\n",
       "      <td>구로구 구로동</td>\n",
       "      <td>gs25구로동양점</td>\n",
       "      <td>6000</td>\n",
       "      <td>구로구</td>\n",
       "      <td>구로동</td>\n",
       "      <td>0</td>\n",
       "      <td>gs25</td>\n",
       "    </tr>\n",
       "    <tr>\n",
       "      <th>9</th>\n",
       "      <td>성동구 금호동4</td>\n",
       "      <td>gs25 서울숲푸르지오점</td>\n",
       "      <td>6000</td>\n",
       "      <td>성동구</td>\n",
       "      <td>금호동4</td>\n",
       "      <td>0</td>\n",
       "      <td>gs25</td>\n",
       "    </tr>\n",
       "    <tr>\n",
       "      <th>13</th>\n",
       "      <td>영등포구 영등포동</td>\n",
       "      <td>gs25</td>\n",
       "      <td>6300</td>\n",
       "      <td>영등포구</td>\n",
       "      <td>영등포동</td>\n",
       "      <td>0</td>\n",
       "      <td>gs25</td>\n",
       "    </tr>\n",
       "    <tr>\n",
       "      <th>18</th>\n",
       "      <td>강남구 논현동</td>\n",
       "      <td>세븐일레븐 논현11호점</td>\n",
       "      <td>6200</td>\n",
       "      <td>강남구</td>\n",
       "      <td>논현동</td>\n",
       "      <td>0</td>\n",
       "      <td>7/11</td>\n",
       "    </tr>\n",
       "    <tr>\n",
       "      <th>27</th>\n",
       "      <td>강남구 대치동</td>\n",
       "      <td>세븐일레븐 대치3호점</td>\n",
       "      <td>6000</td>\n",
       "      <td>강남구</td>\n",
       "      <td>대치동</td>\n",
       "      <td>0</td>\n",
       "      <td>7/11</td>\n",
       "    </tr>\n",
       "  </tbody>\n",
       "</table>\n",
       "</div>"
      ],
      "text/plain": [
       "         area        company  hourly_wage area1 area2  outlier  name\n",
       "5     구로구 구로동      gs25구로동양점         6000   구로구   구로동        0  gs25\n",
       "9    성동구 금호동4  gs25 서울숲푸르지오점         6000   성동구  금호동4        0  gs25\n",
       "13  영등포구 영등포동           gs25         6300  영등포구  영등포동        0  gs25\n",
       "18    강남구 논현동   세븐일레븐 논현11호점         6200   강남구   논현동        0  7/11\n",
       "27    강남구 대치동    세븐일레븐 대치3호점         6000   강남구   대치동        0  7/11"
      ]
     },
     "execution_count": 14,
     "metadata": {},
     "output_type": "execute_result"
    }
   ],
   "source": [
    "high_wage.head()"
   ]
  },
  {
   "cell_type": "markdown",
   "metadata": {},
   "source": [
    "시급을 기준으로 내림차순으로 정렬 sort_values()"
   ]
  },
  {
   "cell_type": "code",
   "execution_count": 15,
   "metadata": {},
   "outputs": [
    {
     "data": {
      "text/html": [
       "<div>\n",
       "<style scoped>\n",
       "    .dataframe tbody tr th:only-of-type {\n",
       "        vertical-align: middle;\n",
       "    }\n",
       "\n",
       "    .dataframe tbody tr th {\n",
       "        vertical-align: top;\n",
       "    }\n",
       "\n",
       "    .dataframe thead th {\n",
       "        text-align: right;\n",
       "    }\n",
       "</style>\n",
       "<table border=\"1\" class=\"dataframe\">\n",
       "  <thead>\n",
       "    <tr style=\"text-align: right;\">\n",
       "      <th></th>\n",
       "      <th>area</th>\n",
       "      <th>company</th>\n",
       "      <th>hourly_wage</th>\n",
       "      <th>area1</th>\n",
       "      <th>area2</th>\n",
       "      <th>outlier</th>\n",
       "      <th>name</th>\n",
       "    </tr>\n",
       "  </thead>\n",
       "  <tbody>\n",
       "    <tr>\n",
       "      <th>173</th>\n",
       "      <td>용산구 이태원동</td>\n",
       "      <td>CU 이태원프리덤점</td>\n",
       "      <td>7500</td>\n",
       "      <td>용산구</td>\n",
       "      <td>이태원동</td>\n",
       "      <td>0</td>\n",
       "      <td>CU</td>\n",
       "    </tr>\n",
       "    <tr>\n",
       "      <th>29</th>\n",
       "      <td>강남구 논현동</td>\n",
       "      <td>세븐일레븐편의점</td>\n",
       "      <td>7500</td>\n",
       "      <td>강남구</td>\n",
       "      <td>논현동</td>\n",
       "      <td>0</td>\n",
       "      <td>7/11</td>\n",
       "    </tr>\n",
       "    <tr>\n",
       "      <th>160</th>\n",
       "      <td>서대문구 신촌동</td>\n",
       "      <td>BGF Retail CU 신촌세브란스병원점</td>\n",
       "      <td>6900</td>\n",
       "      <td>서대문구</td>\n",
       "      <td>신촌동</td>\n",
       "      <td>0</td>\n",
       "      <td>CU</td>\n",
       "    </tr>\n",
       "    <tr>\n",
       "      <th>135</th>\n",
       "      <td>중구 명동2가</td>\n",
       "      <td>세븐일레븐</td>\n",
       "      <td>6690</td>\n",
       "      <td>중구</td>\n",
       "      <td>명동2가</td>\n",
       "      <td>0</td>\n",
       "      <td>7/11</td>\n",
       "    </tr>\n",
       "    <tr>\n",
       "      <th>172</th>\n",
       "      <td>용산구 한남동</td>\n",
       "      <td>CU 한남리첸시아점</td>\n",
       "      <td>6600</td>\n",
       "      <td>용산구</td>\n",
       "      <td>한남동</td>\n",
       "      <td>0</td>\n",
       "      <td>CU</td>\n",
       "    </tr>\n",
       "    <tr>\n",
       "      <th>37</th>\n",
       "      <td>강서구 등촌동</td>\n",
       "      <td>세븐일레븐 서울호서대점</td>\n",
       "      <td>6600</td>\n",
       "      <td>강서구</td>\n",
       "      <td>등촌동</td>\n",
       "      <td>0</td>\n",
       "      <td>7/11</td>\n",
       "    </tr>\n",
       "    <tr>\n",
       "      <th>161</th>\n",
       "      <td>서대문구 현저동</td>\n",
       "      <td>CU 독립문극동점</td>\n",
       "      <td>6500</td>\n",
       "      <td>서대문구</td>\n",
       "      <td>현저동</td>\n",
       "      <td>0</td>\n",
       "      <td>CU</td>\n",
       "    </tr>\n",
       "    <tr>\n",
       "      <th>89</th>\n",
       "      <td>성동구 사근동</td>\n",
       "      <td>세븐일레븐 한양대학교병원점</td>\n",
       "      <td>6500</td>\n",
       "      <td>성동구</td>\n",
       "      <td>사근동</td>\n",
       "      <td>0</td>\n",
       "      <td>7/11</td>\n",
       "    </tr>\n",
       "    <tr>\n",
       "      <th>72</th>\n",
       "      <td>마포구 동교동</td>\n",
       "      <td>세븐일레븐 마포홍익점</td>\n",
       "      <td>6500</td>\n",
       "      <td>마포구</td>\n",
       "      <td>동교동</td>\n",
       "      <td>0</td>\n",
       "      <td>7/11</td>\n",
       "    </tr>\n",
       "    <tr>\n",
       "      <th>30</th>\n",
       "      <td>강남구 청담동</td>\n",
       "      <td>세븐일레븐 청담그린점</td>\n",
       "      <td>6500</td>\n",
       "      <td>강남구</td>\n",
       "      <td>청담동</td>\n",
       "      <td>0</td>\n",
       "      <td>7/11</td>\n",
       "    </tr>\n",
       "  </tbody>\n",
       "</table>\n",
       "</div>"
      ],
      "text/plain": [
       "         area                  company  hourly_wage area1 area2  outlier  name\n",
       "173  용산구 이태원동               CU 이태원프리덤점         7500   용산구  이태원동        0    CU\n",
       "29    강남구 논현동                 세븐일레븐편의점         7500   강남구   논현동        0  7/11\n",
       "160  서대문구 신촌동  BGF Retail CU 신촌세브란스병원점         6900  서대문구   신촌동        0    CU\n",
       "135   중구 명동2가                    세븐일레븐         6690    중구  명동2가        0  7/11\n",
       "172   용산구 한남동               CU 한남리첸시아점         6600   용산구   한남동        0    CU\n",
       "37    강서구 등촌동             세븐일레븐 서울호서대점         6600   강서구   등촌동        0  7/11\n",
       "161  서대문구 현저동                CU 독립문극동점         6500  서대문구   현저동        0    CU\n",
       "89    성동구 사근동           세븐일레븐 한양대학교병원점         6500   성동구   사근동        0  7/11\n",
       "72    마포구 동교동              세븐일레븐 마포홍익점         6500   마포구   동교동        0  7/11\n",
       "30    강남구 청담동              세븐일레븐 청담그린점         6500   강남구   청담동        0  7/11"
      ]
     },
     "execution_count": 15,
     "metadata": {},
     "output_type": "execute_result"
    }
   ],
   "source": [
    "high_wage.sort_values(by='hourly_wage', ascending=0).head(10)"
   ]
  },
  {
   "cell_type": "markdown",
   "metadata": {},
   "source": [
    "이태원과 강남 논현동의 편의점은 시급 7,500원..\n",
    "\n",
    "2가지 조건 적용, 마포구에 있으면서 시급이 6,000원 이상인 데이터 추출 -> & 연산자"
   ]
  },
  {
   "cell_type": "code",
   "execution_count": 107,
   "metadata": {},
   "outputs": [
    {
     "data": {
      "text/html": [
       "<div>\n",
       "<style scoped>\n",
       "    .dataframe tbody tr th:only-of-type {\n",
       "        vertical-align: middle;\n",
       "    }\n",
       "\n",
       "    .dataframe tbody tr th {\n",
       "        vertical-align: top;\n",
       "    }\n",
       "\n",
       "    .dataframe thead th {\n",
       "        text-align: right;\n",
       "    }\n",
       "</style>\n",
       "<table border=\"1\" class=\"dataframe\">\n",
       "  <thead>\n",
       "    <tr style=\"text-align: right;\">\n",
       "      <th></th>\n",
       "      <th>area</th>\n",
       "      <th>company</th>\n",
       "      <th>hourly_wage</th>\n",
       "      <th>area1</th>\n",
       "      <th>area2</th>\n",
       "      <th>outlier</th>\n",
       "      <th>name</th>\n",
       "    </tr>\n",
       "  </thead>\n",
       "  <tbody>\n",
       "    <tr>\n",
       "      <th>66</th>\n",
       "      <td>마포구 성산2동</td>\n",
       "      <td>세븐일레븐 마포 성산대로점</td>\n",
       "      <td>6000</td>\n",
       "      <td>마포구</td>\n",
       "      <td>성산2동</td>\n",
       "      <td>0</td>\n",
       "      <td>7/11</td>\n",
       "    </tr>\n",
       "    <tr>\n",
       "      <th>68</th>\n",
       "      <td>마포구 서교동</td>\n",
       "      <td>세븐일레븐 홍대클럽점</td>\n",
       "      <td>6000</td>\n",
       "      <td>마포구</td>\n",
       "      <td>서교동</td>\n",
       "      <td>0</td>\n",
       "      <td>7/11</td>\n",
       "    </tr>\n",
       "    <tr>\n",
       "      <th>72</th>\n",
       "      <td>마포구 동교동</td>\n",
       "      <td>세븐일레븐 마포홍익점</td>\n",
       "      <td>6500</td>\n",
       "      <td>마포구</td>\n",
       "      <td>동교동</td>\n",
       "      <td>0</td>\n",
       "      <td>7/11</td>\n",
       "    </tr>\n",
       "  </tbody>\n",
       "</table>\n",
       "</div>"
      ],
      "text/plain": [
       "        area         company  hourly_wage area1 area2  outlier  name\n",
       "66  마포구 성산2동  세븐일레븐 마포 성산대로점         6000   마포구  성산2동        0  7/11\n",
       "68   마포구 서교동     세븐일레븐 홍대클럽점         6000   마포구   서교동        0  7/11\n",
       "72   마포구 동교동     세븐일레븐 마포홍익점         6500   마포구   동교동        0  7/11"
      ]
     },
     "execution_count": 107,
     "metadata": {},
     "output_type": "execute_result"
    }
   ],
   "source": [
    "b = data[(data.hourly_wage >= 6000) & (data.area1 =='마포구')]\n",
    "b"
   ]
  },
  {
   "cell_type": "markdown",
   "metadata": {},
   "source": [
    "특정 문자가 포함된 데이터 추출 -> contains()"
   ]
  },
  {
   "cell_type": "code",
   "execution_count": 108,
   "metadata": {},
   "outputs": [
    {
     "data": {
      "text/html": [
       "<div>\n",
       "<style scoped>\n",
       "    .dataframe tbody tr th:only-of-type {\n",
       "        vertical-align: middle;\n",
       "    }\n",
       "\n",
       "    .dataframe tbody tr th {\n",
       "        vertical-align: top;\n",
       "    }\n",
       "\n",
       "    .dataframe thead th {\n",
       "        text-align: right;\n",
       "    }\n",
       "</style>\n",
       "<table border=\"1\" class=\"dataframe\">\n",
       "  <thead>\n",
       "    <tr style=\"text-align: right;\">\n",
       "      <th></th>\n",
       "      <th>area</th>\n",
       "      <th>company</th>\n",
       "      <th>hourly_wage</th>\n",
       "      <th>area1</th>\n",
       "      <th>area2</th>\n",
       "      <th>outlier</th>\n",
       "      <th>name</th>\n",
       "    </tr>\n",
       "  </thead>\n",
       "  <tbody>\n",
       "    <tr>\n",
       "      <th>141</th>\n",
       "      <td>강남구 논현동</td>\n",
       "      <td>CU 논현힐탑점</td>\n",
       "      <td>5600</td>\n",
       "      <td>강남구</td>\n",
       "      <td>논현동</td>\n",
       "      <td>0</td>\n",
       "      <td>CU</td>\n",
       "    </tr>\n",
       "    <tr>\n",
       "      <th>142</th>\n",
       "      <td>강남구 논현동</td>\n",
       "      <td>CU논현한미점</td>\n",
       "      <td>6000</td>\n",
       "      <td>강남구</td>\n",
       "      <td>논현동</td>\n",
       "      <td>0</td>\n",
       "      <td>CU</td>\n",
       "    </tr>\n",
       "    <tr>\n",
       "      <th>143</th>\n",
       "      <td>강남구 신사동</td>\n",
       "      <td>CU 로데오점</td>\n",
       "      <td>6100</td>\n",
       "      <td>강남구</td>\n",
       "      <td>신사동</td>\n",
       "      <td>0</td>\n",
       "      <td>CU</td>\n",
       "    </tr>\n",
       "    <tr>\n",
       "      <th>144</th>\n",
       "      <td>강남구 대치4동</td>\n",
       "      <td>CU 대치본점</td>\n",
       "      <td>6000</td>\n",
       "      <td>강남구</td>\n",
       "      <td>대치4동</td>\n",
       "      <td>0</td>\n",
       "      <td>CU</td>\n",
       "    </tr>\n",
       "    <tr>\n",
       "      <th>145</th>\n",
       "      <td>강남구 논현1동</td>\n",
       "      <td>CUBE pc방</td>\n",
       "      <td>6500</td>\n",
       "      <td>강남구</td>\n",
       "      <td>논현1동</td>\n",
       "      <td>0</td>\n",
       "      <td>CU</td>\n",
       "    </tr>\n",
       "  </tbody>\n",
       "</table>\n",
       "</div>"
      ],
      "text/plain": [
       "         area   company  hourly_wage area1 area2  outlier name\n",
       "141   강남구 논현동  CU 논현힐탑점         5600   강남구   논현동        0   CU\n",
       "142   강남구 논현동   CU논현한미점         6000   강남구   논현동        0   CU\n",
       "143   강남구 신사동   CU 로데오점         6100   강남구   신사동        0   CU\n",
       "144  강남구 대치4동   CU 대치본점         6000   강남구  대치4동        0   CU\n",
       "145  강남구 논현1동  CUBE pc방         6500   강남구  논현1동        0   CU"
      ]
     },
     "execution_count": 108,
     "metadata": {},
     "output_type": "execute_result"
    }
   ],
   "source": [
    "cu = data[data.company.str.contains('CU')]\n",
    "cu.head()"
   ]
  },
  {
   "cell_type": "markdown",
   "metadata": {},
   "source": [
    "CUBE PC방도 포함.. -> contains(): 대소문자 구분\n",
    "data[data.company.str.upper().str.contains('PC')"
   ]
  },
  {
   "cell_type": "code",
   "execution_count": 16,
   "metadata": {},
   "outputs": [
    {
     "data": {
      "text/html": [
       "<div>\n",
       "<style scoped>\n",
       "    .dataframe tbody tr th:only-of-type {\n",
       "        vertical-align: middle;\n",
       "    }\n",
       "\n",
       "    .dataframe tbody tr th {\n",
       "        vertical-align: top;\n",
       "    }\n",
       "\n",
       "    .dataframe thead th {\n",
       "        text-align: right;\n",
       "    }\n",
       "</style>\n",
       "<table border=\"1\" class=\"dataframe\">\n",
       "  <thead>\n",
       "    <tr style=\"text-align: right;\">\n",
       "      <th></th>\n",
       "      <th>area</th>\n",
       "      <th>company</th>\n",
       "      <th>hourly_wage</th>\n",
       "      <th>area1</th>\n",
       "      <th>area2</th>\n",
       "      <th>outlier</th>\n",
       "      <th>name</th>\n",
       "    </tr>\n",
       "  </thead>\n",
       "  <tbody>\n",
       "    <tr>\n",
       "      <th>145</th>\n",
       "      <td>강남구 논현1동</td>\n",
       "      <td>CUBE pc방</td>\n",
       "      <td>6500</td>\n",
       "      <td>강남구</td>\n",
       "      <td>논현1동</td>\n",
       "      <td>0</td>\n",
       "      <td>CU</td>\n",
       "    </tr>\n",
       "  </tbody>\n",
       "</table>\n",
       "</div>"
      ],
      "text/plain": [
       "         area   company  hourly_wage area1 area2  outlier name\n",
       "145  강남구 논현1동  CUBE pc방         6500   강남구  논현1동        0   CU"
      ]
     },
     "execution_count": 16,
     "metadata": {},
     "output_type": "execute_result"
    }
   ],
   "source": [
    "cu = data[data.company.str.contains('pc방')]\n",
    "cu.head()"
   ]
  },
  {
   "cell_type": "markdown",
   "metadata": {},
   "source": [
    "컬럼을 새로 추가할 땐 그냥 없는 컬럼에 값을 대입하는 코드를 쓰면 됩니다. seoul 이라는 컬럼을 추가하고 값에 in seoul 을 넣어보겠습니다."
   ]
  },
  {
   "cell_type": "code",
   "execution_count": 111,
   "metadata": {},
   "outputs": [
    {
     "data": {
      "text/html": [
       "<div>\n",
       "<style scoped>\n",
       "    .dataframe tbody tr th:only-of-type {\n",
       "        vertical-align: middle;\n",
       "    }\n",
       "\n",
       "    .dataframe tbody tr th {\n",
       "        vertical-align: top;\n",
       "    }\n",
       "\n",
       "    .dataframe thead th {\n",
       "        text-align: right;\n",
       "    }\n",
       "</style>\n",
       "<table border=\"1\" class=\"dataframe\">\n",
       "  <thead>\n",
       "    <tr style=\"text-align: right;\">\n",
       "      <th></th>\n",
       "      <th>area</th>\n",
       "      <th>company</th>\n",
       "      <th>hourly_wage</th>\n",
       "      <th>area1</th>\n",
       "      <th>area2</th>\n",
       "      <th>outlier</th>\n",
       "      <th>name</th>\n",
       "      <th>seoul</th>\n",
       "    </tr>\n",
       "  </thead>\n",
       "  <tbody>\n",
       "    <tr>\n",
       "      <th>0</th>\n",
       "      <td>강남구 삼성동</td>\n",
       "      <td>gs25 오크우드점</td>\n",
       "      <td>5600</td>\n",
       "      <td>강남구</td>\n",
       "      <td>삼성동</td>\n",
       "      <td>0</td>\n",
       "      <td>gs25</td>\n",
       "      <td>in seoul</td>\n",
       "    </tr>\n",
       "    <tr>\n",
       "      <th>1</th>\n",
       "      <td>강남구 삼성동</td>\n",
       "      <td>gs25 코엑스점</td>\n",
       "      <td>5700</td>\n",
       "      <td>강남구</td>\n",
       "      <td>삼성동</td>\n",
       "      <td>0</td>\n",
       "      <td>gs25</td>\n",
       "      <td>in seoul</td>\n",
       "    </tr>\n",
       "    <tr>\n",
       "      <th>2</th>\n",
       "      <td>강서구 화곡동</td>\n",
       "      <td>gs25편의점</td>\n",
       "      <td>5600</td>\n",
       "      <td>강서구</td>\n",
       "      <td>화곡동</td>\n",
       "      <td>0</td>\n",
       "      <td>gs25</td>\n",
       "      <td>in seoul</td>\n",
       "    </tr>\n",
       "    <tr>\n",
       "      <th>3</th>\n",
       "      <td>광진구 군자동</td>\n",
       "      <td>gs25</td>\n",
       "      <td>5580</td>\n",
       "      <td>광진구</td>\n",
       "      <td>군자동</td>\n",
       "      <td>0</td>\n",
       "      <td>gs25</td>\n",
       "      <td>in seoul</td>\n",
       "    </tr>\n",
       "    <tr>\n",
       "      <th>4</th>\n",
       "      <td>광진구 중곡동</td>\n",
       "      <td>gs25중곡대원점</td>\n",
       "      <td>5580</td>\n",
       "      <td>광진구</td>\n",
       "      <td>중곡동</td>\n",
       "      <td>0</td>\n",
       "      <td>gs25</td>\n",
       "      <td>in seoul</td>\n",
       "    </tr>\n",
       "  </tbody>\n",
       "</table>\n",
       "</div>"
      ],
      "text/plain": [
       "      area     company  hourly_wage area1 area2  outlier  name     seoul\n",
       "0  강남구 삼성동  gs25 오크우드점         5600   강남구   삼성동        0  gs25  in seoul\n",
       "1  강남구 삼성동   gs25 코엑스점         5700   강남구   삼성동        0  gs25  in seoul\n",
       "2  강서구 화곡동     gs25편의점         5600   강서구   화곡동        0  gs25  in seoul\n",
       "3  광진구 군자동        gs25         5580   광진구   군자동        0  gs25  in seoul\n",
       "4  광진구 중곡동   gs25중곡대원점         5580   광진구   중곡동        0  gs25  in seoul"
      ]
     },
     "execution_count": 111,
     "metadata": {},
     "output_type": "execute_result"
    }
   ],
   "source": [
    "#컬럼 접근 시 data.company는 되지만, 컬럼 생성시엔 data['']만 가능함\n",
    "data['seoul'] = 'in seoul'\n",
    "data.head()"
   ]
  },
  {
   "cell_type": "markdown",
   "metadata": {},
   "source": [
    "DataFrame 객체의 값에 접근 시, data['company'] 와 같이 값을 접근 할 수도 있고 data.company 와 같이 접근 가능\n",
    "단, 다만 컬럼 생성시엔 data['new_column'] 만 사용할 수 있음"
   ]
  },
  {
   "cell_type": "code",
   "execution_count": 112,
   "metadata": {},
   "outputs": [
    {
     "data": {
      "text/html": [
       "<div>\n",
       "<style scoped>\n",
       "    .dataframe tbody tr th:only-of-type {\n",
       "        vertical-align: middle;\n",
       "    }\n",
       "\n",
       "    .dataframe tbody tr th {\n",
       "        vertical-align: top;\n",
       "    }\n",
       "\n",
       "    .dataframe thead th {\n",
       "        text-align: right;\n",
       "    }\n",
       "</style>\n",
       "<table border=\"1\" class=\"dataframe\">\n",
       "  <thead>\n",
       "    <tr style=\"text-align: right;\">\n",
       "      <th></th>\n",
       "      <th>area</th>\n",
       "      <th>company</th>\n",
       "      <th>hourly_wage</th>\n",
       "      <th>area1</th>\n",
       "      <th>area2</th>\n",
       "      <th>outlier</th>\n",
       "      <th>name</th>\n",
       "      <th>seoul</th>\n",
       "      <th>more_than_6000</th>\n",
       "    </tr>\n",
       "  </thead>\n",
       "  <tbody>\n",
       "    <tr>\n",
       "      <th>0</th>\n",
       "      <td>강남구 삼성동</td>\n",
       "      <td>gs25 오크우드점</td>\n",
       "      <td>5600</td>\n",
       "      <td>강남구</td>\n",
       "      <td>삼성동</td>\n",
       "      <td>0</td>\n",
       "      <td>gs25</td>\n",
       "      <td>in seoul</td>\n",
       "      <td>False</td>\n",
       "    </tr>\n",
       "    <tr>\n",
       "      <th>1</th>\n",
       "      <td>강남구 삼성동</td>\n",
       "      <td>gs25 코엑스점</td>\n",
       "      <td>5700</td>\n",
       "      <td>강남구</td>\n",
       "      <td>삼성동</td>\n",
       "      <td>0</td>\n",
       "      <td>gs25</td>\n",
       "      <td>in seoul</td>\n",
       "      <td>False</td>\n",
       "    </tr>\n",
       "    <tr>\n",
       "      <th>2</th>\n",
       "      <td>강서구 화곡동</td>\n",
       "      <td>gs25편의점</td>\n",
       "      <td>5600</td>\n",
       "      <td>강서구</td>\n",
       "      <td>화곡동</td>\n",
       "      <td>0</td>\n",
       "      <td>gs25</td>\n",
       "      <td>in seoul</td>\n",
       "      <td>False</td>\n",
       "    </tr>\n",
       "    <tr>\n",
       "      <th>3</th>\n",
       "      <td>광진구 군자동</td>\n",
       "      <td>gs25</td>\n",
       "      <td>5580</td>\n",
       "      <td>광진구</td>\n",
       "      <td>군자동</td>\n",
       "      <td>0</td>\n",
       "      <td>gs25</td>\n",
       "      <td>in seoul</td>\n",
       "      <td>False</td>\n",
       "    </tr>\n",
       "    <tr>\n",
       "      <th>4</th>\n",
       "      <td>광진구 중곡동</td>\n",
       "      <td>gs25중곡대원점</td>\n",
       "      <td>5580</td>\n",
       "      <td>광진구</td>\n",
       "      <td>중곡동</td>\n",
       "      <td>0</td>\n",
       "      <td>gs25</td>\n",
       "      <td>in seoul</td>\n",
       "      <td>False</td>\n",
       "    </tr>\n",
       "  </tbody>\n",
       "</table>\n",
       "</div>"
      ],
      "text/plain": [
       "      area     company  hourly_wage area1 area2  outlier  name     seoul  \\\n",
       "0  강남구 삼성동  gs25 오크우드점         5600   강남구   삼성동        0  gs25  in seoul   \n",
       "1  강남구 삼성동   gs25 코엑스점         5700   강남구   삼성동        0  gs25  in seoul   \n",
       "2  강서구 화곡동     gs25편의점         5600   강서구   화곡동        0  gs25  in seoul   \n",
       "3  광진구 군자동        gs25         5580   광진구   군자동        0  gs25  in seoul   \n",
       "4  광진구 중곡동   gs25중곡대원점         5580   광진구   중곡동        0  gs25  in seoul   \n",
       "\n",
       "   more_than_6000  \n",
       "0           False  \n",
       "1           False  \n",
       "2           False  \n",
       "3           False  \n",
       "4           False  "
      ]
     },
     "execution_count": 112,
     "metadata": {},
     "output_type": "execute_result"
    }
   ],
   "source": [
    "data['more_than_6000'] = data.hourly_wage > 6000\n",
    "data.head()"
   ]
  },
  {
   "cell_type": "markdown",
   "metadata": {},
   "source": [
    "- 시급 6,000원 이상인 항목에만 기술통계 분석\n",
    "- more_than_6000 컬럼에 명시"
   ]
  },
  {
   "cell_type": "code",
   "execution_count": 113,
   "metadata": {},
   "outputs": [
    {
     "data": {
      "text/html": [
       "<div>\n",
       "<style scoped>\n",
       "    .dataframe tbody tr th:only-of-type {\n",
       "        vertical-align: middle;\n",
       "    }\n",
       "\n",
       "    .dataframe tbody tr th {\n",
       "        vertical-align: top;\n",
       "    }\n",
       "\n",
       "    .dataframe thead th {\n",
       "        text-align: right;\n",
       "    }\n",
       "</style>\n",
       "<table border=\"1\" class=\"dataframe\">\n",
       "  <thead>\n",
       "    <tr style=\"text-align: right;\">\n",
       "      <th></th>\n",
       "      <th>hourly_wage</th>\n",
       "      <th>outlier</th>\n",
       "    </tr>\n",
       "  </thead>\n",
       "  <tbody>\n",
       "    <tr>\n",
       "      <th>count</th>\n",
       "      <td>25.000000</td>\n",
       "      <td>25.0</td>\n",
       "    </tr>\n",
       "    <tr>\n",
       "      <th>mean</th>\n",
       "      <td>6518.000000</td>\n",
       "      <td>0.0</td>\n",
       "    </tr>\n",
       "    <tr>\n",
       "      <th>std</th>\n",
       "      <td>343.923441</td>\n",
       "      <td>0.0</td>\n",
       "    </tr>\n",
       "    <tr>\n",
       "      <th>min</th>\n",
       "      <td>6100.000000</td>\n",
       "      <td>0.0</td>\n",
       "    </tr>\n",
       "    <tr>\n",
       "      <th>25%</th>\n",
       "      <td>6300.000000</td>\n",
       "      <td>0.0</td>\n",
       "    </tr>\n",
       "    <tr>\n",
       "      <th>50%</th>\n",
       "      <td>6500.000000</td>\n",
       "      <td>0.0</td>\n",
       "    </tr>\n",
       "    <tr>\n",
       "      <th>75%</th>\n",
       "      <td>6500.000000</td>\n",
       "      <td>0.0</td>\n",
       "    </tr>\n",
       "    <tr>\n",
       "      <th>max</th>\n",
       "      <td>7500.000000</td>\n",
       "      <td>0.0</td>\n",
       "    </tr>\n",
       "  </tbody>\n",
       "</table>\n",
       "</div>"
      ],
      "text/plain": [
       "       hourly_wage  outlier\n",
       "count    25.000000     25.0\n",
       "mean   6518.000000      0.0\n",
       "std     343.923441      0.0\n",
       "min    6100.000000      0.0\n",
       "25%    6300.000000      0.0\n",
       "50%    6500.000000      0.0\n",
       "75%    6500.000000      0.0\n",
       "max    7500.000000      0.0"
      ]
     },
     "execution_count": 113,
     "metadata": {},
     "output_type": "execute_result"
    }
   ],
   "source": [
    "data[data.more_than_6000 == True].describe()"
   ]
  },
  {
   "cell_type": "markdown",
   "metadata": {},
   "source": [
    "그럼 조건을 이용한 컬럼 생성 시, 특정 값 입력을 위해 함수 생성"
   ]
  },
  {
   "cell_type": "code",
   "execution_count": 115,
   "metadata": {},
   "outputs": [],
   "source": [
    "def more_than_6000(x):\n",
    "    if x > 6000:\n",
    "        return 'A Group'\n",
    "    else:\n",
    "        return 'B Group'"
   ]
  },
  {
   "cell_type": "markdown",
   "metadata": {},
   "source": [
    "전체 데이터에서 구 정보와 시급 데이터만을 추출하여 시급 기준 내림차순으로 정렬"
   ]
  },
  {
   "cell_type": "code",
   "execution_count": 116,
   "metadata": {},
   "outputs": [
    {
     "data": {
      "text/html": [
       "<div>\n",
       "<style scoped>\n",
       "    .dataframe tbody tr th:only-of-type {\n",
       "        vertical-align: middle;\n",
       "    }\n",
       "\n",
       "    .dataframe tbody tr th {\n",
       "        vertical-align: top;\n",
       "    }\n",
       "\n",
       "    .dataframe thead th {\n",
       "        text-align: right;\n",
       "    }\n",
       "</style>\n",
       "<table border=\"1\" class=\"dataframe\">\n",
       "  <thead>\n",
       "    <tr style=\"text-align: right;\">\n",
       "      <th></th>\n",
       "      <th>area</th>\n",
       "      <th>company</th>\n",
       "      <th>hourly_wage</th>\n",
       "      <th>area1</th>\n",
       "      <th>area2</th>\n",
       "      <th>outlier</th>\n",
       "      <th>name</th>\n",
       "      <th>seoul</th>\n",
       "      <th>more_than_6000</th>\n",
       "      <th>more_than_6000_2</th>\n",
       "    </tr>\n",
       "  </thead>\n",
       "  <tbody>\n",
       "    <tr>\n",
       "      <th>0</th>\n",
       "      <td>강남구 삼성동</td>\n",
       "      <td>gs25 오크우드점</td>\n",
       "      <td>5600</td>\n",
       "      <td>강남구</td>\n",
       "      <td>삼성동</td>\n",
       "      <td>0</td>\n",
       "      <td>gs25</td>\n",
       "      <td>in seoul</td>\n",
       "      <td>False</td>\n",
       "      <td>B Group</td>\n",
       "    </tr>\n",
       "    <tr>\n",
       "      <th>1</th>\n",
       "      <td>강남구 삼성동</td>\n",
       "      <td>gs25 코엑스점</td>\n",
       "      <td>5700</td>\n",
       "      <td>강남구</td>\n",
       "      <td>삼성동</td>\n",
       "      <td>0</td>\n",
       "      <td>gs25</td>\n",
       "      <td>in seoul</td>\n",
       "      <td>False</td>\n",
       "      <td>B Group</td>\n",
       "    </tr>\n",
       "    <tr>\n",
       "      <th>2</th>\n",
       "      <td>강서구 화곡동</td>\n",
       "      <td>gs25편의점</td>\n",
       "      <td>5600</td>\n",
       "      <td>강서구</td>\n",
       "      <td>화곡동</td>\n",
       "      <td>0</td>\n",
       "      <td>gs25</td>\n",
       "      <td>in seoul</td>\n",
       "      <td>False</td>\n",
       "      <td>B Group</td>\n",
       "    </tr>\n",
       "    <tr>\n",
       "      <th>3</th>\n",
       "      <td>광진구 군자동</td>\n",
       "      <td>gs25</td>\n",
       "      <td>5580</td>\n",
       "      <td>광진구</td>\n",
       "      <td>군자동</td>\n",
       "      <td>0</td>\n",
       "      <td>gs25</td>\n",
       "      <td>in seoul</td>\n",
       "      <td>False</td>\n",
       "      <td>B Group</td>\n",
       "    </tr>\n",
       "  </tbody>\n",
       "</table>\n",
       "</div>"
      ],
      "text/plain": [
       "      area     company  hourly_wage area1 area2  outlier  name     seoul  \\\n",
       "0  강남구 삼성동  gs25 오크우드점         5600   강남구   삼성동        0  gs25  in seoul   \n",
       "1  강남구 삼성동   gs25 코엑스점         5700   강남구   삼성동        0  gs25  in seoul   \n",
       "2  강서구 화곡동     gs25편의점         5600   강서구   화곡동        0  gs25  in seoul   \n",
       "3  광진구 군자동        gs25         5580   광진구   군자동        0  gs25  in seoul   \n",
       "\n",
       "   more_than_6000 more_than_6000_2  \n",
       "0           False          B Group  \n",
       "1           False          B Group  \n",
       "2           False          B Group  \n",
       "3           False          B Group  "
      ]
     },
     "execution_count": 116,
     "metadata": {},
     "output_type": "execute_result"
    }
   ],
   "source": [
    "data['more_than_6000_2'] = data.hourly_wage.map(lambda x : more_than_6000(x))\n",
    "data.head(4)"
   ]
  },
  {
   "cell_type": "code",
   "execution_count": 118,
   "metadata": {},
   "outputs": [
    {
     "data": {
      "text/html": [
       "<div>\n",
       "<style scoped>\n",
       "    .dataframe tbody tr th:only-of-type {\n",
       "        vertical-align: middle;\n",
       "    }\n",
       "\n",
       "    .dataframe tbody tr th {\n",
       "        vertical-align: top;\n",
       "    }\n",
       "\n",
       "    .dataframe thead th {\n",
       "        text-align: right;\n",
       "    }\n",
       "</style>\n",
       "<table border=\"1\" class=\"dataframe\">\n",
       "  <thead>\n",
       "    <tr style=\"text-align: right;\">\n",
       "      <th></th>\n",
       "      <th>area1</th>\n",
       "      <th>hourly_wage</th>\n",
       "    </tr>\n",
       "  </thead>\n",
       "  <tbody>\n",
       "    <tr>\n",
       "      <th>173</th>\n",
       "      <td>용산구</td>\n",
       "      <td>7500</td>\n",
       "    </tr>\n",
       "    <tr>\n",
       "      <th>29</th>\n",
       "      <td>강남구</td>\n",
       "      <td>7500</td>\n",
       "    </tr>\n",
       "    <tr>\n",
       "      <th>160</th>\n",
       "      <td>서대문구</td>\n",
       "      <td>6900</td>\n",
       "    </tr>\n",
       "    <tr>\n",
       "      <th>135</th>\n",
       "      <td>중구</td>\n",
       "      <td>6690</td>\n",
       "    </tr>\n",
       "    <tr>\n",
       "      <th>37</th>\n",
       "      <td>강서구</td>\n",
       "      <td>6600</td>\n",
       "    </tr>\n",
       "    <tr>\n",
       "      <th>172</th>\n",
       "      <td>용산구</td>\n",
       "      <td>6600</td>\n",
       "    </tr>\n",
       "    <tr>\n",
       "      <th>30</th>\n",
       "      <td>강남구</td>\n",
       "      <td>6500</td>\n",
       "    </tr>\n",
       "    <tr>\n",
       "      <th>53</th>\n",
       "      <td>구로구</td>\n",
       "      <td>6500</td>\n",
       "    </tr>\n",
       "    <tr>\n",
       "      <th>60</th>\n",
       "      <td>도봉구</td>\n",
       "      <td>6500</td>\n",
       "    </tr>\n",
       "    <tr>\n",
       "      <th>161</th>\n",
       "      <td>서대문구</td>\n",
       "      <td>6500</td>\n",
       "    </tr>\n",
       "    <tr>\n",
       "      <th>72</th>\n",
       "      <td>마포구</td>\n",
       "      <td>6500</td>\n",
       "    </tr>\n",
       "    <tr>\n",
       "      <th>89</th>\n",
       "      <td>성동구</td>\n",
       "      <td>6500</td>\n",
       "    </tr>\n",
       "    <tr>\n",
       "      <th>145</th>\n",
       "      <td>강남구</td>\n",
       "      <td>6500</td>\n",
       "    </tr>\n",
       "    <tr>\n",
       "      <th>137</th>\n",
       "      <td>중구</td>\n",
       "      <td>6500</td>\n",
       "    </tr>\n",
       "    <tr>\n",
       "      <th>121</th>\n",
       "      <td>종로구</td>\n",
       "      <td>6480</td>\n",
       "    </tr>\n",
       "    <tr>\n",
       "      <th>128</th>\n",
       "      <td>종로구</td>\n",
       "      <td>6480</td>\n",
       "    </tr>\n",
       "    <tr>\n",
       "      <th>133</th>\n",
       "      <td>중구</td>\n",
       "      <td>6300</td>\n",
       "    </tr>\n",
       "    <tr>\n",
       "      <th>151</th>\n",
       "      <td>금천구</td>\n",
       "      <td>6300</td>\n",
       "    </tr>\n",
       "    <tr>\n",
       "      <th>152</th>\n",
       "      <td>금천구</td>\n",
       "      <td>6300</td>\n",
       "    </tr>\n",
       "    <tr>\n",
       "      <th>61</th>\n",
       "      <td>동대문구</td>\n",
       "      <td>6300</td>\n",
       "    </tr>\n",
       "    <tr>\n",
       "      <th>13</th>\n",
       "      <td>영등포구</td>\n",
       "      <td>6300</td>\n",
       "    </tr>\n",
       "    <tr>\n",
       "      <th>18</th>\n",
       "      <td>강남구</td>\n",
       "      <td>6200</td>\n",
       "    </tr>\n",
       "    <tr>\n",
       "      <th>107</th>\n",
       "      <td>영등포구</td>\n",
       "      <td>6200</td>\n",
       "    </tr>\n",
       "    <tr>\n",
       "      <th>56</th>\n",
       "      <td>구로구</td>\n",
       "      <td>6200</td>\n",
       "    </tr>\n",
       "    <tr>\n",
       "      <th>143</th>\n",
       "      <td>강남구</td>\n",
       "      <td>6100</td>\n",
       "    </tr>\n",
       "  </tbody>\n",
       "</table>\n",
       "</div>"
      ],
      "text/plain": [
       "    area1  hourly_wage\n",
       "173   용산구         7500\n",
       "29    강남구         7500\n",
       "160  서대문구         6900\n",
       "135    중구         6690\n",
       "37    강서구         6600\n",
       "172   용산구         6600\n",
       "30    강남구         6500\n",
       "53    구로구         6500\n",
       "60    도봉구         6500\n",
       "161  서대문구         6500\n",
       "72    마포구         6500\n",
       "89    성동구         6500\n",
       "145   강남구         6500\n",
       "137    중구         6500\n",
       "121   종로구         6480\n",
       "128   종로구         6480\n",
       "133    중구         6300\n",
       "151   금천구         6300\n",
       "152   금천구         6300\n",
       "61   동대문구         6300\n",
       "13   영등포구         6300\n",
       "18    강남구         6200\n",
       "107  영등포구         6200\n",
       "56    구로구         6200\n",
       "143   강남구         6100"
      ]
     },
     "execution_count": 118,
     "metadata": {},
     "output_type": "execute_result"
    }
   ],
   "source": [
    "data2 = data[data.more_than_6000 == True][['area1', 'hourly_wage']]\n",
    "data2 = data2.sort_values(by='hourly_wage', ascending=0)\n",
    "data2"
   ]
  },
  {
   "cell_type": "markdown",
   "metadata": {},
   "source": [
    "결과 저장(CSV).."
   ]
  },
  {
   "cell_type": "code",
   "execution_count": 119,
   "metadata": {},
   "outputs": [],
   "source": [
    "data2.to_csv('data/data2.csv', index=False)"
   ]
  },
  {
   "cell_type": "code",
   "execution_count": 84,
   "metadata": {},
   "outputs": [
    {
     "data": {
      "image/png": "[encoded data removed]",
      "text/plain": [
       "<Figure size 1008x288 with 1 Axes>"
      ]
     },
     "metadata": {},
     "output_type": "display_data"
    }
   ],
   "source": [
    "data.hourly_wage.hist(bins=10)\n",
    "plt.show()"
   ]
  },
  {
   "cell_type": "code",
   "execution_count": 18,
   "metadata": {
    "scrolled": true
   },
   "outputs": [
    {
     "data": {
      "image/png": "[encoded data removed]",
      "text/plain": [
       "<Figure size 1008x288 with 1 Axes>"
      ]
     },
     "metadata": {},
     "output_type": "display_data"
    }
   ],
   "source": [
    "data.boxplot(column='hourly_wage', return_type='dict')\n",
    "plt.show()"
   ]
  },
  {
   "cell_type": "markdown",
   "metadata": {},
   "source": [
    "회사별 시각화"
   ]
  },
  {
   "cell_type": "code",
   "execution_count": 121,
   "metadata": {},
   "outputs": [
    {
     "data": {
      "text/plain": [
       "<matplotlib.axes._subplots.AxesSubplot at 0x1b02f039240>"
      ]
     },
     "execution_count": 121,
     "metadata": {},
     "output_type": "execute_result"
    },
    {
     "data": {
      "image/png": "[encoded data removed]",
      "text/plain": [
       "<Figure size 1008x288 with 1 Axes>"
      ]
     },
     "metadata": {},
     "output_type": "display_data"
    }
   ],
   "source": [
    "data.boxplot(column='hourly_wage', by='name')"
   ]
  },
  {
   "cell_type": "markdown",
   "metadata": {},
   "source": [
    "-CU...\n",
    "-area1: 구단위 주소"
   ]
  },
  {
   "cell_type": "code",
   "execution_count": 122,
   "metadata": {},
   "outputs": [
    {
     "data": {
      "text/plain": [
       "(array([ 1,  2,  3,  4,  5,  6,  7,  8,  9, 10, 11, 12, 13, 14, 15, 16, 17,\n",
       "        18, 19, 20, 21, 22, 23, 24, 25]),\n",
       " <a list of 25 Text xticklabel objects>)"
      ]
     },
     "execution_count": 122,
     "metadata": {},
     "output_type": "execute_result"
    },
    {
     "data": {
      "image/png": "[encoded data removed]",
      "text/plain": [
       "<Figure size 1008x288 with 1 Axes>"
      ]
     },
     "metadata": {},
     "output_type": "display_data"
    }
   ],
   "source": [
    "# 지역구별 박스플롯\n",
    "data.boxplot(column='hourly_wage', by='area1')\n",
    "plt.xticks(fontsize=12) # 폰트 사이즈 설정"
   ]
  },
  {
   "cell_type": "code",
   "execution_count": 126,
   "metadata": {},
   "outputs": [
    {
     "data": {
      "text/plain": [
       "(array([5250., 5500., 5750., 6000., 6250., 6500., 6750., 7000., 7250.,\n",
       "        7500., 7750.]), <a list of 11 Text xticklabel objects>)"
      ]
     },
     "execution_count": 126,
     "metadata": {},
     "output_type": "execute_result"
    },
    {
     "data": {
      "image/png": "[encoded data removed]",
      "text/plain": [
       "<Figure size 1008x504 with 1 Axes>"
      ]
     },
     "metadata": {},
     "output_type": "display_data"
    }
   ],
   "source": [
    "plt.rcParams[\"figure.figsize\"] = (14,7)\n",
    "data.boxplot(column='hourly_wage', by='area1', vert=False)\n",
    "plt.xticks(fontsize=6) # 폰트 사이즈 설정\n"
   ]
  },
  {
   "cell_type": "markdown",
   "metadata": {},
   "source": [
    "##### End of Document"
   ]
  }
 ],
 "metadata": {
  "kernelspec": {
   "display_name": "Python 3",
   "language": "python",
   "name": "python3"
  },
  "language_info": {
   "codemirror_mode": {
    "name": "ipython",
    "version": 3
   },
   "file_extension": ".py",
   "mimetype": "text/x-python",
   "name": "python",
   "nbconvert_exporter": "python",
   "pygments_lexer": "ipython3",
   "version": "3.6.5"
  }
 },
 "nbformat": 4,
 "nbformat_minor": 1
}
