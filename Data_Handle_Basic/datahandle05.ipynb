{
 "cells": [
  {
   "cell_type": "markdown",
   "metadata": {},
   "source": [
    "## 초기환경설정 및 라이브러리 로딩(import convention)"
   ]
  },
  {
   "cell_type": "code",
   "execution_count": 1,
   "metadata": {
    "collapsed": true
   },
   "outputs": [],
   "source": [
    "#import 컨벤션\n",
    "import pandas as pd\n",
    "import numpy as np\n",
    "from scipy import stats\n",
    "from random import randint\n",
    "import itertools"
   ]
  },
  {
   "cell_type": "code",
   "execution_count": 2,
   "metadata": {
    "collapsed": true
   },
   "outputs": [],
   "source": [
    "# 시각화 그래프가 jupyter noteboob 상에 출력될 수 있도록 환경설정\n",
    "%matplotlib inline\n",
    "\n",
    "# 시각화 작업을 위한 모듈 로딩작업\n",
    "import matplotlib.pyplot as plt\n",
    "from matplotlib import font_manager, rc\n",
    "\n",
    "# 사용을 원하는 한글폰트에 대한 공식이름 확인\n",
    "font_manager.FontProperties(fname=\"c:/Windows/Fonts/malgun.ttf\").get_name()\n",
    "\n",
    "# 해당 한글폰트를 파이선 그래프에서 사용가능하도록 설정\n",
    "font_name = font_manager.FontProperties(fname=\"c:/Windows/Fonts/malgun.ttf\").get_name()\n",
    "rc('font', family=font_name)"
   ]
  },
  {
   "cell_type": "markdown",
   "metadata": {},
   "source": [
    "## 데이터 로딩"
   ]
  },
  {
   "cell_type": "code",
   "execution_count": 71,
   "metadata": {
    "collapsed": true
   },
   "outputs": [],
   "source": [
    "# abc.csv 파일 메모리로 로딩\n",
    "abc = pd.read_csv('abc.csv', skipinitialspace=True)"
   ]
  },
  {
   "cell_type": "code",
   "execution_count": 4,
   "metadata": {},
   "outputs": [],
   "source": [
    "#정성적(범주형:명목, 서열척도), 정량적(연속형: 등간, 비율척도) 변수를 분리\n",
    "cateV = abc[['gender','job','position','address']]\n",
    "contV = abc.drop(['gender','job','position','address'], axis=1)"
   ]
  },
  {
   "cell_type": "code",
   "execution_count": 5,
   "metadata": {},
   "outputs": [
    {
     "data": {
      "text/html": [
       "<div>\n",
       "<table border=\"1\" class=\"dataframe\">\n",
       "  <thead>\n",
       "    <tr style=\"text-align: right;\">\n",
       "      <th></th>\n",
       "      <th>gender</th>\n",
       "      <th>job</th>\n",
       "      <th>position</th>\n",
       "      <th>address</th>\n",
       "    </tr>\n",
       "  </thead>\n",
       "  <tbody>\n",
       "    <tr>\n",
       "      <th>0</th>\n",
       "      <td>1</td>\n",
       "      <td>1.0</td>\n",
       "      <td>2.0</td>\n",
       "      <td>Seoul</td>\n",
       "    </tr>\n",
       "    <tr>\n",
       "      <th>1</th>\n",
       "      <td>1</td>\n",
       "      <td>2.0</td>\n",
       "      <td>5.0</td>\n",
       "      <td>Busan</td>\n",
       "    </tr>\n",
       "    <tr>\n",
       "      <th>2</th>\n",
       "      <td>1</td>\n",
       "      <td>2.0</td>\n",
       "      <td>4.0</td>\n",
       "      <td>NaN</td>\n",
       "    </tr>\n",
       "    <tr>\n",
       "      <th>3</th>\n",
       "      <td>2</td>\n",
       "      <td>NaN</td>\n",
       "      <td>4.0</td>\n",
       "      <td>Gwangju</td>\n",
       "    </tr>\n",
       "    <tr>\n",
       "      <th>4</th>\n",
       "      <td>1</td>\n",
       "      <td>3.0</td>\n",
       "      <td>5.0</td>\n",
       "      <td>Suwon</td>\n",
       "    </tr>\n",
       "  </tbody>\n",
       "</table>\n",
       "</div>"
      ],
      "text/plain": [
       "   gender  job  position  address\n",
       "0       1  1.0       2.0    Seoul\n",
       "1       1  2.0       5.0    Busan\n",
       "2       1  2.0       4.0      NaN\n",
       "3       2  NaN       4.0  Gwangju\n",
       "4       1  3.0       5.0    Suwon"
      ]
     },
     "execution_count": 5,
     "metadata": {},
     "output_type": "execute_result"
    }
   ],
   "source": [
    "# 범주형 변수로 구성된 데이터프레임 간략조회\n",
    "cateV.head()"
   ]
  },
  {
   "cell_type": "code",
   "execution_count": 6,
   "metadata": {},
   "outputs": [
    {
     "data": {
      "text/html": [
       "<div>\n",
       "<table border=\"1\" class=\"dataframe\">\n",
       "  <thead>\n",
       "    <tr style=\"text-align: right;\">\n",
       "      <th></th>\n",
       "      <th>age</th>\n",
       "      <th>total</th>\n",
       "      <th>check</th>\n",
       "      <th>price</th>\n",
       "      <th>survey</th>\n",
       "    </tr>\n",
       "  </thead>\n",
       "  <tbody>\n",
       "    <tr>\n",
       "      <th>0</th>\n",
       "      <td>26.0</td>\n",
       "      <td>66.3</td>\n",
       "      <td>5.0</td>\n",
       "      <td>5.1</td>\n",
       "      <td>3.0</td>\n",
       "    </tr>\n",
       "    <tr>\n",
       "      <th>1</th>\n",
       "      <td>54.0</td>\n",
       "      <td>63.7</td>\n",
       "      <td>NaN</td>\n",
       "      <td>NaN</td>\n",
       "      <td>NaN</td>\n",
       "    </tr>\n",
       "    <tr>\n",
       "      <th>2</th>\n",
       "      <td>41.0</td>\n",
       "      <td>61.1</td>\n",
       "      <td>5.0</td>\n",
       "      <td>4.7</td>\n",
       "      <td>2.0</td>\n",
       "    </tr>\n",
       "    <tr>\n",
       "      <th>3</th>\n",
       "      <td>45.0</td>\n",
       "      <td>59.8</td>\n",
       "      <td>7.0</td>\n",
       "      <td>NaN</td>\n",
       "      <td>NaN</td>\n",
       "    </tr>\n",
       "    <tr>\n",
       "      <th>4</th>\n",
       "      <td>70.0</td>\n",
       "      <td>650.0</td>\n",
       "      <td>5.0</td>\n",
       "      <td>5.0</td>\n",
       "      <td>4.0</td>\n",
       "    </tr>\n",
       "  </tbody>\n",
       "</table>\n",
       "</div>"
      ],
      "text/plain": [
       "    age  total  check  price  survey\n",
       "0  26.0   66.3    5.0    5.1     3.0\n",
       "1  54.0   63.7    NaN    NaN     NaN\n",
       "2  41.0   61.1    5.0    4.7     2.0\n",
       "3  45.0   59.8    7.0    NaN     NaN\n",
       "4  70.0  650.0    5.0    5.0     4.0"
      ]
     },
     "execution_count": 6,
     "metadata": {},
     "output_type": "execute_result"
    }
   ],
   "source": [
    "# 연속형 변수로 구성된 데이터프레임 간략조회\n",
    "contV.head()"
   ]
  },
  {
   "cell_type": "markdown",
   "metadata": {},
   "source": [
    "## 특정변수의 데이터를 문자열 또는 수치로 자유롭게 변환"
   ]
  },
  {
   "cell_type": "code",
   "execution_count": 7,
   "metadata": {},
   "outputs": [
    {
     "data": {
      "text/plain": [
       "1    71\n",
       "2    79\n",
       "Name: gender, dtype: int64"
      ]
     },
     "execution_count": 7,
     "metadata": {},
     "output_type": "execute_result"
    }
   ],
   "source": [
    "# abc데이터프레임의 gender변수의 세부 데이터 분포현황을 파악함\n",
    "abc.gender.value_counts(normalize=False, sort=False, dropna = False)"
   ]
  },
  {
   "cell_type": "code",
   "execution_count": 8,
   "metadata": {
    "scrolled": true
   },
   "outputs": [
    {
     "data": {
      "text/html": [
       "<div>\n",
       "<table border=\"1\" class=\"dataframe\">\n",
       "  <thead>\n",
       "    <tr style=\"text-align: right;\">\n",
       "      <th></th>\n",
       "      <th>gender</th>\n",
       "      <th>job</th>\n",
       "      <th>age</th>\n",
       "      <th>position</th>\n",
       "      <th>address</th>\n",
       "      <th>total</th>\n",
       "      <th>check</th>\n",
       "      <th>price</th>\n",
       "      <th>survey</th>\n",
       "      <th>gender_label</th>\n",
       "    </tr>\n",
       "  </thead>\n",
       "  <tbody>\n",
       "    <tr>\n",
       "      <th>0</th>\n",
       "      <td>1</td>\n",
       "      <td>1.0</td>\n",
       "      <td>26.0</td>\n",
       "      <td>2.0</td>\n",
       "      <td>Seoul</td>\n",
       "      <td>66.3</td>\n",
       "      <td>5.0</td>\n",
       "      <td>5.1</td>\n",
       "      <td>3.0</td>\n",
       "      <td>남자</td>\n",
       "    </tr>\n",
       "    <tr>\n",
       "      <th>1</th>\n",
       "      <td>1</td>\n",
       "      <td>2.0</td>\n",
       "      <td>54.0</td>\n",
       "      <td>5.0</td>\n",
       "      <td>Busan</td>\n",
       "      <td>63.7</td>\n",
       "      <td>NaN</td>\n",
       "      <td>NaN</td>\n",
       "      <td>NaN</td>\n",
       "      <td>남자</td>\n",
       "    </tr>\n",
       "    <tr>\n",
       "      <th>2</th>\n",
       "      <td>1</td>\n",
       "      <td>2.0</td>\n",
       "      <td>41.0</td>\n",
       "      <td>4.0</td>\n",
       "      <td>NaN</td>\n",
       "      <td>61.1</td>\n",
       "      <td>5.0</td>\n",
       "      <td>4.7</td>\n",
       "      <td>2.0</td>\n",
       "      <td>남자</td>\n",
       "    </tr>\n",
       "    <tr>\n",
       "      <th>3</th>\n",
       "      <td>2</td>\n",
       "      <td>NaN</td>\n",
       "      <td>45.0</td>\n",
       "      <td>4.0</td>\n",
       "      <td>Gwangju</td>\n",
       "      <td>59.8</td>\n",
       "      <td>7.0</td>\n",
       "      <td>NaN</td>\n",
       "      <td>NaN</td>\n",
       "      <td>여자</td>\n",
       "    </tr>\n",
       "    <tr>\n",
       "      <th>4</th>\n",
       "      <td>1</td>\n",
       "      <td>3.0</td>\n",
       "      <td>70.0</td>\n",
       "      <td>5.0</td>\n",
       "      <td>Suwon</td>\n",
       "      <td>650.0</td>\n",
       "      <td>5.0</td>\n",
       "      <td>5.0</td>\n",
       "      <td>4.0</td>\n",
       "      <td>남자</td>\n",
       "    </tr>\n",
       "  </tbody>\n",
       "</table>\n",
       "</div>"
      ],
      "text/plain": [
       "   gender  job   age  position  address  total  check  price  survey  \\\n",
       "0       1  1.0  26.0       2.0    Seoul   66.3    5.0    5.1     3.0   \n",
       "1       1  2.0  54.0       5.0    Busan   63.7    NaN    NaN     NaN   \n",
       "2       1  2.0  41.0       4.0      NaN   61.1    5.0    4.7     2.0   \n",
       "3       2  NaN  45.0       4.0  Gwangju   59.8    7.0    NaN     NaN   \n",
       "4       1  3.0  70.0       5.0    Suwon  650.0    5.0    5.0     4.0   \n",
       "\n",
       "  gender_label  \n",
       "0           남자  \n",
       "1           남자  \n",
       "2           남자  \n",
       "3           여자  \n",
       "4           남자  "
      ]
     },
     "execution_count": 8,
     "metadata": {},
     "output_type": "execute_result"
    }
   ],
   "source": [
    "# gender변수의 데이터 값을 구체적인 성별 레이블로 변경해 새로운 변수컬럼(gender_label)으로 추가함\n",
    "old = [1, 2]\n",
    "new = ['남자', '여자']\n",
    "abc['gender_label'] = abc['gender'].replace(old, new)\n",
    "\n",
    "abc.head()"
   ]
  },
  {
   "cell_type": "code",
   "execution_count": 9,
   "metadata": {},
   "outputs": [
    {
     "data": {
      "text/html": [
       "<div>\n",
       "<table border=\"1\" class=\"dataframe\">\n",
       "  <thead>\n",
       "    <tr style=\"text-align: right;\">\n",
       "      <th></th>\n",
       "      <th>gender</th>\n",
       "      <th>gender_label</th>\n",
       "    </tr>\n",
       "  </thead>\n",
       "  <tbody>\n",
       "    <tr>\n",
       "      <th>0</th>\n",
       "      <td>1</td>\n",
       "      <td>남자</td>\n",
       "    </tr>\n",
       "    <tr>\n",
       "      <th>1</th>\n",
       "      <td>1</td>\n",
       "      <td>남자</td>\n",
       "    </tr>\n",
       "    <tr>\n",
       "      <th>2</th>\n",
       "      <td>1</td>\n",
       "      <td>남자</td>\n",
       "    </tr>\n",
       "    <tr>\n",
       "      <th>3</th>\n",
       "      <td>2</td>\n",
       "      <td>여자</td>\n",
       "    </tr>\n",
       "    <tr>\n",
       "      <th>4</th>\n",
       "      <td>1</td>\n",
       "      <td>남자</td>\n",
       "    </tr>\n",
       "  </tbody>\n",
       "</table>\n",
       "</div>"
      ],
      "text/plain": [
       "   gender gender_label\n",
       "0       1           남자\n",
       "1       1           남자\n",
       "2       1           남자\n",
       "3       2           여자\n",
       "4       1           남자"
      ]
     },
     "execution_count": 9,
     "metadata": {},
     "output_type": "execute_result"
    }
   ],
   "source": [
    "# 셩별(gender)과 성별라벨(gender_label) 변수의 간략조회\n",
    "abc[['gender', 'gender_label']].head()"
   ]
  },
  {
   "cell_type": "code",
   "execution_count": 10,
   "metadata": {},
   "outputs": [
    {
     "data": {
      "text/plain": [
       "NaN      8\n",
       " 1.0    38\n",
       " 2.0    51\n",
       " 3.0    53\n",
       "Name: job, dtype: int64"
      ]
     },
     "execution_count": 10,
     "metadata": {},
     "output_type": "execute_result"
    }
   ],
   "source": [
    "# job 변수의 세부 데이터 분포현황을 파악함\n",
    "abc.job.value_counts(normalize=False, sort=False, dropna = False)"
   ]
  },
  {
   "cell_type": "code",
   "execution_count": 11,
   "metadata": {
    "scrolled": true
   },
   "outputs": [
    {
     "data": {
      "text/html": [
       "<div>\n",
       "<table border=\"1\" class=\"dataframe\">\n",
       "  <thead>\n",
       "    <tr style=\"text-align: right;\">\n",
       "      <th></th>\n",
       "      <th>gender</th>\n",
       "      <th>job</th>\n",
       "      <th>age</th>\n",
       "      <th>position</th>\n",
       "      <th>address</th>\n",
       "      <th>total</th>\n",
       "      <th>check</th>\n",
       "      <th>price</th>\n",
       "      <th>survey</th>\n",
       "      <th>gender_label</th>\n",
       "      <th>job_label</th>\n",
       "    </tr>\n",
       "  </thead>\n",
       "  <tbody>\n",
       "    <tr>\n",
       "      <th>0</th>\n",
       "      <td>1</td>\n",
       "      <td>1.0</td>\n",
       "      <td>26.0</td>\n",
       "      <td>2.0</td>\n",
       "      <td>Seoul</td>\n",
       "      <td>66.3</td>\n",
       "      <td>5.0</td>\n",
       "      <td>5.1</td>\n",
       "      <td>3.0</td>\n",
       "      <td>남자</td>\n",
       "      <td>학생</td>\n",
       "    </tr>\n",
       "    <tr>\n",
       "      <th>1</th>\n",
       "      <td>1</td>\n",
       "      <td>2.0</td>\n",
       "      <td>54.0</td>\n",
       "      <td>5.0</td>\n",
       "      <td>Busan</td>\n",
       "      <td>63.7</td>\n",
       "      <td>NaN</td>\n",
       "      <td>NaN</td>\n",
       "      <td>NaN</td>\n",
       "      <td>남자</td>\n",
       "      <td>주부</td>\n",
       "    </tr>\n",
       "    <tr>\n",
       "      <th>2</th>\n",
       "      <td>1</td>\n",
       "      <td>2.0</td>\n",
       "      <td>41.0</td>\n",
       "      <td>4.0</td>\n",
       "      <td>NaN</td>\n",
       "      <td>61.1</td>\n",
       "      <td>5.0</td>\n",
       "      <td>4.7</td>\n",
       "      <td>2.0</td>\n",
       "      <td>남자</td>\n",
       "      <td>주부</td>\n",
       "    </tr>\n",
       "    <tr>\n",
       "      <th>3</th>\n",
       "      <td>2</td>\n",
       "      <td>NaN</td>\n",
       "      <td>45.0</td>\n",
       "      <td>4.0</td>\n",
       "      <td>Gwangju</td>\n",
       "      <td>59.8</td>\n",
       "      <td>7.0</td>\n",
       "      <td>NaN</td>\n",
       "      <td>NaN</td>\n",
       "      <td>여자</td>\n",
       "      <td>NaN</td>\n",
       "    </tr>\n",
       "    <tr>\n",
       "      <th>4</th>\n",
       "      <td>1</td>\n",
       "      <td>3.0</td>\n",
       "      <td>70.0</td>\n",
       "      <td>5.0</td>\n",
       "      <td>Suwon</td>\n",
       "      <td>650.0</td>\n",
       "      <td>5.0</td>\n",
       "      <td>5.0</td>\n",
       "      <td>4.0</td>\n",
       "      <td>남자</td>\n",
       "      <td>직장인</td>\n",
       "    </tr>\n",
       "  </tbody>\n",
       "</table>\n",
       "</div>"
      ],
      "text/plain": [
       "   gender  job   age  position  address  total  check  price  survey  \\\n",
       "0       1  1.0  26.0       2.0    Seoul   66.3    5.0    5.1     3.0   \n",
       "1       1  2.0  54.0       5.0    Busan   63.7    NaN    NaN     NaN   \n",
       "2       1  2.0  41.0       4.0      NaN   61.1    5.0    4.7     2.0   \n",
       "3       2  NaN  45.0       4.0  Gwangju   59.8    7.0    NaN     NaN   \n",
       "4       1  3.0  70.0       5.0    Suwon  650.0    5.0    5.0     4.0   \n",
       "\n",
       "  gender_label job_label  \n",
       "0           남자        학생  \n",
       "1           남자        주부  \n",
       "2           남자        주부  \n",
       "3           여자       NaN  \n",
       "4           남자       직장인  "
      ]
     },
     "execution_count": 11,
     "metadata": {},
     "output_type": "execute_result"
    }
   ],
   "source": [
    "# job변수의 데이터 값을 구체적인 직업명칭 레이블로 변경해 새로운 변수컬럼(job_label)으로 추가함\n",
    "old = [1, 2, 3]\n",
    "new = ['학생', '주부', '직장인']\n",
    "abc['job_label'] = abc['job'].replace(old, new)\n",
    "\n",
    "abc.head()"
   ]
  },
  {
   "cell_type": "code",
   "execution_count": 12,
   "metadata": {},
   "outputs": [
    {
     "data": {
      "text/html": [
       "<div>\n",
       "<table border=\"1\" class=\"dataframe\">\n",
       "  <thead>\n",
       "    <tr style=\"text-align: right;\">\n",
       "      <th></th>\n",
       "      <th>job</th>\n",
       "      <th>job_label</th>\n",
       "    </tr>\n",
       "  </thead>\n",
       "  <tbody>\n",
       "    <tr>\n",
       "      <th>0</th>\n",
       "      <td>1.0</td>\n",
       "      <td>학생</td>\n",
       "    </tr>\n",
       "    <tr>\n",
       "      <th>1</th>\n",
       "      <td>2.0</td>\n",
       "      <td>주부</td>\n",
       "    </tr>\n",
       "    <tr>\n",
       "      <th>2</th>\n",
       "      <td>2.0</td>\n",
       "      <td>주부</td>\n",
       "    </tr>\n",
       "    <tr>\n",
       "      <th>3</th>\n",
       "      <td>NaN</td>\n",
       "      <td>NaN</td>\n",
       "    </tr>\n",
       "    <tr>\n",
       "      <th>4</th>\n",
       "      <td>3.0</td>\n",
       "      <td>직장인</td>\n",
       "    </tr>\n",
       "  </tbody>\n",
       "</table>\n",
       "</div>"
      ],
      "text/plain": [
       "   job job_label\n",
       "0  1.0        학생\n",
       "1  2.0        주부\n",
       "2  2.0        주부\n",
       "3  NaN       NaN\n",
       "4  3.0       직장인"
      ]
     },
     "execution_count": 12,
     "metadata": {},
     "output_type": "execute_result"
    }
   ],
   "source": [
    "# 직업변수와 직업라벨 변수의 간략조회\n",
    "abc[['job', 'job_label']].head()"
   ]
  },
  {
   "cell_type": "code",
   "execution_count": 13,
   "metadata": {},
   "outputs": [
    {
     "data": {
      "text/plain": [
       "NaN     12\n",
       " 1.0    20\n",
       " 2.0    21\n",
       " 3.0    17\n",
       " 4.0    34\n",
       " 5.0    46\n",
       "Name: position, dtype: int64"
      ]
     },
     "execution_count": 13,
     "metadata": {},
     "output_type": "execute_result"
    }
   ],
   "source": [
    "# position 변수의 세부 데이터 분포현황을 파악함\n",
    "abc.position.value_counts(normalize=False, sort=False, dropna = False)"
   ]
  },
  {
   "cell_type": "code",
   "execution_count": 14,
   "metadata": {
    "scrolled": true
   },
   "outputs": [
    {
     "data": {
      "text/html": [
       "<div>\n",
       "<table border=\"1\" class=\"dataframe\">\n",
       "  <thead>\n",
       "    <tr style=\"text-align: right;\">\n",
       "      <th></th>\n",
       "      <th>gender</th>\n",
       "      <th>job</th>\n",
       "      <th>age</th>\n",
       "      <th>position</th>\n",
       "      <th>address</th>\n",
       "      <th>total</th>\n",
       "      <th>check</th>\n",
       "      <th>price</th>\n",
       "      <th>survey</th>\n",
       "      <th>gender_label</th>\n",
       "      <th>job_label</th>\n",
       "      <th>position_label</th>\n",
       "    </tr>\n",
       "  </thead>\n",
       "  <tbody>\n",
       "    <tr>\n",
       "      <th>0</th>\n",
       "      <td>1</td>\n",
       "      <td>1.0</td>\n",
       "      <td>26.0</td>\n",
       "      <td>2.0</td>\n",
       "      <td>Seoul</td>\n",
       "      <td>66.3</td>\n",
       "      <td>5.0</td>\n",
       "      <td>5.1</td>\n",
       "      <td>3.0</td>\n",
       "      <td>남자</td>\n",
       "      <td>학생</td>\n",
       "      <td>대리</td>\n",
       "    </tr>\n",
       "    <tr>\n",
       "      <th>1</th>\n",
       "      <td>1</td>\n",
       "      <td>2.0</td>\n",
       "      <td>54.0</td>\n",
       "      <td>5.0</td>\n",
       "      <td>Busan</td>\n",
       "      <td>63.7</td>\n",
       "      <td>NaN</td>\n",
       "      <td>NaN</td>\n",
       "      <td>NaN</td>\n",
       "      <td>남자</td>\n",
       "      <td>주부</td>\n",
       "      <td>부장</td>\n",
       "    </tr>\n",
       "    <tr>\n",
       "      <th>2</th>\n",
       "      <td>1</td>\n",
       "      <td>2.0</td>\n",
       "      <td>41.0</td>\n",
       "      <td>4.0</td>\n",
       "      <td>NaN</td>\n",
       "      <td>61.1</td>\n",
       "      <td>5.0</td>\n",
       "      <td>4.7</td>\n",
       "      <td>2.0</td>\n",
       "      <td>남자</td>\n",
       "      <td>주부</td>\n",
       "      <td>차장</td>\n",
       "    </tr>\n",
       "    <tr>\n",
       "      <th>3</th>\n",
       "      <td>2</td>\n",
       "      <td>NaN</td>\n",
       "      <td>45.0</td>\n",
       "      <td>4.0</td>\n",
       "      <td>Gwangju</td>\n",
       "      <td>59.8</td>\n",
       "      <td>7.0</td>\n",
       "      <td>NaN</td>\n",
       "      <td>NaN</td>\n",
       "      <td>여자</td>\n",
       "      <td>NaN</td>\n",
       "      <td>차장</td>\n",
       "    </tr>\n",
       "    <tr>\n",
       "      <th>4</th>\n",
       "      <td>1</td>\n",
       "      <td>3.0</td>\n",
       "      <td>70.0</td>\n",
       "      <td>5.0</td>\n",
       "      <td>Suwon</td>\n",
       "      <td>650.0</td>\n",
       "      <td>5.0</td>\n",
       "      <td>5.0</td>\n",
       "      <td>4.0</td>\n",
       "      <td>남자</td>\n",
       "      <td>직장인</td>\n",
       "      <td>부장</td>\n",
       "    </tr>\n",
       "    <tr>\n",
       "      <th>5</th>\n",
       "      <td>1</td>\n",
       "      <td>2.0</td>\n",
       "      <td>57.0</td>\n",
       "      <td>NaN</td>\n",
       "      <td>Daejeon</td>\n",
       "      <td>70.2</td>\n",
       "      <td>7.0</td>\n",
       "      <td>5.4</td>\n",
       "      <td>5.0</td>\n",
       "      <td>남자</td>\n",
       "      <td>주부</td>\n",
       "      <td>NaN</td>\n",
       "    </tr>\n",
       "    <tr>\n",
       "      <th>6</th>\n",
       "      <td>2</td>\n",
       "      <td>1.0</td>\n",
       "      <td>36.0</td>\n",
       "      <td>3.0</td>\n",
       "      <td>Busan</td>\n",
       "      <td>59.8</td>\n",
       "      <td>5.0</td>\n",
       "      <td>NaN</td>\n",
       "      <td>NaN</td>\n",
       "      <td>여자</td>\n",
       "      <td>학생</td>\n",
       "      <td>과장</td>\n",
       "    </tr>\n",
       "    <tr>\n",
       "      <th>7</th>\n",
       "      <td>1</td>\n",
       "      <td>2.0</td>\n",
       "      <td>NaN</td>\n",
       "      <td>3.0</td>\n",
       "      <td>Jeju</td>\n",
       "      <td>65.0</td>\n",
       "      <td>12.0</td>\n",
       "      <td>675.0</td>\n",
       "      <td>3.0</td>\n",
       "      <td>남자</td>\n",
       "      <td>주부</td>\n",
       "      <td>과장</td>\n",
       "    </tr>\n",
       "    <tr>\n",
       "      <th>8</th>\n",
       "      <td>1</td>\n",
       "      <td>1.0</td>\n",
       "      <td>56.0</td>\n",
       "      <td>5.0</td>\n",
       "      <td>NaN</td>\n",
       "      <td>57.2</td>\n",
       "      <td>3.0</td>\n",
       "      <td>4.4</td>\n",
       "      <td>4.0</td>\n",
       "      <td>남자</td>\n",
       "      <td>학생</td>\n",
       "      <td>부장</td>\n",
       "    </tr>\n",
       "    <tr>\n",
       "      <th>9</th>\n",
       "      <td>1</td>\n",
       "      <td>2.0</td>\n",
       "      <td>37.0</td>\n",
       "      <td>3.0</td>\n",
       "      <td>Busan</td>\n",
       "      <td>63.7</td>\n",
       "      <td>4.0</td>\n",
       "      <td>4.9</td>\n",
       "      <td>3.0</td>\n",
       "      <td>남자</td>\n",
       "      <td>주부</td>\n",
       "      <td>과장</td>\n",
       "    </tr>\n",
       "  </tbody>\n",
       "</table>\n",
       "</div>"
      ],
      "text/plain": [
       "   gender  job   age  position  address  total  check  price  survey  \\\n",
       "0       1  1.0  26.0       2.0    Seoul   66.3    5.0    5.1     3.0   \n",
       "1       1  2.0  54.0       5.0    Busan   63.7    NaN    NaN     NaN   \n",
       "2       1  2.0  41.0       4.0      NaN   61.1    5.0    4.7     2.0   \n",
       "3       2  NaN  45.0       4.0  Gwangju   59.8    7.0    NaN     NaN   \n",
       "4       1  3.0  70.0       5.0    Suwon  650.0    5.0    5.0     4.0   \n",
       "5       1  2.0  57.0       NaN  Daejeon   70.2    7.0    5.4     5.0   \n",
       "6       2  1.0  36.0       3.0    Busan   59.8    5.0    NaN     NaN   \n",
       "7       1  2.0   NaN       3.0     Jeju   65.0   12.0  675.0     3.0   \n",
       "8       1  1.0  56.0       5.0      NaN   57.2    3.0    4.4     4.0   \n",
       "9       1  2.0  37.0       3.0    Busan   63.7    4.0    4.9     3.0   \n",
       "\n",
       "  gender_label job_label position_label  \n",
       "0           남자        학생             대리  \n",
       "1           남자        주부             부장  \n",
       "2           남자        주부             차장  \n",
       "3           여자       NaN             차장  \n",
       "4           남자       직장인             부장  \n",
       "5           남자        주부            NaN  \n",
       "6           여자        학생             과장  \n",
       "7           남자        주부             과장  \n",
       "8           남자        학생             부장  \n",
       "9           남자        주부             과장  "
      ]
     },
     "execution_count": 14,
     "metadata": {},
     "output_type": "execute_result"
    }
   ],
   "source": [
    "# position변수의 데이터 값을 구체적인 직급명칭 레이블로 변경해 새로운 변수컬럼(position_label)으로 추가함\n",
    "old = [1, 2, 3, 4, 5]\n",
    "new = ['사원', '대리', '과장', '차장', '부장']\n",
    "abc['position_label'] = abc['position'].replace(old, new)\n",
    "\n",
    "abc.head(10)"
   ]
  },
  {
   "cell_type": "code",
   "execution_count": 15,
   "metadata": {},
   "outputs": [
    {
     "data": {
      "text/html": [
       "<div>\n",
       "<table border=\"1\" class=\"dataframe\">\n",
       "  <thead>\n",
       "    <tr style=\"text-align: right;\">\n",
       "      <th></th>\n",
       "      <th>position</th>\n",
       "      <th>position_label</th>\n",
       "    </tr>\n",
       "  </thead>\n",
       "  <tbody>\n",
       "    <tr>\n",
       "      <th>0</th>\n",
       "      <td>2.0</td>\n",
       "      <td>대리</td>\n",
       "    </tr>\n",
       "    <tr>\n",
       "      <th>1</th>\n",
       "      <td>5.0</td>\n",
       "      <td>부장</td>\n",
       "    </tr>\n",
       "    <tr>\n",
       "      <th>2</th>\n",
       "      <td>4.0</td>\n",
       "      <td>차장</td>\n",
       "    </tr>\n",
       "    <tr>\n",
       "      <th>3</th>\n",
       "      <td>4.0</td>\n",
       "      <td>차장</td>\n",
       "    </tr>\n",
       "    <tr>\n",
       "      <th>4</th>\n",
       "      <td>5.0</td>\n",
       "      <td>부장</td>\n",
       "    </tr>\n",
       "  </tbody>\n",
       "</table>\n",
       "</div>"
      ],
      "text/plain": [
       "   position position_label\n",
       "0       2.0             대리\n",
       "1       5.0             부장\n",
       "2       4.0             차장\n",
       "3       4.0             차장\n",
       "4       5.0             부장"
      ]
     },
     "execution_count": 15,
     "metadata": {},
     "output_type": "execute_result"
    }
   ],
   "source": [
    "# 직급변수와 직급라벨변수의 간략조회\n",
    "abc[['position', 'position_label']].head()"
   ]
  },
  {
   "cell_type": "code",
   "execution_count": 16,
   "metadata": {
    "scrolled": false
   },
   "outputs": [
    {
     "data": {
      "text/plain": [
       "Seoul      65\n",
       "Busan      28\n",
       "Suwon      18\n",
       "Daejeon    14\n",
       "NaN        12\n",
       "Gwangju     8\n",
       "Jeju        5\n",
       "Name: address, dtype: int64"
      ]
     },
     "execution_count": 16,
     "metadata": {},
     "output_type": "execute_result"
    }
   ],
   "source": [
    "# address 변수의 세부 데이터 분포현황을 파악함\n",
    "abc.address.value_counts(dropna = False)"
   ]
  },
  {
   "cell_type": "code",
   "execution_count": 17,
   "metadata": {
    "scrolled": true
   },
   "outputs": [
    {
     "data": {
      "text/html": [
       "<div>\n",
       "<table border=\"1\" class=\"dataframe\">\n",
       "  <thead>\n",
       "    <tr style=\"text-align: right;\">\n",
       "      <th></th>\n",
       "      <th>gender</th>\n",
       "      <th>job</th>\n",
       "      <th>age</th>\n",
       "      <th>position</th>\n",
       "      <th>address</th>\n",
       "      <th>total</th>\n",
       "      <th>check</th>\n",
       "      <th>price</th>\n",
       "      <th>survey</th>\n",
       "      <th>gender_label</th>\n",
       "      <th>job_label</th>\n",
       "      <th>position_label</th>\n",
       "      <th>city_num</th>\n",
       "    </tr>\n",
       "  </thead>\n",
       "  <tbody>\n",
       "    <tr>\n",
       "      <th>0</th>\n",
       "      <td>1</td>\n",
       "      <td>1.0</td>\n",
       "      <td>26.0</td>\n",
       "      <td>2.0</td>\n",
       "      <td>Seoul</td>\n",
       "      <td>66.3</td>\n",
       "      <td>5.0</td>\n",
       "      <td>5.1</td>\n",
       "      <td>3.0</td>\n",
       "      <td>남자</td>\n",
       "      <td>학생</td>\n",
       "      <td>대리</td>\n",
       "      <td>1.0</td>\n",
       "    </tr>\n",
       "    <tr>\n",
       "      <th>1</th>\n",
       "      <td>1</td>\n",
       "      <td>2.0</td>\n",
       "      <td>54.0</td>\n",
       "      <td>5.0</td>\n",
       "      <td>Busan</td>\n",
       "      <td>63.7</td>\n",
       "      <td>NaN</td>\n",
       "      <td>NaN</td>\n",
       "      <td>NaN</td>\n",
       "      <td>남자</td>\n",
       "      <td>주부</td>\n",
       "      <td>부장</td>\n",
       "      <td>2.0</td>\n",
       "    </tr>\n",
       "    <tr>\n",
       "      <th>2</th>\n",
       "      <td>1</td>\n",
       "      <td>2.0</td>\n",
       "      <td>41.0</td>\n",
       "      <td>4.0</td>\n",
       "      <td>NaN</td>\n",
       "      <td>61.1</td>\n",
       "      <td>5.0</td>\n",
       "      <td>4.7</td>\n",
       "      <td>2.0</td>\n",
       "      <td>남자</td>\n",
       "      <td>주부</td>\n",
       "      <td>차장</td>\n",
       "      <td>NaN</td>\n",
       "    </tr>\n",
       "    <tr>\n",
       "      <th>3</th>\n",
       "      <td>2</td>\n",
       "      <td>NaN</td>\n",
       "      <td>45.0</td>\n",
       "      <td>4.0</td>\n",
       "      <td>Gwangju</td>\n",
       "      <td>59.8</td>\n",
       "      <td>7.0</td>\n",
       "      <td>NaN</td>\n",
       "      <td>NaN</td>\n",
       "      <td>여자</td>\n",
       "      <td>NaN</td>\n",
       "      <td>차장</td>\n",
       "      <td>4.0</td>\n",
       "    </tr>\n",
       "    <tr>\n",
       "      <th>4</th>\n",
       "      <td>1</td>\n",
       "      <td>3.0</td>\n",
       "      <td>70.0</td>\n",
       "      <td>5.0</td>\n",
       "      <td>Suwon</td>\n",
       "      <td>650.0</td>\n",
       "      <td>5.0</td>\n",
       "      <td>5.0</td>\n",
       "      <td>4.0</td>\n",
       "      <td>남자</td>\n",
       "      <td>직장인</td>\n",
       "      <td>부장</td>\n",
       "      <td>6.0</td>\n",
       "    </tr>\n",
       "    <tr>\n",
       "      <th>5</th>\n",
       "      <td>1</td>\n",
       "      <td>2.0</td>\n",
       "      <td>57.0</td>\n",
       "      <td>NaN</td>\n",
       "      <td>Daejeon</td>\n",
       "      <td>70.2</td>\n",
       "      <td>7.0</td>\n",
       "      <td>5.4</td>\n",
       "      <td>5.0</td>\n",
       "      <td>남자</td>\n",
       "      <td>주부</td>\n",
       "      <td>NaN</td>\n",
       "      <td>3.0</td>\n",
       "    </tr>\n",
       "    <tr>\n",
       "      <th>6</th>\n",
       "      <td>2</td>\n",
       "      <td>1.0</td>\n",
       "      <td>36.0</td>\n",
       "      <td>3.0</td>\n",
       "      <td>Busan</td>\n",
       "      <td>59.8</td>\n",
       "      <td>5.0</td>\n",
       "      <td>NaN</td>\n",
       "      <td>NaN</td>\n",
       "      <td>여자</td>\n",
       "      <td>학생</td>\n",
       "      <td>과장</td>\n",
       "      <td>2.0</td>\n",
       "    </tr>\n",
       "    <tr>\n",
       "      <th>7</th>\n",
       "      <td>1</td>\n",
       "      <td>2.0</td>\n",
       "      <td>NaN</td>\n",
       "      <td>3.0</td>\n",
       "      <td>Jeju</td>\n",
       "      <td>65.0</td>\n",
       "      <td>12.0</td>\n",
       "      <td>675.0</td>\n",
       "      <td>3.0</td>\n",
       "      <td>남자</td>\n",
       "      <td>주부</td>\n",
       "      <td>과장</td>\n",
       "      <td>5.0</td>\n",
       "    </tr>\n",
       "    <tr>\n",
       "      <th>8</th>\n",
       "      <td>1</td>\n",
       "      <td>1.0</td>\n",
       "      <td>56.0</td>\n",
       "      <td>5.0</td>\n",
       "      <td>NaN</td>\n",
       "      <td>57.2</td>\n",
       "      <td>3.0</td>\n",
       "      <td>4.4</td>\n",
       "      <td>4.0</td>\n",
       "      <td>남자</td>\n",
       "      <td>학생</td>\n",
       "      <td>부장</td>\n",
       "      <td>NaN</td>\n",
       "    </tr>\n",
       "    <tr>\n",
       "      <th>9</th>\n",
       "      <td>1</td>\n",
       "      <td>2.0</td>\n",
       "      <td>37.0</td>\n",
       "      <td>3.0</td>\n",
       "      <td>Busan</td>\n",
       "      <td>63.7</td>\n",
       "      <td>4.0</td>\n",
       "      <td>4.9</td>\n",
       "      <td>3.0</td>\n",
       "      <td>남자</td>\n",
       "      <td>주부</td>\n",
       "      <td>과장</td>\n",
       "      <td>2.0</td>\n",
       "    </tr>\n",
       "  </tbody>\n",
       "</table>\n",
       "</div>"
      ],
      "text/plain": [
       "   gender  job   age  position  address  total  check  price  survey  \\\n",
       "0       1  1.0  26.0       2.0    Seoul   66.3    5.0    5.1     3.0   \n",
       "1       1  2.0  54.0       5.0    Busan   63.7    NaN    NaN     NaN   \n",
       "2       1  2.0  41.0       4.0      NaN   61.1    5.0    4.7     2.0   \n",
       "3       2  NaN  45.0       4.0  Gwangju   59.8    7.0    NaN     NaN   \n",
       "4       1  3.0  70.0       5.0    Suwon  650.0    5.0    5.0     4.0   \n",
       "5       1  2.0  57.0       NaN  Daejeon   70.2    7.0    5.4     5.0   \n",
       "6       2  1.0  36.0       3.0    Busan   59.8    5.0    NaN     NaN   \n",
       "7       1  2.0   NaN       3.0     Jeju   65.0   12.0  675.0     3.0   \n",
       "8       1  1.0  56.0       5.0      NaN   57.2    3.0    4.4     4.0   \n",
       "9       1  2.0  37.0       3.0    Busan   63.7    4.0    4.9     3.0   \n",
       "\n",
       "  gender_label job_label position_label  city_num  \n",
       "0           남자        학생             대리       1.0  \n",
       "1           남자        주부             부장       2.0  \n",
       "2           남자        주부             차장       NaN  \n",
       "3           여자       NaN             차장       4.0  \n",
       "4           남자       직장인             부장       6.0  \n",
       "5           남자        주부            NaN       3.0  \n",
       "6           여자        학생             과장       2.0  \n",
       "7           남자        주부             과장       5.0  \n",
       "8           남자        학생             부장       NaN  \n",
       "9           남자        주부             과장       2.0  "
      ]
     },
     "execution_count": 17,
     "metadata": {},
     "output_type": "execute_result"
    }
   ],
   "source": [
    "# address변수의 도시명 데이터를 개별적인 숫자로 변경해 새로운 변수컬럼으로 추가함\n",
    "old = ['Seoul', 'Busan', 'Daejeon', 'Gwangju', 'Jeju', 'Suwon']\n",
    "new = [1, 2, 3, 4, 5, 6]\n",
    "abc['city_num'] = abc['address'].replace(old, new)\n",
    "\n",
    "abc.head(10)"
   ]
  },
  {
   "cell_type": "code",
   "execution_count": 18,
   "metadata": {},
   "outputs": [
    {
     "data": {
      "text/html": [
       "<div>\n",
       "<table border=\"1\" class=\"dataframe\">\n",
       "  <thead>\n",
       "    <tr style=\"text-align: right;\">\n",
       "      <th></th>\n",
       "      <th>address</th>\n",
       "      <th>city_num</th>\n",
       "    </tr>\n",
       "  </thead>\n",
       "  <tbody>\n",
       "    <tr>\n",
       "      <th>0</th>\n",
       "      <td>Seoul</td>\n",
       "      <td>1.0</td>\n",
       "    </tr>\n",
       "    <tr>\n",
       "      <th>1</th>\n",
       "      <td>Busan</td>\n",
       "      <td>2.0</td>\n",
       "    </tr>\n",
       "    <tr>\n",
       "      <th>2</th>\n",
       "      <td>NaN</td>\n",
       "      <td>NaN</td>\n",
       "    </tr>\n",
       "    <tr>\n",
       "      <th>3</th>\n",
       "      <td>Gwangju</td>\n",
       "      <td>4.0</td>\n",
       "    </tr>\n",
       "    <tr>\n",
       "      <th>4</th>\n",
       "      <td>Suwon</td>\n",
       "      <td>6.0</td>\n",
       "    </tr>\n",
       "  </tbody>\n",
       "</table>\n",
       "</div>"
      ],
      "text/plain": [
       "   address  city_num\n",
       "0    Seoul       1.0\n",
       "1    Busan       2.0\n",
       "2      NaN       NaN\n",
       "3  Gwangju       4.0\n",
       "4    Suwon       6.0"
      ]
     },
     "execution_count": 18,
     "metadata": {},
     "output_type": "execute_result"
    }
   ],
   "source": [
    "# address변수와 city_num변수의 간략조회\n",
    "abc[['address', 'city_num']].head()"
   ]
  },
  {
   "cell_type": "code",
   "execution_count": 19,
   "metadata": {
    "scrolled": true
   },
   "outputs": [
    {
     "data": {
      "text/html": [
       "<div>\n",
       "<table border=\"1\" class=\"dataframe\">\n",
       "  <thead>\n",
       "    <tr style=\"text-align: right;\">\n",
       "      <th></th>\n",
       "      <th>gender</th>\n",
       "      <th>job</th>\n",
       "      <th>age</th>\n",
       "      <th>position</th>\n",
       "      <th>address</th>\n",
       "      <th>total</th>\n",
       "      <th>check</th>\n",
       "      <th>price</th>\n",
       "      <th>survey</th>\n",
       "      <th>gender_label</th>\n",
       "      <th>job_label</th>\n",
       "      <th>position_label</th>\n",
       "      <th>city_num</th>\n",
       "      <th>city_location</th>\n",
       "    </tr>\n",
       "  </thead>\n",
       "  <tbody>\n",
       "    <tr>\n",
       "      <th>0</th>\n",
       "      <td>1</td>\n",
       "      <td>1.0</td>\n",
       "      <td>26.0</td>\n",
       "      <td>2.0</td>\n",
       "      <td>Seoul</td>\n",
       "      <td>66.3</td>\n",
       "      <td>5.0</td>\n",
       "      <td>5.1</td>\n",
       "      <td>3.0</td>\n",
       "      <td>남자</td>\n",
       "      <td>학생</td>\n",
       "      <td>대리</td>\n",
       "      <td>1.0</td>\n",
       "      <td>capital area</td>\n",
       "    </tr>\n",
       "    <tr>\n",
       "      <th>1</th>\n",
       "      <td>1</td>\n",
       "      <td>2.0</td>\n",
       "      <td>54.0</td>\n",
       "      <td>5.0</td>\n",
       "      <td>Busan</td>\n",
       "      <td>63.7</td>\n",
       "      <td>NaN</td>\n",
       "      <td>NaN</td>\n",
       "      <td>NaN</td>\n",
       "      <td>남자</td>\n",
       "      <td>주부</td>\n",
       "      <td>부장</td>\n",
       "      <td>2.0</td>\n",
       "      <td>provinces</td>\n",
       "    </tr>\n",
       "    <tr>\n",
       "      <th>2</th>\n",
       "      <td>1</td>\n",
       "      <td>2.0</td>\n",
       "      <td>41.0</td>\n",
       "      <td>4.0</td>\n",
       "      <td>NaN</td>\n",
       "      <td>61.1</td>\n",
       "      <td>5.0</td>\n",
       "      <td>4.7</td>\n",
       "      <td>2.0</td>\n",
       "      <td>남자</td>\n",
       "      <td>주부</td>\n",
       "      <td>차장</td>\n",
       "      <td>NaN</td>\n",
       "      <td>NaN</td>\n",
       "    </tr>\n",
       "    <tr>\n",
       "      <th>3</th>\n",
       "      <td>2</td>\n",
       "      <td>NaN</td>\n",
       "      <td>45.0</td>\n",
       "      <td>4.0</td>\n",
       "      <td>Gwangju</td>\n",
       "      <td>59.8</td>\n",
       "      <td>7.0</td>\n",
       "      <td>NaN</td>\n",
       "      <td>NaN</td>\n",
       "      <td>여자</td>\n",
       "      <td>NaN</td>\n",
       "      <td>차장</td>\n",
       "      <td>4.0</td>\n",
       "      <td>provinces</td>\n",
       "    </tr>\n",
       "    <tr>\n",
       "      <th>4</th>\n",
       "      <td>1</td>\n",
       "      <td>3.0</td>\n",
       "      <td>70.0</td>\n",
       "      <td>5.0</td>\n",
       "      <td>Suwon</td>\n",
       "      <td>650.0</td>\n",
       "      <td>5.0</td>\n",
       "      <td>5.0</td>\n",
       "      <td>4.0</td>\n",
       "      <td>남자</td>\n",
       "      <td>직장인</td>\n",
       "      <td>부장</td>\n",
       "      <td>6.0</td>\n",
       "      <td>capital area</td>\n",
       "    </tr>\n",
       "  </tbody>\n",
       "</table>\n",
       "</div>"
      ],
      "text/plain": [
       "   gender  job   age  position  address  total  check  price  survey  \\\n",
       "0       1  1.0  26.0       2.0    Seoul   66.3    5.0    5.1     3.0   \n",
       "1       1  2.0  54.0       5.0    Busan   63.7    NaN    NaN     NaN   \n",
       "2       1  2.0  41.0       4.0      NaN   61.1    5.0    4.7     2.0   \n",
       "3       2  NaN  45.0       4.0  Gwangju   59.8    7.0    NaN     NaN   \n",
       "4       1  3.0  70.0       5.0    Suwon  650.0    5.0    5.0     4.0   \n",
       "\n",
       "  gender_label job_label position_label  city_num city_location  \n",
       "0           남자        학생             대리       1.0  capital area  \n",
       "1           남자        주부             부장       2.0     provinces  \n",
       "2           남자        주부             차장       NaN           NaN  \n",
       "3           여자       NaN             차장       4.0     provinces  \n",
       "4           남자       직장인             부장       6.0  capital area  "
      ]
     },
     "execution_count": 19,
     "metadata": {},
     "output_type": "execute_result"
    }
   ],
   "source": [
    "# address변수의 도시명 데이터를 활용해 수도권 및 지방지역 레이블로 변경해 새로운 변수컬럼으로 추가함\n",
    "old = ['Seoul', 'Busan', 'Daejeon', 'Gwangju', 'Jeju', 'Suwon']\n",
    "new = ['capital area', 'provinces', 'provinces', 'provinces', 'provinces', 'capital area']\n",
    "abc['city_location'] = abc['address'].replace(old, new)\n",
    "\n",
    "abc.head()"
   ]
  },
  {
   "cell_type": "code",
   "execution_count": 20,
   "metadata": {
    "scrolled": true
   },
   "outputs": [
    {
     "data": {
      "text/html": [
       "<div>\n",
       "<table border=\"1\" class=\"dataframe\">\n",
       "  <thead>\n",
       "    <tr style=\"text-align: right;\">\n",
       "      <th></th>\n",
       "      <th>address</th>\n",
       "      <th>city_num</th>\n",
       "      <th>city_location</th>\n",
       "    </tr>\n",
       "  </thead>\n",
       "  <tbody>\n",
       "    <tr>\n",
       "      <th>0</th>\n",
       "      <td>Seoul</td>\n",
       "      <td>1.0</td>\n",
       "      <td>capital area</td>\n",
       "    </tr>\n",
       "    <tr>\n",
       "      <th>1</th>\n",
       "      <td>Busan</td>\n",
       "      <td>2.0</td>\n",
       "      <td>provinces</td>\n",
       "    </tr>\n",
       "    <tr>\n",
       "      <th>2</th>\n",
       "      <td>NaN</td>\n",
       "      <td>NaN</td>\n",
       "      <td>NaN</td>\n",
       "    </tr>\n",
       "    <tr>\n",
       "      <th>3</th>\n",
       "      <td>Gwangju</td>\n",
       "      <td>4.0</td>\n",
       "      <td>provinces</td>\n",
       "    </tr>\n",
       "    <tr>\n",
       "      <th>4</th>\n",
       "      <td>Suwon</td>\n",
       "      <td>6.0</td>\n",
       "      <td>capital area</td>\n",
       "    </tr>\n",
       "  </tbody>\n",
       "</table>\n",
       "</div>"
      ],
      "text/plain": [
       "   address  city_num city_location\n",
       "0    Seoul       1.0  capital area\n",
       "1    Busan       2.0     provinces\n",
       "2      NaN       NaN           NaN\n",
       "3  Gwangju       4.0     provinces\n",
       "4    Suwon       6.0  capital area"
      ]
     },
     "execution_count": 20,
     "metadata": {},
     "output_type": "execute_result"
    }
   ],
   "source": [
    "# address 변수를 활용한  도시숫자 변수 및 지역위치 변수 간략조회\n",
    "abc[['address', 'city_num', 'city_location']].head()"
   ]
  },
  {
   "cell_type": "code",
   "execution_count": 21,
   "metadata": {
    "scrolled": false
   },
   "outputs": [
    {
     "data": {
      "text/html": [
       "<div>\n",
       "<table border=\"1\" class=\"dataframe\">\n",
       "  <thead>\n",
       "    <tr style=\"text-align: right;\">\n",
       "      <th></th>\n",
       "      <th>gender</th>\n",
       "      <th>job</th>\n",
       "      <th>age</th>\n",
       "      <th>position</th>\n",
       "      <th>address</th>\n",
       "      <th>total</th>\n",
       "      <th>check</th>\n",
       "      <th>price</th>\n",
       "      <th>survey</th>\n",
       "      <th>gender_label</th>\n",
       "      <th>job_label</th>\n",
       "      <th>position_label</th>\n",
       "      <th>city_num</th>\n",
       "      <th>city_location</th>\n",
       "      <th>city_location_num</th>\n",
       "    </tr>\n",
       "  </thead>\n",
       "  <tbody>\n",
       "    <tr>\n",
       "      <th>0</th>\n",
       "      <td>1</td>\n",
       "      <td>1.0</td>\n",
       "      <td>26.0</td>\n",
       "      <td>2.0</td>\n",
       "      <td>Seoul</td>\n",
       "      <td>66.3</td>\n",
       "      <td>5.0</td>\n",
       "      <td>5.1</td>\n",
       "      <td>3.0</td>\n",
       "      <td>남자</td>\n",
       "      <td>학생</td>\n",
       "      <td>대리</td>\n",
       "      <td>1.0</td>\n",
       "      <td>capital area</td>\n",
       "      <td>1.0</td>\n",
       "    </tr>\n",
       "    <tr>\n",
       "      <th>1</th>\n",
       "      <td>1</td>\n",
       "      <td>2.0</td>\n",
       "      <td>54.0</td>\n",
       "      <td>5.0</td>\n",
       "      <td>Busan</td>\n",
       "      <td>63.7</td>\n",
       "      <td>NaN</td>\n",
       "      <td>NaN</td>\n",
       "      <td>NaN</td>\n",
       "      <td>남자</td>\n",
       "      <td>주부</td>\n",
       "      <td>부장</td>\n",
       "      <td>2.0</td>\n",
       "      <td>provinces</td>\n",
       "      <td>2.0</td>\n",
       "    </tr>\n",
       "    <tr>\n",
       "      <th>2</th>\n",
       "      <td>1</td>\n",
       "      <td>2.0</td>\n",
       "      <td>41.0</td>\n",
       "      <td>4.0</td>\n",
       "      <td>NaN</td>\n",
       "      <td>61.1</td>\n",
       "      <td>5.0</td>\n",
       "      <td>4.7</td>\n",
       "      <td>2.0</td>\n",
       "      <td>남자</td>\n",
       "      <td>주부</td>\n",
       "      <td>차장</td>\n",
       "      <td>NaN</td>\n",
       "      <td>NaN</td>\n",
       "      <td>NaN</td>\n",
       "    </tr>\n",
       "    <tr>\n",
       "      <th>3</th>\n",
       "      <td>2</td>\n",
       "      <td>NaN</td>\n",
       "      <td>45.0</td>\n",
       "      <td>4.0</td>\n",
       "      <td>Gwangju</td>\n",
       "      <td>59.8</td>\n",
       "      <td>7.0</td>\n",
       "      <td>NaN</td>\n",
       "      <td>NaN</td>\n",
       "      <td>여자</td>\n",
       "      <td>NaN</td>\n",
       "      <td>차장</td>\n",
       "      <td>4.0</td>\n",
       "      <td>provinces</td>\n",
       "      <td>2.0</td>\n",
       "    </tr>\n",
       "    <tr>\n",
       "      <th>4</th>\n",
       "      <td>1</td>\n",
       "      <td>3.0</td>\n",
       "      <td>70.0</td>\n",
       "      <td>5.0</td>\n",
       "      <td>Suwon</td>\n",
       "      <td>650.0</td>\n",
       "      <td>5.0</td>\n",
       "      <td>5.0</td>\n",
       "      <td>4.0</td>\n",
       "      <td>남자</td>\n",
       "      <td>직장인</td>\n",
       "      <td>부장</td>\n",
       "      <td>6.0</td>\n",
       "      <td>capital area</td>\n",
       "      <td>1.0</td>\n",
       "    </tr>\n",
       "    <tr>\n",
       "      <th>5</th>\n",
       "      <td>1</td>\n",
       "      <td>2.0</td>\n",
       "      <td>57.0</td>\n",
       "      <td>NaN</td>\n",
       "      <td>Daejeon</td>\n",
       "      <td>70.2</td>\n",
       "      <td>7.0</td>\n",
       "      <td>5.4</td>\n",
       "      <td>5.0</td>\n",
       "      <td>남자</td>\n",
       "      <td>주부</td>\n",
       "      <td>NaN</td>\n",
       "      <td>3.0</td>\n",
       "      <td>provinces</td>\n",
       "      <td>2.0</td>\n",
       "    </tr>\n",
       "    <tr>\n",
       "      <th>6</th>\n",
       "      <td>2</td>\n",
       "      <td>1.0</td>\n",
       "      <td>36.0</td>\n",
       "      <td>3.0</td>\n",
       "      <td>Busan</td>\n",
       "      <td>59.8</td>\n",
       "      <td>5.0</td>\n",
       "      <td>NaN</td>\n",
       "      <td>NaN</td>\n",
       "      <td>여자</td>\n",
       "      <td>학생</td>\n",
       "      <td>과장</td>\n",
       "      <td>2.0</td>\n",
       "      <td>provinces</td>\n",
       "      <td>2.0</td>\n",
       "    </tr>\n",
       "    <tr>\n",
       "      <th>7</th>\n",
       "      <td>1</td>\n",
       "      <td>2.0</td>\n",
       "      <td>NaN</td>\n",
       "      <td>3.0</td>\n",
       "      <td>Jeju</td>\n",
       "      <td>65.0</td>\n",
       "      <td>12.0</td>\n",
       "      <td>675.0</td>\n",
       "      <td>3.0</td>\n",
       "      <td>남자</td>\n",
       "      <td>주부</td>\n",
       "      <td>과장</td>\n",
       "      <td>5.0</td>\n",
       "      <td>provinces</td>\n",
       "      <td>2.0</td>\n",
       "    </tr>\n",
       "    <tr>\n",
       "      <th>8</th>\n",
       "      <td>1</td>\n",
       "      <td>1.0</td>\n",
       "      <td>56.0</td>\n",
       "      <td>5.0</td>\n",
       "      <td>NaN</td>\n",
       "      <td>57.2</td>\n",
       "      <td>3.0</td>\n",
       "      <td>4.4</td>\n",
       "      <td>4.0</td>\n",
       "      <td>남자</td>\n",
       "      <td>학생</td>\n",
       "      <td>부장</td>\n",
       "      <td>NaN</td>\n",
       "      <td>NaN</td>\n",
       "      <td>NaN</td>\n",
       "    </tr>\n",
       "    <tr>\n",
       "      <th>9</th>\n",
       "      <td>1</td>\n",
       "      <td>2.0</td>\n",
       "      <td>37.0</td>\n",
       "      <td>3.0</td>\n",
       "      <td>Busan</td>\n",
       "      <td>63.7</td>\n",
       "      <td>4.0</td>\n",
       "      <td>4.9</td>\n",
       "      <td>3.0</td>\n",
       "      <td>남자</td>\n",
       "      <td>주부</td>\n",
       "      <td>과장</td>\n",
       "      <td>2.0</td>\n",
       "      <td>provinces</td>\n",
       "      <td>2.0</td>\n",
       "    </tr>\n",
       "  </tbody>\n",
       "</table>\n",
       "</div>"
      ],
      "text/plain": [
       "   gender  job   age  position  address  total  check  price  survey  \\\n",
       "0       1  1.0  26.0       2.0    Seoul   66.3    5.0    5.1     3.0   \n",
       "1       1  2.0  54.0       5.0    Busan   63.7    NaN    NaN     NaN   \n",
       "2       1  2.0  41.0       4.0      NaN   61.1    5.0    4.7     2.0   \n",
       "3       2  NaN  45.0       4.0  Gwangju   59.8    7.0    NaN     NaN   \n",
       "4       1  3.0  70.0       5.0    Suwon  650.0    5.0    5.0     4.0   \n",
       "5       1  2.0  57.0       NaN  Daejeon   70.2    7.0    5.4     5.0   \n",
       "6       2  1.0  36.0       3.0    Busan   59.8    5.0    NaN     NaN   \n",
       "7       1  2.0   NaN       3.0     Jeju   65.0   12.0  675.0     3.0   \n",
       "8       1  1.0  56.0       5.0      NaN   57.2    3.0    4.4     4.0   \n",
       "9       1  2.0  37.0       3.0    Busan   63.7    4.0    4.9     3.0   \n",
       "\n",
       "  gender_label job_label position_label  city_num city_location  \\\n",
       "0           남자        학생             대리       1.0  capital area   \n",
       "1           남자        주부             부장       2.0     provinces   \n",
       "2           남자        주부             차장       NaN           NaN   \n",
       "3           여자       NaN             차장       4.0     provinces   \n",
       "4           남자       직장인             부장       6.0  capital area   \n",
       "5           남자        주부            NaN       3.0     provinces   \n",
       "6           여자        학생             과장       2.0     provinces   \n",
       "7           남자        주부             과장       5.0     provinces   \n",
       "8           남자        학생             부장       NaN           NaN   \n",
       "9           남자        주부             과장       2.0     provinces   \n",
       "\n",
       "   city_location_num  \n",
       "0                1.0  \n",
       "1                2.0  \n",
       "2                NaN  \n",
       "3                2.0  \n",
       "4                1.0  \n",
       "5                2.0  \n",
       "6                2.0  \n",
       "7                2.0  \n",
       "8                NaN  \n",
       "9                2.0  "
      ]
     },
     "execution_count": 21,
     "metadata": {},
     "output_type": "execute_result"
    }
   ],
   "source": [
    "# address변수의 도시명 데이터를 개별적인 숫자로 변경해 새로운 변수컬럼으로 추가함\n",
    "old = ['capital area', 'provinces']\n",
    "new = [1, 2]\n",
    "abc['city_location_num'] = abc['city_location'].replace(old, new)\n",
    "\n",
    "abc.head(10)"
   ]
  },
  {
   "cell_type": "code",
   "execution_count": 22,
   "metadata": {
    "scrolled": true
   },
   "outputs": [
    {
     "data": {
      "text/html": [
       "<div>\n",
       "<table border=\"1\" class=\"dataframe\">\n",
       "  <thead>\n",
       "    <tr style=\"text-align: right;\">\n",
       "      <th></th>\n",
       "      <th>address</th>\n",
       "      <th>city_num</th>\n",
       "      <th>city_location</th>\n",
       "      <th>city_location_num</th>\n",
       "    </tr>\n",
       "  </thead>\n",
       "  <tbody>\n",
       "    <tr>\n",
       "      <th>0</th>\n",
       "      <td>Seoul</td>\n",
       "      <td>1.0</td>\n",
       "      <td>capital area</td>\n",
       "      <td>1.0</td>\n",
       "    </tr>\n",
       "    <tr>\n",
       "      <th>1</th>\n",
       "      <td>Busan</td>\n",
       "      <td>2.0</td>\n",
       "      <td>provinces</td>\n",
       "      <td>2.0</td>\n",
       "    </tr>\n",
       "    <tr>\n",
       "      <th>2</th>\n",
       "      <td>NaN</td>\n",
       "      <td>NaN</td>\n",
       "      <td>NaN</td>\n",
       "      <td>NaN</td>\n",
       "    </tr>\n",
       "    <tr>\n",
       "      <th>3</th>\n",
       "      <td>Gwangju</td>\n",
       "      <td>4.0</td>\n",
       "      <td>provinces</td>\n",
       "      <td>2.0</td>\n",
       "    </tr>\n",
       "    <tr>\n",
       "      <th>4</th>\n",
       "      <td>Suwon</td>\n",
       "      <td>6.0</td>\n",
       "      <td>capital area</td>\n",
       "      <td>1.0</td>\n",
       "    </tr>\n",
       "  </tbody>\n",
       "</table>\n",
       "</div>"
      ],
      "text/plain": [
       "   address  city_num city_location  city_location_num\n",
       "0    Seoul       1.0  capital area                1.0\n",
       "1    Busan       2.0     provinces                2.0\n",
       "2      NaN       NaN           NaN                NaN\n",
       "3  Gwangju       4.0     provinces                2.0\n",
       "4    Suwon       6.0  capital area                1.0"
      ]
     },
     "execution_count": 22,
     "metadata": {},
     "output_type": "execute_result"
    }
   ],
   "source": [
    "# address 변수를 활용한  도시숫자 변수 및 지역위치 변수, 지역위치 숫자변수에 대한 간략조회\n",
    "abc[['address', 'city_num', 'city_location', 'city_location_num']].head()"
   ]
  },
  {
   "cell_type": "markdown",
   "metadata": {},
   "source": [
    "## 연속형 변수를 범주화"
   ]
  },
  {
   "cell_type": "code",
   "execution_count": 23,
   "metadata": {},
   "outputs": [
    {
     "data": {
      "text/plain": [
       "[-inf, 30, 45, 65, inf]"
      ]
     },
     "execution_count": 23,
     "metadata": {},
     "output_type": "execute_result"
    }
   ],
   "source": [
    "# age 변수에 들어 있는 연령데이터를 연령층으로 범주화 하는데 사용할 구간범위 설정\n",
    "bins = [-np.inf, 30, 45, 65, np.inf]\n",
    "bins"
   ]
  },
  {
   "cell_type": "code",
   "execution_count": 24,
   "metadata": {},
   "outputs": [
    {
     "data": {
      "text/plain": [
       "[20.0, 30, 45, 65, 70.0]"
      ]
     },
     "execution_count": 24,
     "metadata": {},
     "output_type": "execute_result"
    }
   ],
   "source": [
    "# age변수의 연령층 범주데이터 변환을 위한  또다른 방식의 구간범위 설정\n",
    "bins2 = [abc.age.min(), 30, 45, 65, abc.age.max()]\n",
    "bins2"
   ]
  },
  {
   "cell_type": "code",
   "execution_count": 25,
   "metadata": {},
   "outputs": [],
   "source": [
    "# age변수에 대한 범주화 구분 수치 및 레이블 설정\n",
    "group_num = [1, 2, 3, 4]\n",
    "group_label = ['청년층', '중년층', '장년층', '노년층']"
   ]
  },
  {
   "cell_type": "code",
   "execution_count": 26,
   "metadata": {
    "collapsed": true
   },
   "outputs": [],
   "source": [
    "# age변수데이터를 사전에 bins에서 정의한 구간범위에 따라 범주화 수치를 부여 하여 새로운 변수컬럼 생성\n",
    "abc['age_class_num'] = pd.cut(abc.age, bins, labels=group_num)"
   ]
  },
  {
   "cell_type": "code",
   "execution_count": 27,
   "metadata": {
    "collapsed": true
   },
   "outputs": [],
   "source": [
    "# age변수데이터를 사전에 bins2에서 정의한 구간범위에 따라 범주화 라벨을 부여 하여 새로운 변수컬럼 생성\n",
    "abc['age_class_label'] = pd.cut(abc.age, bins2, labels=group_label)"
   ]
  },
  {
   "cell_type": "code",
   "execution_count": 28,
   "metadata": {},
   "outputs": [
    {
     "data": {
      "text/html": [
       "<div>\n",
       "<table border=\"1\" class=\"dataframe\">\n",
       "  <thead>\n",
       "    <tr style=\"text-align: right;\">\n",
       "      <th></th>\n",
       "      <th>age</th>\n",
       "      <th>age_class_num</th>\n",
       "      <th>age_class_label</th>\n",
       "    </tr>\n",
       "  </thead>\n",
       "  <tbody>\n",
       "    <tr>\n",
       "      <th>0</th>\n",
       "      <td>26.0</td>\n",
       "      <td>1.0</td>\n",
       "      <td>청년층</td>\n",
       "    </tr>\n",
       "    <tr>\n",
       "      <th>1</th>\n",
       "      <td>54.0</td>\n",
       "      <td>3.0</td>\n",
       "      <td>장년층</td>\n",
       "    </tr>\n",
       "    <tr>\n",
       "      <th>2</th>\n",
       "      <td>41.0</td>\n",
       "      <td>2.0</td>\n",
       "      <td>중년층</td>\n",
       "    </tr>\n",
       "    <tr>\n",
       "      <th>3</th>\n",
       "      <td>45.0</td>\n",
       "      <td>2.0</td>\n",
       "      <td>중년층</td>\n",
       "    </tr>\n",
       "    <tr>\n",
       "      <th>4</th>\n",
       "      <td>70.0</td>\n",
       "      <td>4.0</td>\n",
       "      <td>노년층</td>\n",
       "    </tr>\n",
       "    <tr>\n",
       "      <th>5</th>\n",
       "      <td>57.0</td>\n",
       "      <td>3.0</td>\n",
       "      <td>장년층</td>\n",
       "    </tr>\n",
       "    <tr>\n",
       "      <th>6</th>\n",
       "      <td>36.0</td>\n",
       "      <td>2.0</td>\n",
       "      <td>중년층</td>\n",
       "    </tr>\n",
       "    <tr>\n",
       "      <th>7</th>\n",
       "      <td>NaN</td>\n",
       "      <td>NaN</td>\n",
       "      <td>NaN</td>\n",
       "    </tr>\n",
       "    <tr>\n",
       "      <th>8</th>\n",
       "      <td>56.0</td>\n",
       "      <td>3.0</td>\n",
       "      <td>장년층</td>\n",
       "    </tr>\n",
       "    <tr>\n",
       "      <th>9</th>\n",
       "      <td>37.0</td>\n",
       "      <td>2.0</td>\n",
       "      <td>중년층</td>\n",
       "    </tr>\n",
       "  </tbody>\n",
       "</table>\n",
       "</div>"
      ],
      "text/plain": [
       "    age age_class_num age_class_label\n",
       "0  26.0           1.0             청년층\n",
       "1  54.0           3.0             장년층\n",
       "2  41.0           2.0             중년층\n",
       "3  45.0           2.0             중년층\n",
       "4  70.0           4.0             노년층\n",
       "5  57.0           3.0             장년층\n",
       "6  36.0           2.0             중년층\n",
       "7   NaN           NaN             NaN\n",
       "8  56.0           3.0             장년층\n",
       "9  37.0           2.0             중년층"
      ]
     },
     "execution_count": 28,
     "metadata": {},
     "output_type": "execute_result"
    }
   ],
   "source": [
    "# age변수데이터의 연령층 수치 및 라벨을 부여한 범주화 작업내용 간략조회\n",
    "abc[['age', 'age_class_num', 'age_class_label']].head(10)"
   ]
  },
  {
   "cell_type": "markdown",
   "metadata": {},
   "source": [
    "## 그룹화된 집계 연산1"
   ]
  },
  {
   "cell_type": "code",
   "execution_count": 29,
   "metadata": {},
   "outputs": [
    {
     "data": {
      "text/html": [
       "<div>\n",
       "<table border=\"1\" class=\"dataframe\">\n",
       "  <thead>\n",
       "    <tr style=\"text-align: right;\">\n",
       "      <th></th>\n",
       "      <th>age</th>\n",
       "    </tr>\n",
       "    <tr>\n",
       "      <th>address</th>\n",
       "      <th></th>\n",
       "    </tr>\n",
       "  </thead>\n",
       "  <tbody>\n",
       "    <tr>\n",
       "      <th>Busan</th>\n",
       "      <td>45.214286</td>\n",
       "    </tr>\n",
       "    <tr>\n",
       "      <th>Daejeon</th>\n",
       "      <td>47.700000</td>\n",
       "    </tr>\n",
       "    <tr>\n",
       "      <th>Gwangju</th>\n",
       "      <td>34.714286</td>\n",
       "    </tr>\n",
       "    <tr>\n",
       "      <th>Jeju</th>\n",
       "      <td>35.500000</td>\n",
       "    </tr>\n",
       "    <tr>\n",
       "      <th>Seoul</th>\n",
       "      <td>43.220339</td>\n",
       "    </tr>\n",
       "    <tr>\n",
       "      <th>Suwon</th>\n",
       "      <td>47.000000</td>\n",
       "    </tr>\n",
       "  </tbody>\n",
       "</table>\n",
       "</div>"
      ],
      "text/plain": [
       "               age\n",
       "address           \n",
       "Busan    45.214286\n",
       "Daejeon  47.700000\n",
       "Gwangju  34.714286\n",
       "Jeju     35.500000\n",
       "Seoul    43.220339\n",
       "Suwon    47.000000"
      ]
     },
     "execution_count": 29,
     "metadata": {},
     "output_type": "execute_result"
    }
   ],
   "source": [
    "# address 주소지에 따른 연령변수에 대한 평균값 그룹연산\n",
    "abc[['age']].groupby(abc['address']).mean()"
   ]
  },
  {
   "cell_type": "code",
   "execution_count": 30,
   "metadata": {},
   "outputs": [
    {
     "data": {
      "text/html": [
       "<div>\n",
       "<table border=\"1\" class=\"dataframe\">\n",
       "  <thead>\n",
       "    <tr style=\"text-align: right;\">\n",
       "      <th></th>\n",
       "      <th>price</th>\n",
       "    </tr>\n",
       "    <tr>\n",
       "      <th>job</th>\n",
       "      <th></th>\n",
       "    </tr>\n",
       "  </thead>\n",
       "  <tbody>\n",
       "    <tr>\n",
       "      <th>1.0</th>\n",
       "      <td>5.25</td>\n",
       "    </tr>\n",
       "    <tr>\n",
       "      <th>2.0</th>\n",
       "      <td>5.45</td>\n",
       "    </tr>\n",
       "    <tr>\n",
       "      <th>3.0</th>\n",
       "      <td>6.30</td>\n",
       "    </tr>\n",
       "  </tbody>\n",
       "</table>\n",
       "</div>"
      ],
      "text/plain": [
       "     price\n",
       "job       \n",
       "1.0   5.25\n",
       "2.0   5.45\n",
       "3.0   6.30"
      ]
     },
     "execution_count": 30,
     "metadata": {},
     "output_type": "execute_result"
    }
   ],
   "source": [
    "# job 직업유형에 따른 이벤트반응금액(price)에 대한 중앙값을 구하는 그룹연산\n",
    "abc[['price']].groupby(abc['job']).median()"
   ]
  },
  {
   "cell_type": "code",
   "execution_count": 31,
   "metadata": {},
   "outputs": [
    {
     "data": {
      "text/html": [
       "<div>\n",
       "<table border=\"1\" class=\"dataframe\">\n",
       "  <thead>\n",
       "    <tr style=\"text-align: right;\">\n",
       "      <th></th>\n",
       "      <th>price</th>\n",
       "    </tr>\n",
       "    <tr>\n",
       "      <th>job_label</th>\n",
       "      <th></th>\n",
       "    </tr>\n",
       "  </thead>\n",
       "  <tbody>\n",
       "    <tr>\n",
       "      <th>학생</th>\n",
       "      <td>5.25</td>\n",
       "    </tr>\n",
       "    <tr>\n",
       "      <th>주부</th>\n",
       "      <td>5.45</td>\n",
       "    </tr>\n",
       "    <tr>\n",
       "      <th>직장인</th>\n",
       "      <td>6.30</td>\n",
       "    </tr>\n",
       "  </tbody>\n",
       "</table>\n",
       "</div>"
      ],
      "text/plain": [
       "           price\n",
       "job_label       \n",
       "학생          5.25\n",
       "주부          5.45\n",
       "직장인         6.30"
      ]
     },
     "execution_count": 31,
     "metadata": {},
     "output_type": "execute_result"
    }
   ],
   "source": [
    "# job_label 직업라벨에 따른 이벤트반응금액(price)에 대한 중앙값을 구하는 그룹연산\n",
    "abc[['price']].groupby(abc['job_label'], sort=False).median()"
   ]
  },
  {
   "cell_type": "code",
   "execution_count": 32,
   "metadata": {},
   "outputs": [
    {
     "data": {
      "text/html": [
       "<div>\n",
       "<table border=\"1\" class=\"dataframe\">\n",
       "  <thead>\n",
       "    <tr style=\"text-align: right;\">\n",
       "      <th></th>\n",
       "      <th></th>\n",
       "      <th>price</th>\n",
       "    </tr>\n",
       "    <tr>\n",
       "      <th>job_label</th>\n",
       "      <th>gender_label</th>\n",
       "      <th></th>\n",
       "    </tr>\n",
       "  </thead>\n",
       "  <tbody>\n",
       "    <tr>\n",
       "      <th rowspan=\"2\" valign=\"top\">주부</th>\n",
       "      <th>남자</th>\n",
       "      <td>57.447059</td>\n",
       "    </tr>\n",
       "    <tr>\n",
       "      <th>여자</th>\n",
       "      <td>14.236842</td>\n",
       "    </tr>\n",
       "    <tr>\n",
       "      <th rowspan=\"2\" valign=\"top\">직장인</th>\n",
       "      <th>남자</th>\n",
       "      <td>5.425000</td>\n",
       "    </tr>\n",
       "    <tr>\n",
       "      <th>여자</th>\n",
       "      <td>27.137500</td>\n",
       "    </tr>\n",
       "    <tr>\n",
       "      <th rowspan=\"2\" valign=\"top\">학생</th>\n",
       "      <th>남자</th>\n",
       "      <td>4.418182</td>\n",
       "    </tr>\n",
       "    <tr>\n",
       "      <th>여자</th>\n",
       "      <td>-40.827273</td>\n",
       "    </tr>\n",
       "  </tbody>\n",
       "</table>\n",
       "</div>"
      ],
      "text/plain": [
       "                            price\n",
       "job_label gender_label           \n",
       "주부        남자            57.447059\n",
       "          여자            14.236842\n",
       "직장인       남자             5.425000\n",
       "          여자            27.137500\n",
       "학생        남자             4.418182\n",
       "          여자           -40.827273"
      ]
     },
     "execution_count": 32,
     "metadata": {},
     "output_type": "execute_result"
    }
   ],
   "source": [
    "# 직업 및 성별에 따른 이벤트반응금액(price)에 대한 평균값을 구하는 그룹연산\n",
    "abc[['price']].groupby([abc['job_label'],abc['gender_label']]).mean()"
   ]
  },
  {
   "cell_type": "code",
   "execution_count": 33,
   "metadata": {},
   "outputs": [
    {
     "name": "stderr",
     "output_type": "stream",
     "text": [
      "C:\\Program Files\\Anaconda3\\lib\\site-packages\\numpy\\lib\\function_base.py:3834: RuntimeWarning: Invalid value encountered in percentile\n",
      "  RuntimeWarning)\n"
     ]
    },
    {
     "data": {
      "text/html": [
       "<div>\n",
       "<table border=\"1\" class=\"dataframe\">\n",
       "  <thead>\n",
       "    <tr style=\"text-align: right;\">\n",
       "      <th></th>\n",
       "      <th></th>\n",
       "      <th></th>\n",
       "      <th>price</th>\n",
       "    </tr>\n",
       "    <tr>\n",
       "      <th>job_label</th>\n",
       "      <th>gender_label</th>\n",
       "      <th></th>\n",
       "      <th></th>\n",
       "    </tr>\n",
       "  </thead>\n",
       "  <tbody>\n",
       "    <tr>\n",
       "      <th rowspan=\"16\" valign=\"top\">주부</th>\n",
       "      <th rowspan=\"8\" valign=\"top\">남자</th>\n",
       "      <th>count</th>\n",
       "      <td>17.000000</td>\n",
       "    </tr>\n",
       "    <tr>\n",
       "      <th>mean</th>\n",
       "      <td>57.447059</td>\n",
       "    </tr>\n",
       "    <tr>\n",
       "      <th>std</th>\n",
       "      <td>167.872675</td>\n",
       "    </tr>\n",
       "    <tr>\n",
       "      <th>min</th>\n",
       "      <td>3.800000</td>\n",
       "    </tr>\n",
       "    <tr>\n",
       "      <th>25%</th>\n",
       "      <td>NaN</td>\n",
       "    </tr>\n",
       "    <tr>\n",
       "      <th>50%</th>\n",
       "      <td>NaN</td>\n",
       "    </tr>\n",
       "    <tr>\n",
       "      <th>75%</th>\n",
       "      <td>NaN</td>\n",
       "    </tr>\n",
       "    <tr>\n",
       "      <th>max</th>\n",
       "      <td>675.000000</td>\n",
       "    </tr>\n",
       "    <tr>\n",
       "      <th rowspan=\"8\" valign=\"top\">여자</th>\n",
       "      <th>count</th>\n",
       "      <td>19.000000</td>\n",
       "    </tr>\n",
       "    <tr>\n",
       "      <th>mean</th>\n",
       "      <td>14.236842</td>\n",
       "    </tr>\n",
       "    <tr>\n",
       "      <th>std</th>\n",
       "      <td>29.522971</td>\n",
       "    </tr>\n",
       "    <tr>\n",
       "      <th>min</th>\n",
       "      <td>-5.900000</td>\n",
       "    </tr>\n",
       "    <tr>\n",
       "      <th>25%</th>\n",
       "      <td>NaN</td>\n",
       "    </tr>\n",
       "    <tr>\n",
       "      <th>50%</th>\n",
       "      <td>NaN</td>\n",
       "    </tr>\n",
       "    <tr>\n",
       "      <th>75%</th>\n",
       "      <td>NaN</td>\n",
       "    </tr>\n",
       "    <tr>\n",
       "      <th>max</th>\n",
       "      <td>115.700000</td>\n",
       "    </tr>\n",
       "    <tr>\n",
       "      <th rowspan=\"16\" valign=\"top\">직장인</th>\n",
       "      <th rowspan=\"8\" valign=\"top\">남자</th>\n",
       "      <th>count</th>\n",
       "      <td>12.000000</td>\n",
       "    </tr>\n",
       "    <tr>\n",
       "      <th>mean</th>\n",
       "      <td>5.425000</td>\n",
       "    </tr>\n",
       "    <tr>\n",
       "      <th>std</th>\n",
       "      <td>0.894554</td>\n",
       "    </tr>\n",
       "    <tr>\n",
       "      <th>min</th>\n",
       "      <td>3.900000</td>\n",
       "    </tr>\n",
       "    <tr>\n",
       "      <th>25%</th>\n",
       "      <td>NaN</td>\n",
       "    </tr>\n",
       "    <tr>\n",
       "      <th>50%</th>\n",
       "      <td>NaN</td>\n",
       "    </tr>\n",
       "    <tr>\n",
       "      <th>75%</th>\n",
       "      <td>NaN</td>\n",
       "    </tr>\n",
       "    <tr>\n",
       "      <th>max</th>\n",
       "      <td>6.400000</td>\n",
       "    </tr>\n",
       "    <tr>\n",
       "      <th rowspan=\"8\" valign=\"top\">여자</th>\n",
       "      <th>count</th>\n",
       "      <td>16.000000</td>\n",
       "    </tr>\n",
       "    <tr>\n",
       "      <th>mean</th>\n",
       "      <td>27.137500</td>\n",
       "    </tr>\n",
       "    <tr>\n",
       "      <th>std</th>\n",
       "      <td>82.501062</td>\n",
       "    </tr>\n",
       "    <tr>\n",
       "      <th>min</th>\n",
       "      <td>4.300000</td>\n",
       "    </tr>\n",
       "    <tr>\n",
       "      <th>25%</th>\n",
       "      <td>NaN</td>\n",
       "    </tr>\n",
       "    <tr>\n",
       "      <th>50%</th>\n",
       "      <td>NaN</td>\n",
       "    </tr>\n",
       "    <tr>\n",
       "      <th>75%</th>\n",
       "      <td>NaN</td>\n",
       "    </tr>\n",
       "    <tr>\n",
       "      <th>max</th>\n",
       "      <td>336.500000</td>\n",
       "    </tr>\n",
       "    <tr>\n",
       "      <th rowspan=\"16\" valign=\"top\">학생</th>\n",
       "      <th rowspan=\"8\" valign=\"top\">남자</th>\n",
       "      <th>count</th>\n",
       "      <td>11.000000</td>\n",
       "    </tr>\n",
       "    <tr>\n",
       "      <th>mean</th>\n",
       "      <td>4.418182</td>\n",
       "    </tr>\n",
       "    <tr>\n",
       "      <th>std</th>\n",
       "      <td>3.106708</td>\n",
       "    </tr>\n",
       "    <tr>\n",
       "      <th>min</th>\n",
       "      <td>-4.800000</td>\n",
       "    </tr>\n",
       "    <tr>\n",
       "      <th>25%</th>\n",
       "      <td>NaN</td>\n",
       "    </tr>\n",
       "    <tr>\n",
       "      <th>50%</th>\n",
       "      <td>NaN</td>\n",
       "    </tr>\n",
       "    <tr>\n",
       "      <th>75%</th>\n",
       "      <td>NaN</td>\n",
       "    </tr>\n",
       "    <tr>\n",
       "      <th>max</th>\n",
       "      <td>6.400000</td>\n",
       "    </tr>\n",
       "    <tr>\n",
       "      <th rowspan=\"8\" valign=\"top\">여자</th>\n",
       "      <th>count</th>\n",
       "      <td>11.000000</td>\n",
       "    </tr>\n",
       "    <tr>\n",
       "      <th>mean</th>\n",
       "      <td>-40.827273</td>\n",
       "    </tr>\n",
       "    <tr>\n",
       "      <th>std</th>\n",
       "      <td>128.154275</td>\n",
       "    </tr>\n",
       "    <tr>\n",
       "      <th>min</th>\n",
       "      <td>-345.600000</td>\n",
       "    </tr>\n",
       "    <tr>\n",
       "      <th>25%</th>\n",
       "      <td>NaN</td>\n",
       "    </tr>\n",
       "    <tr>\n",
       "      <th>50%</th>\n",
       "      <td>NaN</td>\n",
       "    </tr>\n",
       "    <tr>\n",
       "      <th>75%</th>\n",
       "      <td>NaN</td>\n",
       "    </tr>\n",
       "    <tr>\n",
       "      <th>max</th>\n",
       "      <td>85.100000</td>\n",
       "    </tr>\n",
       "  </tbody>\n",
       "</table>\n",
       "</div>"
      ],
      "text/plain": [
       "                                   price\n",
       "job_label gender_label                  \n",
       "주부        남자           count   17.000000\n",
       "                       mean    57.447059\n",
       "                       std    167.872675\n",
       "                       min      3.800000\n",
       "                       25%           NaN\n",
       "                       50%           NaN\n",
       "                       75%           NaN\n",
       "                       max    675.000000\n",
       "          여자           count   19.000000\n",
       "                       mean    14.236842\n",
       "                       std     29.522971\n",
       "                       min     -5.900000\n",
       "                       25%           NaN\n",
       "                       50%           NaN\n",
       "                       75%           NaN\n",
       "                       max    115.700000\n",
       "직장인       남자           count   12.000000\n",
       "                       mean     5.425000\n",
       "                       std      0.894554\n",
       "                       min      3.900000\n",
       "                       25%           NaN\n",
       "                       50%           NaN\n",
       "                       75%           NaN\n",
       "                       max      6.400000\n",
       "          여자           count   16.000000\n",
       "                       mean    27.137500\n",
       "                       std     82.501062\n",
       "                       min      4.300000\n",
       "                       25%           NaN\n",
       "                       50%           NaN\n",
       "                       75%           NaN\n",
       "                       max    336.500000\n",
       "학생        남자           count   11.000000\n",
       "                       mean     4.418182\n",
       "                       std      3.106708\n",
       "                       min     -4.800000\n",
       "                       25%           NaN\n",
       "                       50%           NaN\n",
       "                       75%           NaN\n",
       "                       max      6.400000\n",
       "          여자           count   11.000000\n",
       "                       mean   -40.827273\n",
       "                       std    128.154275\n",
       "                       min   -345.600000\n",
       "                       25%           NaN\n",
       "                       50%           NaN\n",
       "                       75%           NaN\n",
       "                       max     85.100000"
      ]
     },
     "execution_count": 33,
     "metadata": {},
     "output_type": "execute_result"
    }
   ],
   "source": [
    "# 직업라벨 및 성별에 따른 이벤트반응금액(price)에 대한 기술통계분석을 수행하는 그룹연산\n",
    "abc[['price']].groupby([abc['job_label'],abc['gender_label']]).describe()"
   ]
  },
  {
   "cell_type": "markdown",
   "metadata": {},
   "source": [
    "## 그룹화된 집계 연산2"
   ]
  },
  {
   "cell_type": "code",
   "execution_count": 34,
   "metadata": {},
   "outputs": [
    {
     "data": {
      "text/plain": [
       "<pandas.core.groupby.DataFrameGroupBy object at 0x000000000AB03048>"
      ]
     },
     "execution_count": 34,
     "metadata": {},
     "output_type": "execute_result"
    }
   ],
   "source": [
    "# abc 데이터프레임에 대해 성별(gender)에 따른 그룹연산결과를 비교분석 하기 위한 설정\n",
    "bygender = abc.groupby('gender_label')\n",
    "bygender"
   ]
  },
  {
   "cell_type": "code",
   "execution_count": 35,
   "metadata": {},
   "outputs": [
    {
     "data": {
      "text/html": [
       "<div>\n",
       "<table border=\"1\" class=\"dataframe\">\n",
       "  <thead>\n",
       "    <tr style=\"text-align: right;\">\n",
       "      <th></th>\n",
       "      <th>price</th>\n",
       "    </tr>\n",
       "    <tr>\n",
       "      <th>gender_label</th>\n",
       "      <th></th>\n",
       "    </tr>\n",
       "  </thead>\n",
       "  <tbody>\n",
       "    <tr>\n",
       "      <th>남자</th>\n",
       "      <td>26.280952</td>\n",
       "    </tr>\n",
       "    <tr>\n",
       "      <th>여자</th>\n",
       "      <td>5.525000</td>\n",
       "    </tr>\n",
       "  </tbody>\n",
       "</table>\n",
       "</div>"
      ],
      "text/plain": [
       "                  price\n",
       "gender_label           \n",
       "남자            26.280952\n",
       "여자             5.525000"
      ]
     },
     "execution_count": 35,
     "metadata": {},
     "output_type": "execute_result"
    }
   ],
   "source": [
    "# 성별(gender)에 따른 이벤트반응금액(price)에 대한 기술통계분석을 수행하는 그룹연산\n",
    "bygender[['price']].mean()"
   ]
  },
  {
   "cell_type": "code",
   "execution_count": 36,
   "metadata": {},
   "outputs": [
    {
     "data": {
      "text/html": [
       "<div>\n",
       "<table border=\"1\" class=\"dataframe\">\n",
       "  <thead>\n",
       "    <tr style=\"text-align: right;\">\n",
       "      <th></th>\n",
       "      <th>total</th>\n",
       "      <th>price</th>\n",
       "    </tr>\n",
       "    <tr>\n",
       "      <th>gender_label</th>\n",
       "      <th></th>\n",
       "      <th></th>\n",
       "    </tr>\n",
       "  </thead>\n",
       "  <tbody>\n",
       "    <tr>\n",
       "      <th>남자</th>\n",
       "      <td>80.307042</td>\n",
       "      <td>26.280952</td>\n",
       "    </tr>\n",
       "    <tr>\n",
       "      <th>여자</th>\n",
       "      <td>78.789873</td>\n",
       "      <td>5.525000</td>\n",
       "    </tr>\n",
       "  </tbody>\n",
       "</table>\n",
       "</div>"
      ],
      "text/plain": [
       "                  total      price\n",
       "gender_label                      \n",
       "남자            80.307042  26.280952\n",
       "여자            78.789873   5.525000"
      ]
     },
     "execution_count": 36,
     "metadata": {},
     "output_type": "execute_result"
    }
   ],
   "source": [
    "# 성별(gender)에 따른 총거래금액(total), 이벤트반응금액(price)에 대한 평균값을 구하는 그룹연산\n",
    "bygender[['total', 'price']].mean()"
   ]
  },
  {
   "cell_type": "code",
   "execution_count": 37,
   "metadata": {},
   "outputs": [
    {
     "name": "stderr",
     "output_type": "stream",
     "text": [
      "C:\\Program Files\\Anaconda3\\lib\\site-packages\\numpy\\lib\\function_base.py:3834: RuntimeWarning: Invalid value encountered in percentile\n",
      "  RuntimeWarning)\n"
     ]
    },
    {
     "data": {
      "text/html": [
       "<div>\n",
       "<table border=\"1\" class=\"dataframe\">\n",
       "  <thead>\n",
       "    <tr style=\"text-align: right;\">\n",
       "      <th></th>\n",
       "      <th></th>\n",
       "      <th>price</th>\n",
       "    </tr>\n",
       "    <tr>\n",
       "      <th>gender_label</th>\n",
       "      <th></th>\n",
       "      <th></th>\n",
       "    </tr>\n",
       "  </thead>\n",
       "  <tbody>\n",
       "    <tr>\n",
       "      <th rowspan=\"8\" valign=\"top\">남자</th>\n",
       "      <th>count</th>\n",
       "      <td>42.000000</td>\n",
       "    </tr>\n",
       "    <tr>\n",
       "      <th>mean</th>\n",
       "      <td>26.280952</td>\n",
       "    </tr>\n",
       "    <tr>\n",
       "      <th>std</th>\n",
       "      <td>108.060307</td>\n",
       "    </tr>\n",
       "    <tr>\n",
       "      <th>min</th>\n",
       "      <td>-4.800000</td>\n",
       "    </tr>\n",
       "    <tr>\n",
       "      <th>25%</th>\n",
       "      <td>NaN</td>\n",
       "    </tr>\n",
       "    <tr>\n",
       "      <th>50%</th>\n",
       "      <td>NaN</td>\n",
       "    </tr>\n",
       "    <tr>\n",
       "      <th>75%</th>\n",
       "      <td>NaN</td>\n",
       "    </tr>\n",
       "    <tr>\n",
       "      <th>max</th>\n",
       "      <td>675.000000</td>\n",
       "    </tr>\n",
       "    <tr>\n",
       "      <th rowspan=\"8\" valign=\"top\">여자</th>\n",
       "      <th>count</th>\n",
       "      <td>48.000000</td>\n",
       "    </tr>\n",
       "    <tr>\n",
       "      <th>mean</th>\n",
       "      <td>5.525000</td>\n",
       "    </tr>\n",
       "    <tr>\n",
       "      <th>std</th>\n",
       "      <td>81.811268</td>\n",
       "    </tr>\n",
       "    <tr>\n",
       "      <th>min</th>\n",
       "      <td>-345.600000</td>\n",
       "    </tr>\n",
       "    <tr>\n",
       "      <th>25%</th>\n",
       "      <td>NaN</td>\n",
       "    </tr>\n",
       "    <tr>\n",
       "      <th>50%</th>\n",
       "      <td>NaN</td>\n",
       "    </tr>\n",
       "    <tr>\n",
       "      <th>75%</th>\n",
       "      <td>NaN</td>\n",
       "    </tr>\n",
       "    <tr>\n",
       "      <th>max</th>\n",
       "      <td>336.500000</td>\n",
       "    </tr>\n",
       "  </tbody>\n",
       "</table>\n",
       "</div>"
      ],
      "text/plain": [
       "                         price\n",
       "gender_label                  \n",
       "남자           count   42.000000\n",
       "             mean    26.280952\n",
       "             std    108.060307\n",
       "             min     -4.800000\n",
       "             25%           NaN\n",
       "             50%           NaN\n",
       "             75%           NaN\n",
       "             max    675.000000\n",
       "여자           count   48.000000\n",
       "             mean     5.525000\n",
       "             std     81.811268\n",
       "             min   -345.600000\n",
       "             25%           NaN\n",
       "             50%           NaN\n",
       "             75%           NaN\n",
       "             max    336.500000"
      ]
     },
     "execution_count": 37,
     "metadata": {},
     "output_type": "execute_result"
    }
   ],
   "source": [
    "# 성별(gender)에 따른 이벤트반응금액(price)에 대한 기술통계분석을 수행하는 그룹연산\n",
    "bygender[['price']].describe()"
   ]
  },
  {
   "cell_type": "code",
   "execution_count": 38,
   "metadata": {},
   "outputs": [
    {
     "name": "stderr",
     "output_type": "stream",
     "text": [
      "C:\\Program Files\\Anaconda3\\lib\\site-packages\\numpy\\lib\\function_base.py:3834: RuntimeWarning: Invalid value encountered in percentile\n",
      "  RuntimeWarning)\n"
     ]
    },
    {
     "data": {
      "text/html": [
       "<div>\n",
       "<table border=\"1\" class=\"dataframe\">\n",
       "  <thead>\n",
       "    <tr style=\"text-align: right;\">\n",
       "      <th></th>\n",
       "      <th></th>\n",
       "      <th>total</th>\n",
       "      <th>price</th>\n",
       "    </tr>\n",
       "    <tr>\n",
       "      <th>gender_label</th>\n",
       "      <th></th>\n",
       "      <th></th>\n",
       "      <th></th>\n",
       "    </tr>\n",
       "  </thead>\n",
       "  <tbody>\n",
       "    <tr>\n",
       "      <th rowspan=\"8\" valign=\"top\">남자</th>\n",
       "      <th>count</th>\n",
       "      <td>71.000000</td>\n",
       "      <td>42.000000</td>\n",
       "    </tr>\n",
       "    <tr>\n",
       "      <th>mean</th>\n",
       "      <td>80.307042</td>\n",
       "      <td>26.280952</td>\n",
       "    </tr>\n",
       "    <tr>\n",
       "      <th>std</th>\n",
       "      <td>69.321716</td>\n",
       "      <td>108.060307</td>\n",
       "    </tr>\n",
       "    <tr>\n",
       "      <th>min</th>\n",
       "      <td>57.200000</td>\n",
       "      <td>-4.800000</td>\n",
       "    </tr>\n",
       "    <tr>\n",
       "      <th>25%</th>\n",
       "      <td>65.000000</td>\n",
       "      <td>NaN</td>\n",
       "    </tr>\n",
       "    <tr>\n",
       "      <th>50%</th>\n",
       "      <td>70.200000</td>\n",
       "      <td>NaN</td>\n",
       "    </tr>\n",
       "    <tr>\n",
       "      <th>75%</th>\n",
       "      <td>80.600000</td>\n",
       "      <td>NaN</td>\n",
       "    </tr>\n",
       "    <tr>\n",
       "      <th>max</th>\n",
       "      <td>650.000000</td>\n",
       "      <td>675.000000</td>\n",
       "    </tr>\n",
       "    <tr>\n",
       "      <th rowspan=\"8\" valign=\"top\">여자</th>\n",
       "      <th>count</th>\n",
       "      <td>79.000000</td>\n",
       "      <td>48.000000</td>\n",
       "    </tr>\n",
       "    <tr>\n",
       "      <th>mean</th>\n",
       "      <td>78.789873</td>\n",
       "      <td>5.525000</td>\n",
       "    </tr>\n",
       "    <tr>\n",
       "      <th>std</th>\n",
       "      <td>18.921644</td>\n",
       "      <td>81.811268</td>\n",
       "    </tr>\n",
       "    <tr>\n",
       "      <th>min</th>\n",
       "      <td>5.000000</td>\n",
       "      <td>-345.600000</td>\n",
       "    </tr>\n",
       "    <tr>\n",
       "      <th>25%</th>\n",
       "      <td>72.800000</td>\n",
       "      <td>NaN</td>\n",
       "    </tr>\n",
       "    <tr>\n",
       "      <th>50%</th>\n",
       "      <td>79.300000</td>\n",
       "      <td>NaN</td>\n",
       "    </tr>\n",
       "    <tr>\n",
       "      <th>75%</th>\n",
       "      <td>87.100000</td>\n",
       "      <td>NaN</td>\n",
       "    </tr>\n",
       "    <tr>\n",
       "      <th>max</th>\n",
       "      <td>180.000000</td>\n",
       "      <td>336.500000</td>\n",
       "    </tr>\n",
       "  </tbody>\n",
       "</table>\n",
       "</div>"
      ],
      "text/plain": [
       "                         total       price\n",
       "gender_label                              \n",
       "남자           count   71.000000   42.000000\n",
       "             mean    80.307042   26.280952\n",
       "             std     69.321716  108.060307\n",
       "             min     57.200000   -4.800000\n",
       "             25%     65.000000         NaN\n",
       "             50%     70.200000         NaN\n",
       "             75%     80.600000         NaN\n",
       "             max    650.000000  675.000000\n",
       "여자           count   79.000000   48.000000\n",
       "             mean    78.789873    5.525000\n",
       "             std     18.921644   81.811268\n",
       "             min      5.000000 -345.600000\n",
       "             25%     72.800000         NaN\n",
       "             50%     79.300000         NaN\n",
       "             75%     87.100000         NaN\n",
       "             max    180.000000  336.500000"
      ]
     },
     "execution_count": 38,
     "metadata": {},
     "output_type": "execute_result"
    }
   ],
   "source": [
    "# 성별(gender)에 따른 총거래금액(total), 이벤트반응금액(price)에 대한 기술통계분석을 수행하는 그룹연산\n",
    "bygender[['total', 'price']].describe()"
   ]
  },
  {
   "cell_type": "code",
   "execution_count": 39,
   "metadata": {},
   "outputs": [
    {
     "data": {
      "text/html": [
       "<div>\n",
       "<table border=\"1\" class=\"dataframe\">\n",
       "  <thead>\n",
       "    <tr>\n",
       "      <th></th>\n",
       "      <th colspan=\"5\" halign=\"left\">total</th>\n",
       "      <th colspan=\"5\" halign=\"left\">price</th>\n",
       "    </tr>\n",
       "    <tr>\n",
       "      <th></th>\n",
       "      <th>sum</th>\n",
       "      <th>mean</th>\n",
       "      <th>median</th>\n",
       "      <th>std</th>\n",
       "      <th>len</th>\n",
       "      <th>sum</th>\n",
       "      <th>mean</th>\n",
       "      <th>median</th>\n",
       "      <th>std</th>\n",
       "      <th>len</th>\n",
       "    </tr>\n",
       "    <tr>\n",
       "      <th>gender_label</th>\n",
       "      <th></th>\n",
       "      <th></th>\n",
       "      <th></th>\n",
       "      <th></th>\n",
       "      <th></th>\n",
       "      <th></th>\n",
       "      <th></th>\n",
       "      <th></th>\n",
       "      <th></th>\n",
       "      <th></th>\n",
       "    </tr>\n",
       "  </thead>\n",
       "  <tbody>\n",
       "    <tr>\n",
       "      <th>남자</th>\n",
       "      <td>5701.8</td>\n",
       "      <td>80.307042</td>\n",
       "      <td>70.2</td>\n",
       "      <td>69.321716</td>\n",
       "      <td>71.0</td>\n",
       "      <td>1103.8</td>\n",
       "      <td>26.280952</td>\n",
       "      <td>5.20</td>\n",
       "      <td>108.060307</td>\n",
       "      <td>71.0</td>\n",
       "    </tr>\n",
       "    <tr>\n",
       "      <th>여자</th>\n",
       "      <td>6224.4</td>\n",
       "      <td>78.789873</td>\n",
       "      <td>79.3</td>\n",
       "      <td>18.921644</td>\n",
       "      <td>79.0</td>\n",
       "      <td>265.2</td>\n",
       "      <td>5.525000</td>\n",
       "      <td>6.05</td>\n",
       "      <td>81.811268</td>\n",
       "      <td>79.0</td>\n",
       "    </tr>\n",
       "  </tbody>\n",
       "</table>\n",
       "</div>"
      ],
      "text/plain": [
       "               total                                      price             \\\n",
       "                 sum       mean median        std   len     sum       mean   \n",
       "gender_label                                                                 \n",
       "남자            5701.8  80.307042   70.2  69.321716  71.0  1103.8  26.280952   \n",
       "여자            6224.4  78.789873   79.3  18.921644  79.0   265.2   5.525000   \n",
       "\n",
       "                                       \n",
       "             median         std   len  \n",
       "gender_label                           \n",
       "남자             5.20  108.060307  71.0  \n",
       "여자             6.05   81.811268  79.0  "
      ]
     },
     "execution_count": 39,
     "metadata": {},
     "output_type": "execute_result"
    }
   ],
   "source": [
    "# 성별(gender)에 따른 총거래금액(total), 이벤트반응금액(price)에 대한 주요 기술통계량을 분석하는 그룹연산\n",
    "bygender[['total', 'price']].agg([np.sum, np.mean, np.median, np.std, len])"
   ]
  },
  {
   "cell_type": "markdown",
   "metadata": {},
   "source": [
    "## 두 변수간 교차분석"
   ]
  },
  {
   "cell_type": "code",
   "execution_count": 40,
   "metadata": {
    "scrolled": true
   },
   "outputs": [
    {
     "data": {
      "text/html": [
       "<div>\n",
       "<table border=\"1\" class=\"dataframe\">\n",
       "  <thead>\n",
       "    <tr style=\"text-align: right;\">\n",
       "      <th>position_label</th>\n",
       "      <th>과장</th>\n",
       "      <th>대리</th>\n",
       "      <th>부장</th>\n",
       "      <th>사원</th>\n",
       "      <th>차장</th>\n",
       "    </tr>\n",
       "    <tr>\n",
       "      <th>gender_label</th>\n",
       "      <th></th>\n",
       "      <th></th>\n",
       "      <th></th>\n",
       "      <th></th>\n",
       "      <th></th>\n",
       "    </tr>\n",
       "  </thead>\n",
       "  <tbody>\n",
       "    <tr>\n",
       "      <th>남자</th>\n",
       "      <td>8</td>\n",
       "      <td>10</td>\n",
       "      <td>23</td>\n",
       "      <td>8</td>\n",
       "      <td>16</td>\n",
       "    </tr>\n",
       "    <tr>\n",
       "      <th>여자</th>\n",
       "      <td>9</td>\n",
       "      <td>11</td>\n",
       "      <td>23</td>\n",
       "      <td>12</td>\n",
       "      <td>18</td>\n",
       "    </tr>\n",
       "  </tbody>\n",
       "</table>\n",
       "</div>"
      ],
      "text/plain": [
       "position_label  과장  대리  부장  사원  차장\n",
       "gender_label                      \n",
       "남자               8  10  23   8  16\n",
       "여자               9  11  23  12  18"
      ]
     },
     "execution_count": 40,
     "metadata": {},
     "output_type": "execute_result"
    }
   ],
   "source": [
    "# 성별라벨과 직급라벨 변수간 교차분석 ==> 직급라벨의 직급순서가 어색함\n",
    "pd.crosstab(abc.gender_label, abc.position_label)"
   ]
  },
  {
   "cell_type": "code",
   "execution_count": 41,
   "metadata": {},
   "outputs": [
    {
     "data": {
      "text/plain": [
       "0    대리\n",
       "1    부장\n",
       "2    차장\n",
       "3    차장\n",
       "4    부장\n",
       "Name: position_label, dtype: object"
      ]
     },
     "execution_count": 41,
     "metadata": {},
     "output_type": "execute_result"
    }
   ],
   "source": [
    "# 직급라벨 간략조회\n",
    "abc['position_label'].head()"
   ]
  },
  {
   "cell_type": "code",
   "execution_count": 42,
   "metadata": {},
   "outputs": [
    {
     "data": {
      "text/plain": [
       "0    대리\n",
       "1    부장\n",
       "2    차장\n",
       "3    차장\n",
       "4    부장\n",
       "Name: position_label, dtype: category\n",
       "Categories (5, object): [과장, 대리, 부장, 사원, 차장]"
      ]
     },
     "execution_count": 42,
     "metadata": {},
     "output_type": "execute_result"
    }
   ],
   "source": [
    "# 직급라벨 변수의 데이터를 범주형데이터로 명시적으로 만들어줌\n",
    "abc['position_label'] = pd.Categorical.from_array(abc.position_label)\n",
    "abc['position_label'].head()"
   ]
  },
  {
   "cell_type": "code",
   "execution_count": 43,
   "metadata": {},
   "outputs": [
    {
     "data": {
      "text/plain": [
       "0    대리\n",
       "1    부장\n",
       "2    차장\n",
       "3    차장\n",
       "4    부장\n",
       "Name: position_label, dtype: category\n",
       "Categories (5, object): [사원 < 대리 < 과장 < 차장 < 부장]"
      ]
     },
     "execution_count": 43,
     "metadata": {},
     "output_type": "execute_result"
    }
   ],
   "source": [
    "# 직급라벨 변수의 개별직급의 서열순위를 명시적으로 설정함\n",
    "position_order = ['사원', '대리', '과장', '차장', '부장']\n",
    "abc['position_label'] = abc['position_label'].cat.reorder_categories(position_order, ordered=True)\n",
    "abc['position_label'].head()"
   ]
  },
  {
   "cell_type": "code",
   "execution_count": 44,
   "metadata": {},
   "outputs": [
    {
     "data": {
      "text/html": [
       "<div>\n",
       "<table border=\"1\" class=\"dataframe\">\n",
       "  <thead>\n",
       "    <tr style=\"text-align: right;\">\n",
       "      <th>position_label</th>\n",
       "      <th>사원</th>\n",
       "      <th>대리</th>\n",
       "      <th>과장</th>\n",
       "      <th>차장</th>\n",
       "      <th>부장</th>\n",
       "      <th>All</th>\n",
       "    </tr>\n",
       "    <tr>\n",
       "      <th>gender_label</th>\n",
       "      <th></th>\n",
       "      <th></th>\n",
       "      <th></th>\n",
       "      <th></th>\n",
       "      <th></th>\n",
       "      <th></th>\n",
       "    </tr>\n",
       "  </thead>\n",
       "  <tbody>\n",
       "    <tr>\n",
       "      <th>남자</th>\n",
       "      <td>8</td>\n",
       "      <td>10</td>\n",
       "      <td>8</td>\n",
       "      <td>16</td>\n",
       "      <td>23</td>\n",
       "      <td>65</td>\n",
       "    </tr>\n",
       "    <tr>\n",
       "      <th>여자</th>\n",
       "      <td>12</td>\n",
       "      <td>11</td>\n",
       "      <td>9</td>\n",
       "      <td>18</td>\n",
       "      <td>23</td>\n",
       "      <td>73</td>\n",
       "    </tr>\n",
       "    <tr>\n",
       "      <th>All</th>\n",
       "      <td>20</td>\n",
       "      <td>21</td>\n",
       "      <td>17</td>\n",
       "      <td>34</td>\n",
       "      <td>46</td>\n",
       "      <td>138</td>\n",
       "    </tr>\n",
       "  </tbody>\n",
       "</table>\n",
       "</div>"
      ],
      "text/plain": [
       "position_label  사원  대리  과장  차장  부장  All\n",
       "gender_label                           \n",
       "남자               8  10   8  16  23   65\n",
       "여자              12  11   9  18  23   73\n",
       "All             20  21  17  34  46  138"
      ]
     },
     "execution_count": 44,
     "metadata": {},
     "output_type": "execute_result"
    }
   ],
   "source": [
    "# 성별라벨과 직급라벨 변수간 교차분석\n",
    "pd.crosstab(abc.gender_label, abc.position_label, margins=True)"
   ]
  },
  {
   "cell_type": "code",
   "execution_count": 45,
   "metadata": {},
   "outputs": [
    {
     "data": {
      "text/html": [
       "<div>\n",
       "<table border=\"1\" class=\"dataframe\">\n",
       "  <thead>\n",
       "    <tr style=\"text-align: right;\">\n",
       "      <th>position_label</th>\n",
       "      <th>사원</th>\n",
       "      <th>대리</th>\n",
       "      <th>과장</th>\n",
       "      <th>차장</th>\n",
       "      <th>부장</th>\n",
       "      <th>All</th>\n",
       "    </tr>\n",
       "    <tr>\n",
       "      <th>gender_label</th>\n",
       "      <th></th>\n",
       "      <th></th>\n",
       "      <th></th>\n",
       "      <th></th>\n",
       "      <th></th>\n",
       "      <th></th>\n",
       "    </tr>\n",
       "  </thead>\n",
       "  <tbody>\n",
       "    <tr>\n",
       "      <th>남자</th>\n",
       "      <td>0.057971</td>\n",
       "      <td>0.072464</td>\n",
       "      <td>0.057971</td>\n",
       "      <td>0.115942</td>\n",
       "      <td>0.166667</td>\n",
       "      <td>0.471014</td>\n",
       "    </tr>\n",
       "    <tr>\n",
       "      <th>여자</th>\n",
       "      <td>0.086957</td>\n",
       "      <td>0.079710</td>\n",
       "      <td>0.065217</td>\n",
       "      <td>0.130435</td>\n",
       "      <td>0.166667</td>\n",
       "      <td>0.528986</td>\n",
       "    </tr>\n",
       "    <tr>\n",
       "      <th>All</th>\n",
       "      <td>0.144928</td>\n",
       "      <td>0.152174</td>\n",
       "      <td>0.123188</td>\n",
       "      <td>0.246377</td>\n",
       "      <td>0.333333</td>\n",
       "      <td>1.000000</td>\n",
       "    </tr>\n",
       "  </tbody>\n",
       "</table>\n",
       "</div>"
      ],
      "text/plain": [
       "position_label        사원        대리        과장        차장        부장       All\n",
       "gender_label                                                              \n",
       "남자              0.057971  0.072464  0.057971  0.115942  0.166667  0.471014\n",
       "여자              0.086957  0.079710  0.065217  0.130435  0.166667  0.528986\n",
       "All             0.144928  0.152174  0.123188  0.246377  0.333333  1.000000"
      ]
     },
     "execution_count": 45,
     "metadata": {},
     "output_type": "execute_result"
    }
   ],
   "source": [
    "# 성별라벨과 직급라벨 변수간 교차분석: 빈도수가 아닌 백분율로 표현  normalize=all, index, columns\n",
    "pd.crosstab(abc.gender_label, abc.position_label, margins=True, normalize='all')"
   ]
  },
  {
   "cell_type": "code",
   "execution_count": 46,
   "metadata": {},
   "outputs": [
    {
     "data": {
      "text/html": [
       "<div>\n",
       "<table border=\"1\" class=\"dataframe\">\n",
       "  <thead>\n",
       "    <tr style=\"text-align: right;\">\n",
       "      <th>position_label</th>\n",
       "      <th>사원</th>\n",
       "      <th>대리</th>\n",
       "      <th>과장</th>\n",
       "      <th>차장</th>\n",
       "      <th>부장</th>\n",
       "    </tr>\n",
       "    <tr>\n",
       "      <th>gender_label</th>\n",
       "      <th></th>\n",
       "      <th></th>\n",
       "      <th></th>\n",
       "      <th></th>\n",
       "      <th></th>\n",
       "    </tr>\n",
       "  </thead>\n",
       "  <tbody>\n",
       "    <tr>\n",
       "      <th>남자</th>\n",
       "      <td>8</td>\n",
       "      <td>10</td>\n",
       "      <td>8</td>\n",
       "      <td>16</td>\n",
       "      <td>23</td>\n",
       "    </tr>\n",
       "    <tr>\n",
       "      <th>여자</th>\n",
       "      <td>12</td>\n",
       "      <td>11</td>\n",
       "      <td>9</td>\n",
       "      <td>18</td>\n",
       "      <td>23</td>\n",
       "    </tr>\n",
       "  </tbody>\n",
       "</table>\n",
       "</div>"
      ],
      "text/plain": [
       "position_label  사원  대리  과장  차장  부장\n",
       "gender_label                      \n",
       "남자               8  10   8  16  23\n",
       "여자              12  11   9  18  23"
      ]
     },
     "execution_count": 46,
     "metadata": {},
     "output_type": "execute_result"
    }
   ],
   "source": [
    "# 그래프를 그리기 위해 margin없는 성별라벨과 직급라벨 변수간 교차분석 테이블 생성\n",
    "gp = pd.crosstab(abc.gender_label, abc.position_label)\n",
    "gp"
   ]
  },
  {
   "cell_type": "code",
   "execution_count": 47,
   "metadata": {},
   "outputs": [
    {
     "data": {
      "text/plain": [
       "<matplotlib.axes._subplots.AxesSubplot at 0x9a50dd8>"
      ]
     },
     "execution_count": 47,
     "metadata": {},
     "output_type": "execute_result"
    },
    {
     "data": {
      "image/png": "[encoded data removed]",
      "text/plain": [
       "<matplotlib.figure.Figure at 0x9a6a6d8>"
      ]
     },
     "metadata": {},
     "output_type": "display_data"
    }
   ],
   "source": [
    "# 성별라벨과 직급라벨 변수간 교차분석결과를 그래프(dodge형)로 구현\n",
    "gp.plot(kind='bar', rot=0, alpha=0.5)"
   ]
  },
  {
   "cell_type": "code",
   "execution_count": 48,
   "metadata": {
    "scrolled": true
   },
   "outputs": [
    {
     "data": {
      "text/plain": [
       "<matplotlib.axes._subplots.AxesSubplot at 0x98e4ba8>"
      ]
     },
     "execution_count": 48,
     "metadata": {},
     "output_type": "execute_result"
    },
    {
     "data": {
      "image/png": "[encoded data removed]",
      "text/plain": [
       "<matplotlib.figure.Figure at 0x98b0fd0>"
      ]
     },
     "metadata": {},
     "output_type": "display_data"
    }
   ],
   "source": [
    "# 성별라벨과 직급라벨 변수간 교차분석결과를 그래프(stack형)로 구현\n",
    "gp.plot(kind='bar', stacked = True, rot=0, alpha=0.5)"
   ]
  },
  {
   "cell_type": "code",
   "execution_count": 49,
   "metadata": {
    "scrolled": true
   },
   "outputs": [
    {
     "data": {
      "text/html": [
       "<div>\n",
       "<table border=\"1\" class=\"dataframe\">\n",
       "  <thead>\n",
       "    <tr style=\"text-align: right;\">\n",
       "      <th>position_label</th>\n",
       "      <th>사원</th>\n",
       "      <th>대리</th>\n",
       "      <th>과장</th>\n",
       "      <th>차장</th>\n",
       "      <th>부장</th>\n",
       "    </tr>\n",
       "    <tr>\n",
       "      <th>gender_label</th>\n",
       "      <th></th>\n",
       "      <th></th>\n",
       "      <th></th>\n",
       "      <th></th>\n",
       "      <th></th>\n",
       "    </tr>\n",
       "  </thead>\n",
       "  <tbody>\n",
       "    <tr>\n",
       "      <th>남자</th>\n",
       "      <td>0.123077</td>\n",
       "      <td>0.153846</td>\n",
       "      <td>0.123077</td>\n",
       "      <td>0.246154</td>\n",
       "      <td>0.353846</td>\n",
       "    </tr>\n",
       "    <tr>\n",
       "      <th>여자</th>\n",
       "      <td>0.164384</td>\n",
       "      <td>0.150685</td>\n",
       "      <td>0.123288</td>\n",
       "      <td>0.246575</td>\n",
       "      <td>0.315068</td>\n",
       "    </tr>\n",
       "  </tbody>\n",
       "</table>\n",
       "</div>"
      ],
      "text/plain": [
       "position_label        사원        대리        과장        차장        부장\n",
       "gender_label                                                    \n",
       "남자              0.123077  0.153846  0.123077  0.246154  0.353846\n",
       "여자              0.164384  0.150685  0.123288  0.246575  0.315068"
      ]
     },
     "execution_count": 49,
     "metadata": {},
     "output_type": "execute_result"
    }
   ],
   "source": [
    "# 성별라벨과 직급라벨 변수간 교차분석: 빈도수가 아닌 비율로 표현  normalize=all, index, columns\n",
    "gp_prop = pd.crosstab(abc.gender_label, abc.position_label, normalize='index')\n",
    "pd.crosstab(abc.gender_label, abc.position_label, normalize='index')"
   ]
  },
  {
   "cell_type": "code",
   "execution_count": 50,
   "metadata": {
    "scrolled": true
   },
   "outputs": [
    {
     "data": {
      "text/plain": [
       "<matplotlib.axes._subplots.AxesSubplot at 0x9a4a780>"
      ]
     },
     "execution_count": 50,
     "metadata": {},
     "output_type": "execute_result"
    },
    {
     "data": {
      "image/png": "[encoded data removed]",
      "text/plain": [
       "<matplotlib.figure.Figure at 0xacc38d0>"
      ]
     },
     "metadata": {},
     "output_type": "display_data"
    }
   ],
   "source": [
    "# 성별라벨과 직급라벨 변수간 교차분석결과(비율기준)를 그래프(dodge형)로 구현\n",
    "gp_prop.plot(kind='bar', rot=0, alpha=0.5)"
   ]
  },
  {
   "cell_type": "code",
   "execution_count": 51,
   "metadata": {
    "scrolled": false
   },
   "outputs": [
    {
     "data": {
      "text/plain": [
       "<matplotlib.axes._subplots.AxesSubplot at 0xaf256a0>"
      ]
     },
     "execution_count": 51,
     "metadata": {},
     "output_type": "execute_result"
    },
    {
     "data": {
      "image/png": "[encoded data removed]",
      "text/plain": [
       "<matplotlib.figure.Figure at 0xaecf048>"
      ]
     },
     "metadata": {},
     "output_type": "display_data"
    }
   ],
   "source": [
    "# 성별라벨과 직급라벨 변수간 교차분석결과(비율기준)를 그래프(stack형)로 구현\n",
    "gp_prop.plot(kind='bar', stacked = True, rot=0, alpha=0.5)"
   ]
  },
  {
   "cell_type": "markdown",
   "metadata": {},
   "source": [
    "## 피벗핑을 활용한 교차분석"
   ]
  },
  {
   "cell_type": "code",
   "execution_count": 52,
   "metadata": {
    "scrolled": true
   },
   "outputs": [
    {
     "data": {
      "text/html": [
       "<div>\n",
       "<table border=\"1\" class=\"dataframe\">\n",
       "  <thead>\n",
       "    <tr style=\"text-align: right;\">\n",
       "      <th>position_label</th>\n",
       "      <th>사원</th>\n",
       "      <th>대리</th>\n",
       "      <th>과장</th>\n",
       "      <th>차장</th>\n",
       "      <th>부장</th>\n",
       "      <th>All</th>\n",
       "    </tr>\n",
       "    <tr>\n",
       "      <th>gender_label</th>\n",
       "      <th></th>\n",
       "      <th></th>\n",
       "      <th></th>\n",
       "      <th></th>\n",
       "      <th></th>\n",
       "      <th></th>\n",
       "    </tr>\n",
       "  </thead>\n",
       "  <tbody>\n",
       "    <tr>\n",
       "      <th>남자</th>\n",
       "      <td>4.950000</td>\n",
       "      <td>4.050000</td>\n",
       "      <td>117.100000</td>\n",
       "      <td>5.527273</td>\n",
       "      <td>5.033333</td>\n",
       "      <td>22.655263</td>\n",
       "    </tr>\n",
       "    <tr>\n",
       "      <th>여자</th>\n",
       "      <td>-28.371429</td>\n",
       "      <td>4.942857</td>\n",
       "      <td>3.200000</td>\n",
       "      <td>5.922222</td>\n",
       "      <td>11.931250</td>\n",
       "      <td>2.186364</td>\n",
       "    </tr>\n",
       "    <tr>\n",
       "      <th>All</th>\n",
       "      <td>-16.254545</td>\n",
       "      <td>4.466667</td>\n",
       "      <td>65.327273</td>\n",
       "      <td>5.705000</td>\n",
       "      <td>9.448000</td>\n",
       "      <td>11.671951</td>\n",
       "    </tr>\n",
       "  </tbody>\n",
       "</table>\n",
       "</div>"
      ],
      "text/plain": [
       "position_label         사원        대리          과장        차장         부장  \\\n",
       "gender_label                                                           \n",
       "남자               4.950000  4.050000  117.100000  5.527273   5.033333   \n",
       "여자             -28.371429  4.942857    3.200000  5.922222  11.931250   \n",
       "All            -16.254545  4.466667   65.327273  5.705000   9.448000   \n",
       "\n",
       "position_label        All  \n",
       "gender_label               \n",
       "남자              22.655263  \n",
       "여자               2.186364  \n",
       "All             11.671951  "
      ]
     },
     "execution_count": 52,
     "metadata": {},
     "output_type": "execute_result"
    }
   ],
   "source": [
    "# 성별라벨 및 사원라벨에 따른 이벤트반응금액(price) 피벗팅 테이블 도출\n",
    "abc.pivot_table('price', 'gender_label', 'position_label', aggfunc = 'mean', margins =True)"
   ]
  },
  {
   "cell_type": "code",
   "execution_count": 53,
   "metadata": {},
   "outputs": [
    {
     "name": "stdout",
     "output_type": "stream",
     "text": [
      "<class 'pandas.core.frame.DataFrame'>\n",
      "RangeIndex: 150 entries, 0 to 149\n",
      "Data columns (total 1 columns):\n",
      "price    90 non-null float64\n",
      "dtypes: float64(1)\n",
      "memory usage: 1.2 KB\n"
     ]
    }
   ],
   "source": [
    "# price변수의 기본구조 조회\n",
    "abc[['price']].info()"
   ]
  },
  {
   "cell_type": "code",
   "execution_count": 54,
   "metadata": {},
   "outputs": [
    {
     "name": "stderr",
     "output_type": "stream",
     "text": [
      "C:\\Program Files\\Anaconda3\\lib\\site-packages\\numpy\\lib\\function_base.py:3834: RuntimeWarning: Invalid value encountered in percentile\n",
      "  RuntimeWarning)\n"
     ]
    },
    {
     "data": {
      "text/html": [
       "<div>\n",
       "<table border=\"1\" class=\"dataframe\">\n",
       "  <thead>\n",
       "    <tr style=\"text-align: right;\">\n",
       "      <th></th>\n",
       "      <th>price</th>\n",
       "    </tr>\n",
       "  </thead>\n",
       "  <tbody>\n",
       "    <tr>\n",
       "      <th>count</th>\n",
       "      <td>90.000000</td>\n",
       "    </tr>\n",
       "    <tr>\n",
       "      <th>mean</th>\n",
       "      <td>15.211111</td>\n",
       "    </tr>\n",
       "    <tr>\n",
       "      <th>std</th>\n",
       "      <td>94.985705</td>\n",
       "    </tr>\n",
       "    <tr>\n",
       "      <th>min</th>\n",
       "      <td>-345.600000</td>\n",
       "    </tr>\n",
       "    <tr>\n",
       "      <th>25%</th>\n",
       "      <td>NaN</td>\n",
       "    </tr>\n",
       "    <tr>\n",
       "      <th>50%</th>\n",
       "      <td>NaN</td>\n",
       "    </tr>\n",
       "    <tr>\n",
       "      <th>75%</th>\n",
       "      <td>NaN</td>\n",
       "    </tr>\n",
       "    <tr>\n",
       "      <th>max</th>\n",
       "      <td>675.000000</td>\n",
       "    </tr>\n",
       "  </tbody>\n",
       "</table>\n",
       "</div>"
      ],
      "text/plain": [
       "            price\n",
       "count   90.000000\n",
       "mean    15.211111\n",
       "std     94.985705\n",
       "min   -345.600000\n",
       "25%           NaN\n",
       "50%           NaN\n",
       "75%           NaN\n",
       "max    675.000000"
      ]
     },
     "execution_count": 54,
     "metadata": {},
     "output_type": "execute_result"
    }
   ],
   "source": [
    "# price변수의 기술통계분석 조회\n",
    "abc[['price']].describe()"
   ]
  },
  {
   "cell_type": "code",
   "execution_count": 55,
   "metadata": {
    "scrolled": true
   },
   "outputs": [
    {
     "data": {
      "text/plain": [
       "<matplotlib.collections.PathCollection at 0xb00eac8>"
      ]
     },
     "execution_count": 55,
     "metadata": {},
     "output_type": "execute_result"
    },
    {
     "data": {
      "image/png": "[encoded data removed]",
      "text/plain": [
       "<matplotlib.figure.Figure at 0xaced208>"
      ]
     },
     "metadata": {},
     "output_type": "display_data"
    }
   ],
   "source": [
    "# price변수의 산점도 작성\n",
    "plt.scatter(abc.price.index, abc.price)"
   ]
  },
  {
   "cell_type": "code",
   "execution_count": 56,
   "metadata": {},
   "outputs": [
    {
     "data": {
      "text/plain": [
       "-345.6    1\n",
       "-235.8    1\n",
       "-5.9      1\n",
       "-4.8      1\n",
       " 3.0      1\n",
       " 3.3      1\n",
       " 3.4      1\n",
       " 3.8      1\n",
       " 3.9      1\n",
       " 4.0      2\n",
       " 4.1      3\n",
       " 4.3      2\n",
       " 4.4      2\n",
       " 4.7      3\n",
       " 4.9      2\n",
       " 5.0      5\n",
       " 5.1      3\n",
       " 5.2      4\n",
       " 5.3      1\n",
       " 5.4      3\n",
       " 5.5      3\n",
       " 5.6      2\n",
       " 5.7      3\n",
       " 5.8      2\n",
       " 5.9      1\n",
       " 6.0      3\n",
       " 6.1      2\n",
       " 6.2      4\n",
       " 6.3      4\n",
       " 6.4      5\n",
       " 6.5      2\n",
       " 6.7      4\n",
       " 6.8      2\n",
       " 6.9      2\n",
       " 7.0      1\n",
       " 7.1      1\n",
       " 7.2      1\n",
       " 7.7      2\n",
       " 7.9      1\n",
       " 75.1     1\n",
       " 85.1     1\n",
       " 115.7    1\n",
       " 225.8    1\n",
       " 336.5    1\n",
       " 675.0    1\n",
       "Name: price, dtype: int64"
      ]
     },
     "execution_count": 56,
     "metadata": {},
     "output_type": "execute_result"
    }
   ],
   "source": [
    "# price변수의 데이터내용 조회\n",
    "p = abc.price.value_counts(sort=False, ascending=True).sort_index()\n",
    "p"
   ]
  },
  {
   "cell_type": "code",
   "execution_count": 57,
   "metadata": {},
   "outputs": [
    {
     "data": {
      "text/plain": [
       "-345.6    1\n",
       "-235.8    1\n",
       "-5.9      1\n",
       "-4.8      1\n",
       " 3.0      1\n",
       " 3.3      1\n",
       " 3.4      1\n",
       " 3.8      1\n",
       " 3.9      1\n",
       " 4.0      2\n",
       "Name: price, dtype: int64"
      ]
     },
     "execution_count": 57,
     "metadata": {},
     "output_type": "execute_result"
    }
   ],
   "source": [
    "# price변수의 데이터내용을 앞부분에서 간략하게 조회\n",
    "p.head(10)"
   ]
  },
  {
   "cell_type": "code",
   "execution_count": 58,
   "metadata": {},
   "outputs": [
    {
     "data": {
      "text/plain": [
       "7.1      1\n",
       "7.2      1\n",
       "7.7      2\n",
       "7.9      1\n",
       "75.1     1\n",
       "85.1     1\n",
       "115.7    1\n",
       "225.8    1\n",
       "336.5    1\n",
       "675.0    1\n",
       "Name: price, dtype: int64"
      ]
     },
     "execution_count": 58,
     "metadata": {},
     "output_type": "execute_result"
    }
   ],
   "source": [
    "# price변수의 데이터내용을 뒷부분에서 간략하게 조회\n",
    "p.tail(10)"
   ]
  },
  {
   "cell_type": "code",
   "execution_count": 59,
   "metadata": {},
   "outputs": [],
   "source": [
    "# price변수의 내용중 이상치를 제외한 정상범위 데이터 필터링\n",
    "temp = abc.ix[(abc['price']>=0) & (abc['price']<=10), : ]"
   ]
  },
  {
   "cell_type": "code",
   "execution_count": 60,
   "metadata": {},
   "outputs": [
    {
     "name": "stdout",
     "output_type": "stream",
     "text": [
      "<class 'pandas.core.frame.DataFrame'>\n",
      "Int64Index: 80 entries, 0 to 149\n",
      "Data columns (total 1 columns):\n",
      "price    80 non-null float64\n",
      "dtypes: float64(1)\n",
      "memory usage: 1.2 KB\n"
     ]
    }
   ],
   "source": [
    "# 이상치가 제거된 price변수의 기본구조정보조회\n",
    "temp[['price']].info()"
   ]
  },
  {
   "cell_type": "code",
   "execution_count": 61,
   "metadata": {
    "scrolled": true
   },
   "outputs": [
    {
     "data": {
      "text/html": [
       "<div>\n",
       "<table border=\"1\" class=\"dataframe\">\n",
       "  <thead>\n",
       "    <tr style=\"text-align: right;\">\n",
       "      <th></th>\n",
       "      <th>price</th>\n",
       "    </tr>\n",
       "  </thead>\n",
       "  <tbody>\n",
       "    <tr>\n",
       "      <th>count</th>\n",
       "      <td>80.000000</td>\n",
       "    </tr>\n",
       "    <tr>\n",
       "      <th>mean</th>\n",
       "      <td>5.598750</td>\n",
       "    </tr>\n",
       "    <tr>\n",
       "      <th>std</th>\n",
       "      <td>1.063609</td>\n",
       "    </tr>\n",
       "    <tr>\n",
       "      <th>min</th>\n",
       "      <td>3.000000</td>\n",
       "    </tr>\n",
       "    <tr>\n",
       "      <th>25%</th>\n",
       "      <td>5.000000</td>\n",
       "    </tr>\n",
       "    <tr>\n",
       "      <th>50%</th>\n",
       "      <td>5.650000</td>\n",
       "    </tr>\n",
       "    <tr>\n",
       "      <th>75%</th>\n",
       "      <td>6.400000</td>\n",
       "    </tr>\n",
       "    <tr>\n",
       "      <th>max</th>\n",
       "      <td>7.900000</td>\n",
       "    </tr>\n",
       "  </tbody>\n",
       "</table>\n",
       "</div>"
      ],
      "text/plain": [
       "           price\n",
       "count  80.000000\n",
       "mean    5.598750\n",
       "std     1.063609\n",
       "min     3.000000\n",
       "25%     5.000000\n",
       "50%     5.650000\n",
       "75%     6.400000\n",
       "max     7.900000"
      ]
     },
     "execution_count": 61,
     "metadata": {},
     "output_type": "execute_result"
    }
   ],
   "source": [
    "# 이상치가 제거된 price변수의 기술통계분석내용 조회\n",
    "temp[['price']].describe()"
   ]
  },
  {
   "cell_type": "code",
   "execution_count": 62,
   "metadata": {},
   "outputs": [
    {
     "data": {
      "text/html": [
       "<div>\n",
       "<table border=\"1\" class=\"dataframe\">\n",
       "  <thead>\n",
       "    <tr style=\"text-align: right;\">\n",
       "      <th>position_label</th>\n",
       "      <th>사원</th>\n",
       "      <th>대리</th>\n",
       "      <th>과장</th>\n",
       "      <th>차장</th>\n",
       "      <th>부장</th>\n",
       "      <th>All</th>\n",
       "    </tr>\n",
       "    <tr>\n",
       "      <th>gender_label</th>\n",
       "      <th></th>\n",
       "      <th></th>\n",
       "      <th></th>\n",
       "      <th></th>\n",
       "      <th></th>\n",
       "      <th></th>\n",
       "    </tr>\n",
       "  </thead>\n",
       "  <tbody>\n",
       "    <tr>\n",
       "      <th>남자</th>\n",
       "      <td>4.95</td>\n",
       "      <td>5.314286</td>\n",
       "      <td>5.520</td>\n",
       "      <td>5.527273</td>\n",
       "      <td>5.033333</td>\n",
       "      <td>5.297222</td>\n",
       "    </tr>\n",
       "    <tr>\n",
       "      <th>여자</th>\n",
       "      <td>6.20</td>\n",
       "      <td>4.942857</td>\n",
       "      <td>5.475</td>\n",
       "      <td>5.922222</td>\n",
       "      <td>6.484615</td>\n",
       "      <td>5.930769</td>\n",
       "    </tr>\n",
       "    <tr>\n",
       "      <th>All</th>\n",
       "      <td>5.70</td>\n",
       "      <td>5.128571</td>\n",
       "      <td>5.500</td>\n",
       "      <td>5.705000</td>\n",
       "      <td>5.890909</td>\n",
       "      <td>5.626667</td>\n",
       "    </tr>\n",
       "  </tbody>\n",
       "</table>\n",
       "</div>"
      ],
      "text/plain": [
       "position_label    사원        대리     과장        차장        부장       All\n",
       "gender_label                                                       \n",
       "남자              4.95  5.314286  5.520  5.527273  5.033333  5.297222\n",
       "여자              6.20  4.942857  5.475  5.922222  6.484615  5.930769\n",
       "All             5.70  5.128571  5.500  5.705000  5.890909  5.626667"
      ]
     },
     "execution_count": 62,
     "metadata": {},
     "output_type": "execute_result"
    }
   ],
   "source": [
    "# 성별과 직급변수에 따른 이벤트반응금액(price)을 비교하기 위한 피벗팅을 활용한 교차분석\n",
    "temp.pivot_table('price', 'gender_label', 'position_label', aggfunc = 'mean', margins =True)"
   ]
  },
  {
   "cell_type": "code",
   "execution_count": 63,
   "metadata": {
    "scrolled": false
   },
   "outputs": [],
   "source": [
    "# 피벗팅을 결과를 그래프화하기 위한 데이터준비\n",
    "temp.pivot_table('price', 'gender_label', 'position_label', aggfunc = 'mean')\n",
    "out = temp.pivot_table('price', 'gender_label', 'position_label', aggfunc = 'mean')"
   ]
  },
  {
   "cell_type": "code",
   "execution_count": null,
   "metadata": {
    "collapsed": true
   },
   "outputs": [],
   "source": [
    "# 성별라벨과 직급라벨 변수간 이벤트반응금액(price) 평균값을 비교하기 위한 그래프(dodge형) 구현\n",
    "out.plot(kind='bar', rot=0, alpha=0.5)"
   ]
  },
  {
   "cell_type": "code",
   "execution_count": 65,
   "metadata": {
    "scrolled": false
   },
   "outputs": [
    {
     "data": {
      "text/plain": [
       "<matplotlib.axes._subplots.AxesSubplot at 0xb77fb00>"
      ]
     },
     "execution_count": 65,
     "metadata": {},
     "output_type": "execute_result"
    },
    {
     "data": {
      "image/png": "[encoded data removed]",
      "text/plain": [
       "<matplotlib.figure.Figure at 0xb76de10>"
      ]
     },
     "metadata": {},
     "output_type": "display_data"
    }
   ],
   "source": [
    "# 성별라벨과 직급라벨 변수간 이벤트반응금액(price) 평균값을 비교하기 위한 그래프(stack형) 구현\n",
    "out.plot(kind='bar', stacked = True, rot=0, alpha=0.5)"
   ]
  },
  {
   "cell_type": "markdown",
   "metadata": {
    "collapsed": true
   },
   "source": [
    "## end of documents"
   ]
  }
 ],
 "metadata": {
  "anaconda-cloud": {},
  "kernelspec": {
   "display_name": "Python 3",
   "language": "python",
   "name": "python3"
  },
  "language_info": {
   "codemirror_mode": {
    "name": "ipython",
    "version": 3
   },
   "file_extension": ".py",
   "mimetype": "text/x-python",
   "name": "python",
   "nbconvert_exporter": "python",
   "pygments_lexer": "ipython3",
   "version": "3.6.5"
  }
 },
 "nbformat": 4,
 "nbformat_minor": 1
}
