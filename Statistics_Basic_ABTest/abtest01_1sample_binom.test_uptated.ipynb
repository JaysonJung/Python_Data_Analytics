{
 "cells": [
  {
   "cell_type": "markdown",
   "metadata": {},
   "source": [
    "## 일표본 이항(비율) 차이분석 ==> bi-nominal test"
   ]
  },
  {
   "cell_type": "code",
   "execution_count": 1,
   "metadata": {},
   "outputs": [],
   "source": [
    "# -*- coding: utf-8 -*-\n",
    "#컨벤션\n",
    "%matplotlib inline\n",
    "from pandas import DataFrame, Series\n",
    "import pandas as pd\n",
    "import matplotlib.pyplot as plt\n",
    "import numpy as np\n",
    "from scipy import stats\n",
    "import statsmodels"
   ]
  },
  {
   "cell_type": "code",
   "execution_count": 2,
   "metadata": {},
   "outputs": [],
   "source": [
    "#skipinitialspace 컬럼의 빈칸 없애고 전체 자료 읽어 들이기\n",
    "my_df = pd.read_csv('coupon.csv', skipinitialspace=True)"
   ]
  },
  {
   "cell_type": "code",
   "execution_count": 3,
   "metadata": {},
   "outputs": [
    {
     "name": "stdout",
     "output_type": "stream",
     "text": [
      "<class 'pandas.core.frame.DataFrame'>\n",
      "RangeIndex: 201 entries, 0 to 200\n",
      "Data columns (total 5 columns):\n",
      "no          201 non-null int64\n",
      "type        201 non-null int64\n",
      "category    117 non-null float64\n",
      "amount      117 non-null float64\n",
      "week        117 non-null float64\n",
      "dtypes: float64(3), int64(2)\n",
      "memory usage: 7.9 KB\n"
     ]
    },
    {
     "data": {
      "text/html": [
       "<div>\n",
       "<style scoped>\n",
       "    .dataframe tbody tr th:only-of-type {\n",
       "        vertical-align: middle;\n",
       "    }\n",
       "\n",
       "    .dataframe tbody tr th {\n",
       "        vertical-align: top;\n",
       "    }\n",
       "\n",
       "    .dataframe thead th {\n",
       "        text-align: right;\n",
       "    }\n",
       "</style>\n",
       "<table border=\"1\" class=\"dataframe\">\n",
       "  <thead>\n",
       "    <tr style=\"text-align: right;\">\n",
       "      <th></th>\n",
       "      <th>no</th>\n",
       "      <th>type</th>\n",
       "      <th>category</th>\n",
       "      <th>amount</th>\n",
       "      <th>week</th>\n",
       "    </tr>\n",
       "  </thead>\n",
       "  <tbody>\n",
       "    <tr>\n",
       "      <th>count</th>\n",
       "      <td>201.000000</td>\n",
       "      <td>201.000000</td>\n",
       "      <td>117.000000</td>\n",
       "      <td>117.000000</td>\n",
       "      <td>117.000000</td>\n",
       "    </tr>\n",
       "    <tr>\n",
       "      <th>mean</th>\n",
       "      <td>149.323383</td>\n",
       "      <td>1.437811</td>\n",
       "      <td>2.495726</td>\n",
       "      <td>86906.837607</td>\n",
       "      <td>0.555556</td>\n",
       "    </tr>\n",
       "    <tr>\n",
       "      <th>std</th>\n",
       "      <td>87.036429</td>\n",
       "      <td>0.497356</td>\n",
       "      <td>1.118989</td>\n",
       "      <td>39082.919645</td>\n",
       "      <td>0.499041</td>\n",
       "    </tr>\n",
       "    <tr>\n",
       "      <th>min</th>\n",
       "      <td>1.000000</td>\n",
       "      <td>1.000000</td>\n",
       "      <td>1.000000</td>\n",
       "      <td>18500.000000</td>\n",
       "      <td>0.000000</td>\n",
       "    </tr>\n",
       "    <tr>\n",
       "      <th>25%</th>\n",
       "      <td>74.000000</td>\n",
       "      <td>1.000000</td>\n",
       "      <td>2.000000</td>\n",
       "      <td>63000.000000</td>\n",
       "      <td>0.000000</td>\n",
       "    </tr>\n",
       "    <tr>\n",
       "      <th>50%</th>\n",
       "      <td>149.000000</td>\n",
       "      <td>1.000000</td>\n",
       "      <td>2.000000</td>\n",
       "      <td>82400.000000</td>\n",
       "      <td>1.000000</td>\n",
       "    </tr>\n",
       "    <tr>\n",
       "      <th>75%</th>\n",
       "      <td>224.000000</td>\n",
       "      <td>2.000000</td>\n",
       "      <td>3.000000</td>\n",
       "      <td>107000.000000</td>\n",
       "      <td>1.000000</td>\n",
       "    </tr>\n",
       "    <tr>\n",
       "      <th>max</th>\n",
       "      <td>300.000000</td>\n",
       "      <td>2.000000</td>\n",
       "      <td>4.000000</td>\n",
       "      <td>187400.000000</td>\n",
       "      <td>1.000000</td>\n",
       "    </tr>\n",
       "  </tbody>\n",
       "</table>\n",
       "</div>"
      ],
      "text/plain": [
       "               no        type    category         amount        week\n",
       "count  201.000000  201.000000  117.000000     117.000000  117.000000\n",
       "mean   149.323383    1.437811    2.495726   86906.837607    0.555556\n",
       "std     87.036429    0.497356    1.118989   39082.919645    0.499041\n",
       "min      1.000000    1.000000    1.000000   18500.000000    0.000000\n",
       "25%     74.000000    1.000000    2.000000   63000.000000    0.000000\n",
       "50%    149.000000    1.000000    2.000000   82400.000000    1.000000\n",
       "75%    224.000000    2.000000    3.000000  107000.000000    1.000000\n",
       "max    300.000000    2.000000    4.000000  187400.000000    1.000000"
      ]
     },
     "execution_count": 3,
     "metadata": {},
     "output_type": "execute_result"
    }
   ],
   "source": [
    "#변수 확인\n",
    "my_df.head()\n",
    "my_df.tail()\n",
    "my_df.info()\n",
    "my_df.describe()"
   ]
  },
  {
   "cell_type": "code",
   "execution_count": 4,
   "metadata": {},
   "outputs": [
    {
     "name": "stdout",
     "output_type": "stream",
     "text": [
      "   no  type  category   amount  week\n",
      "0   1     1       4.0  99300.0   1.0\n",
      "1   2     1       2.0  98300.0   1.0\n",
      "2   4     2       NaN      NaN   NaN\n",
      "3   6     1       NaN      NaN   NaN\n",
      "4   9     2       NaN      NaN   NaN \n",
      "\n",
      "      no  type  category    amount  week\n",
      "196  295     2       NaN       NaN   NaN\n",
      "197  296     2       NaN       NaN   NaN\n",
      "198  298     2       NaN       NaN   NaN\n",
      "199  299     2       4.0  152400.0   1.0\n",
      "200  300     2       1.0   37600.0   0.0\n",
      "<class 'pandas.core.frame.DataFrame'>\n",
      "RangeIndex: 201 entries, 0 to 200\n",
      "Data columns (total 5 columns):\n",
      "no          201 non-null int64\n",
      "type        201 non-null int64\n",
      "category    117 non-null float64\n",
      "amount      117 non-null float64\n",
      "week        117 non-null float64\n",
      "dtypes: float64(3), int64(2)\n",
      "memory usage: 7.9 KB\n",
      "None\n",
      "               no        type    category         amount        week\n",
      "count  201.000000  201.000000  117.000000     117.000000  117.000000\n",
      "mean   149.323383    1.437811    2.495726   86906.837607    0.555556\n",
      "std     87.036429    0.497356    1.118989   39082.919645    0.499041\n",
      "min      1.000000    1.000000    1.000000   18500.000000    0.000000\n",
      "25%     74.000000    1.000000    2.000000   63000.000000    0.000000\n",
      "50%    149.000000    1.000000    2.000000   82400.000000    1.000000\n",
      "75%    224.000000    2.000000    3.000000  107000.000000    1.000000\n",
      "max    300.000000    2.000000    4.000000  187400.000000    1.000000\n"
     ]
    }
   ],
   "source": [
    "#변수 확인\n",
    "print(my_df.head(), '\\n')\n",
    "print(my_df.tail())\n",
    "print(my_df.info())\n",
    "print(my_df.describe())"
   ]
  },
  {
   "cell_type": "code",
   "execution_count": 5,
   "metadata": {},
   "outputs": [
    {
     "data": {
      "text/html": [
       "<div>\n",
       "<style scoped>\n",
       "    .dataframe tbody tr th:only-of-type {\n",
       "        vertical-align: middle;\n",
       "    }\n",
       "\n",
       "    .dataframe tbody tr th {\n",
       "        vertical-align: top;\n",
       "    }\n",
       "\n",
       "    .dataframe thead th {\n",
       "        text-align: right;\n",
       "    }\n",
       "</style>\n",
       "<table border=\"1\" class=\"dataframe\">\n",
       "  <thead>\n",
       "    <tr style=\"text-align: right;\">\n",
       "      <th></th>\n",
       "      <th>amount</th>\n",
       "      <th>response</th>\n",
       "    </tr>\n",
       "  </thead>\n",
       "  <tbody>\n",
       "    <tr>\n",
       "      <th>0</th>\n",
       "      <td>99300.0</td>\n",
       "      <td>1</td>\n",
       "    </tr>\n",
       "    <tr>\n",
       "      <th>1</th>\n",
       "      <td>98300.0</td>\n",
       "      <td>1</td>\n",
       "    </tr>\n",
       "    <tr>\n",
       "      <th>2</th>\n",
       "      <td>NaN</td>\n",
       "      <td>0</td>\n",
       "    </tr>\n",
       "    <tr>\n",
       "      <th>3</th>\n",
       "      <td>NaN</td>\n",
       "      <td>0</td>\n",
       "    </tr>\n",
       "    <tr>\n",
       "      <th>4</th>\n",
       "      <td>NaN</td>\n",
       "      <td>0</td>\n",
       "    </tr>\n",
       "    <tr>\n",
       "      <th>5</th>\n",
       "      <td>40900.0</td>\n",
       "      <td>1</td>\n",
       "    </tr>\n",
       "    <tr>\n",
       "      <th>6</th>\n",
       "      <td>76400.0</td>\n",
       "      <td>1</td>\n",
       "    </tr>\n",
       "    <tr>\n",
       "      <th>7</th>\n",
       "      <td>83800.0</td>\n",
       "      <td>1</td>\n",
       "    </tr>\n",
       "    <tr>\n",
       "      <th>8</th>\n",
       "      <td>155000.0</td>\n",
       "      <td>1</td>\n",
       "    </tr>\n",
       "    <tr>\n",
       "      <th>9</th>\n",
       "      <td>102800.0</td>\n",
       "      <td>1</td>\n",
       "    </tr>\n",
       "    <tr>\n",
       "      <th>10</th>\n",
       "      <td>87000.0</td>\n",
       "      <td>1</td>\n",
       "    </tr>\n",
       "    <tr>\n",
       "      <th>11</th>\n",
       "      <td>58300.0</td>\n",
       "      <td>1</td>\n",
       "    </tr>\n",
       "    <tr>\n",
       "      <th>12</th>\n",
       "      <td>73500.0</td>\n",
       "      <td>1</td>\n",
       "    </tr>\n",
       "    <tr>\n",
       "      <th>13</th>\n",
       "      <td>88300.0</td>\n",
       "      <td>1</td>\n",
       "    </tr>\n",
       "    <tr>\n",
       "      <th>14</th>\n",
       "      <td>NaN</td>\n",
       "      <td>0</td>\n",
       "    </tr>\n",
       "    <tr>\n",
       "      <th>15</th>\n",
       "      <td>NaN</td>\n",
       "      <td>0</td>\n",
       "    </tr>\n",
       "    <tr>\n",
       "      <th>16</th>\n",
       "      <td>NaN</td>\n",
       "      <td>0</td>\n",
       "    </tr>\n",
       "    <tr>\n",
       "      <th>17</th>\n",
       "      <td>NaN</td>\n",
       "      <td>0</td>\n",
       "    </tr>\n",
       "    <tr>\n",
       "      <th>18</th>\n",
       "      <td>46300.0</td>\n",
       "      <td>1</td>\n",
       "    </tr>\n",
       "    <tr>\n",
       "      <th>19</th>\n",
       "      <td>61100.0</td>\n",
       "      <td>1</td>\n",
       "    </tr>\n",
       "    <tr>\n",
       "      <th>20</th>\n",
       "      <td>187400.0</td>\n",
       "      <td>1</td>\n",
       "    </tr>\n",
       "    <tr>\n",
       "      <th>21</th>\n",
       "      <td>NaN</td>\n",
       "      <td>0</td>\n",
       "    </tr>\n",
       "    <tr>\n",
       "      <th>22</th>\n",
       "      <td>88500.0</td>\n",
       "      <td>1</td>\n",
       "    </tr>\n",
       "    <tr>\n",
       "      <th>23</th>\n",
       "      <td>94600.0</td>\n",
       "      <td>1</td>\n",
       "    </tr>\n",
       "    <tr>\n",
       "      <th>24</th>\n",
       "      <td>147100.0</td>\n",
       "      <td>1</td>\n",
       "    </tr>\n",
       "    <tr>\n",
       "      <th>25</th>\n",
       "      <td>122100.0</td>\n",
       "      <td>1</td>\n",
       "    </tr>\n",
       "    <tr>\n",
       "      <th>26</th>\n",
       "      <td>82400.0</td>\n",
       "      <td>1</td>\n",
       "    </tr>\n",
       "    <tr>\n",
       "      <th>27</th>\n",
       "      <td>120700.0</td>\n",
       "      <td>1</td>\n",
       "    </tr>\n",
       "    <tr>\n",
       "      <th>28</th>\n",
       "      <td>140700.0</td>\n",
       "      <td>1</td>\n",
       "    </tr>\n",
       "    <tr>\n",
       "      <th>29</th>\n",
       "      <td>167400.0</td>\n",
       "      <td>1</td>\n",
       "    </tr>\n",
       "    <tr>\n",
       "      <th>...</th>\n",
       "      <td>...</td>\n",
       "      <td>...</td>\n",
       "    </tr>\n",
       "    <tr>\n",
       "      <th>171</th>\n",
       "      <td>NaN</td>\n",
       "      <td>0</td>\n",
       "    </tr>\n",
       "    <tr>\n",
       "      <th>172</th>\n",
       "      <td>NaN</td>\n",
       "      <td>0</td>\n",
       "    </tr>\n",
       "    <tr>\n",
       "      <th>173</th>\n",
       "      <td>NaN</td>\n",
       "      <td>0</td>\n",
       "    </tr>\n",
       "    <tr>\n",
       "      <th>174</th>\n",
       "      <td>NaN</td>\n",
       "      <td>0</td>\n",
       "    </tr>\n",
       "    <tr>\n",
       "      <th>175</th>\n",
       "      <td>NaN</td>\n",
       "      <td>0</td>\n",
       "    </tr>\n",
       "    <tr>\n",
       "      <th>176</th>\n",
       "      <td>109900.0</td>\n",
       "      <td>1</td>\n",
       "    </tr>\n",
       "    <tr>\n",
       "      <th>177</th>\n",
       "      <td>63100.0</td>\n",
       "      <td>1</td>\n",
       "    </tr>\n",
       "    <tr>\n",
       "      <th>178</th>\n",
       "      <td>NaN</td>\n",
       "      <td>0</td>\n",
       "    </tr>\n",
       "    <tr>\n",
       "      <th>179</th>\n",
       "      <td>85900.0</td>\n",
       "      <td>1</td>\n",
       "    </tr>\n",
       "    <tr>\n",
       "      <th>180</th>\n",
       "      <td>55100.0</td>\n",
       "      <td>1</td>\n",
       "    </tr>\n",
       "    <tr>\n",
       "      <th>181</th>\n",
       "      <td>NaN</td>\n",
       "      <td>0</td>\n",
       "    </tr>\n",
       "    <tr>\n",
       "      <th>182</th>\n",
       "      <td>30500.0</td>\n",
       "      <td>1</td>\n",
       "    </tr>\n",
       "    <tr>\n",
       "      <th>183</th>\n",
       "      <td>NaN</td>\n",
       "      <td>0</td>\n",
       "    </tr>\n",
       "    <tr>\n",
       "      <th>184</th>\n",
       "      <td>82000.0</td>\n",
       "      <td>1</td>\n",
       "    </tr>\n",
       "    <tr>\n",
       "      <th>185</th>\n",
       "      <td>NaN</td>\n",
       "      <td>0</td>\n",
       "    </tr>\n",
       "    <tr>\n",
       "      <th>186</th>\n",
       "      <td>85700.0</td>\n",
       "      <td>1</td>\n",
       "    </tr>\n",
       "    <tr>\n",
       "      <th>187</th>\n",
       "      <td>NaN</td>\n",
       "      <td>0</td>\n",
       "    </tr>\n",
       "    <tr>\n",
       "      <th>188</th>\n",
       "      <td>171400.0</td>\n",
       "      <td>1</td>\n",
       "    </tr>\n",
       "    <tr>\n",
       "      <th>189</th>\n",
       "      <td>122800.0</td>\n",
       "      <td>1</td>\n",
       "    </tr>\n",
       "    <tr>\n",
       "      <th>190</th>\n",
       "      <td>NaN</td>\n",
       "      <td>0</td>\n",
       "    </tr>\n",
       "    <tr>\n",
       "      <th>191</th>\n",
       "      <td>64300.0</td>\n",
       "      <td>1</td>\n",
       "    </tr>\n",
       "    <tr>\n",
       "      <th>192</th>\n",
       "      <td>69400.0</td>\n",
       "      <td>1</td>\n",
       "    </tr>\n",
       "    <tr>\n",
       "      <th>193</th>\n",
       "      <td>139300.0</td>\n",
       "      <td>1</td>\n",
       "    </tr>\n",
       "    <tr>\n",
       "      <th>194</th>\n",
       "      <td>62200.0</td>\n",
       "      <td>1</td>\n",
       "    </tr>\n",
       "    <tr>\n",
       "      <th>195</th>\n",
       "      <td>91300.0</td>\n",
       "      <td>1</td>\n",
       "    </tr>\n",
       "    <tr>\n",
       "      <th>196</th>\n",
       "      <td>NaN</td>\n",
       "      <td>0</td>\n",
       "    </tr>\n",
       "    <tr>\n",
       "      <th>197</th>\n",
       "      <td>NaN</td>\n",
       "      <td>0</td>\n",
       "    </tr>\n",
       "    <tr>\n",
       "      <th>198</th>\n",
       "      <td>NaN</td>\n",
       "      <td>0</td>\n",
       "    </tr>\n",
       "    <tr>\n",
       "      <th>199</th>\n",
       "      <td>152400.0</td>\n",
       "      <td>1</td>\n",
       "    </tr>\n",
       "    <tr>\n",
       "      <th>200</th>\n",
       "      <td>37600.0</td>\n",
       "      <td>1</td>\n",
       "    </tr>\n",
       "  </tbody>\n",
       "</table>\n",
       "<p>201 rows × 2 columns</p>\n",
       "</div>"
      ],
      "text/plain": [
       "       amount  response\n",
       "0     99300.0         1\n",
       "1     98300.0         1\n",
       "2         NaN         0\n",
       "3         NaN         0\n",
       "4         NaN         0\n",
       "5     40900.0         1\n",
       "6     76400.0         1\n",
       "7     83800.0         1\n",
       "8    155000.0         1\n",
       "9    102800.0         1\n",
       "10    87000.0         1\n",
       "11    58300.0         1\n",
       "12    73500.0         1\n",
       "13    88300.0         1\n",
       "14        NaN         0\n",
       "15        NaN         0\n",
       "16        NaN         0\n",
       "17        NaN         0\n",
       "18    46300.0         1\n",
       "19    61100.0         1\n",
       "20   187400.0         1\n",
       "21        NaN         0\n",
       "22    88500.0         1\n",
       "23    94600.0         1\n",
       "24   147100.0         1\n",
       "25   122100.0         1\n",
       "26    82400.0         1\n",
       "27   120700.0         1\n",
       "28   140700.0         1\n",
       "29   167400.0         1\n",
       "..        ...       ...\n",
       "171       NaN         0\n",
       "172       NaN         0\n",
       "173       NaN         0\n",
       "174       NaN         0\n",
       "175       NaN         0\n",
       "176  109900.0         1\n",
       "177   63100.0         1\n",
       "178       NaN         0\n",
       "179   85900.0         1\n",
       "180   55100.0         1\n",
       "181       NaN         0\n",
       "182   30500.0         1\n",
       "183       NaN         0\n",
       "184   82000.0         1\n",
       "185       NaN         0\n",
       "186   85700.0         1\n",
       "187       NaN         0\n",
       "188  171400.0         1\n",
       "189  122800.0         1\n",
       "190       NaN         0\n",
       "191   64300.0         1\n",
       "192   69400.0         1\n",
       "193  139300.0         1\n",
       "194   62200.0         1\n",
       "195   91300.0         1\n",
       "196       NaN         0\n",
       "197       NaN         0\n",
       "198       NaN         0\n",
       "199  152400.0         1\n",
       "200   37600.0         1\n",
       "\n",
       "[201 rows x 2 columns]"
      ]
     },
     "execution_count": 5,
     "metadata": {},
     "output_type": "execute_result"
    }
   ],
   "source": [
    "#response 파생변수 컬럼에 추가하기\n",
    "my_df['response'] = [0 if np.isnan(x) else 1 for x in my_df.amount]\n",
    "my_df[['amount','response']]"
   ]
  },
  {
   "cell_type": "code",
   "execution_count": 6,
   "metadata": {},
   "outputs": [
    {
     "name": "stdout",
     "output_type": "stream",
     "text": [
      "0     84\n",
      "1    117\n",
      "Name: response, dtype: int64\n",
      "0    0.41791\n",
      "1    0.58209\n",
      "Name: response, dtype: float64\n"
     ]
    }
   ],
   "source": [
    "#파생변수 빈도분석\n",
    "print(my_df.response.value_counts(normalize=False, sort=False))\n",
    "print(my_df.response.value_counts(normalize=True, sort=False))"
   ]
  },
  {
   "cell_type": "code",
   "execution_count": 7,
   "metadata": {},
   "outputs": [
    {
     "name": "stdout",
     "output_type": "stream",
     "text": [
      "used        117\n",
      "not used     84\n",
      "Name: response, dtype: int64\n",
      "used        0.58209\n",
      "not used    0.41791\n",
      "Name: response, dtype: float64\n"
     ]
    }
   ],
   "source": [
    "#레이블 선언\n",
    "response_lables = {0: 'not used', 1: 'used'}\n",
    "response_fq = my_df.response.apply(lambda x: response_lables[x]).value_counts(normalize=False, sort=False)\n",
    "response_rt = my_df.response.apply(lambda x: response_lables[x]).value_counts(normalize=True, sort=False)\n",
    "print(response_fq)\n",
    "print(response_rt)"
   ]
  },
  {
   "cell_type": "code",
   "execution_count": 8,
   "metadata": {},
   "outputs": [
    {
     "data": {
      "text/plain": [
       "117"
      ]
     },
     "execution_count": 8,
     "metadata": {},
     "output_type": "execute_result"
    }
   ],
   "source": [
    "response_fq[0]"
   ]
  },
  {
   "cell_type": "code",
   "execution_count": 9,
   "metadata": {},
   "outputs": [
    {
     "data": {
      "text/plain": [
       "84"
      ]
     },
     "execution_count": 9,
     "metadata": {},
     "output_type": "execute_result"
    }
   ],
   "source": [
    "response_fq[1]"
   ]
  },
  {
   "cell_type": "code",
   "execution_count": 10,
   "metadata": {},
   "outputs": [
    {
     "data": {
      "text/plain": [
       "<matplotlib.axes._subplots.AxesSubplot at 0x9d1ca90>"
      ]
     },
     "execution_count": 10,
     "metadata": {},
     "output_type": "execute_result"
    },
    {
     "data": {
      "image/png": "[encoded data removed]",
      "text/plain": [
       "<Figure size 432x288 with 1 Axes>"
      ]
     },
     "metadata": {},
     "output_type": "display_data"
    },
    {
     "data": {
      "image/png": "[encoded data removed]",
      "text/plain": [
       "<Figure size 432x288 with 1 Axes>"
      ]
     },
     "metadata": {},
     "output_type": "display_data"
    }
   ],
   "source": [
    "#막대그래프(레이블 있음)\n",
    "plt.figure(1)\n",
    "response_fq.plot(kind='bar', title='Use or Not')\n",
    "plt.figure(2)\n",
    "response_fq.plot(kind='pie', title='Use or Not')"
   ]
  },
  {
   "cell_type": "code",
   "execution_count": 11,
   "metadata": {
    "scrolled": true
   },
   "outputs": [
    {
     "name": "stdout",
     "output_type": "stream",
     "text": [
      "0.023761175886637037\n"
     ]
    }
   ],
   "source": [
    "#이항 검정\n",
    "\n",
    "#stats.binom_test(count, n=nobs, p=prop) 양측(two-side)\n",
    "#stats.binom.sf(count-1, nobs, prop) 오른쪽 꼬리(greater)\n",
    "#stats.binom.cdf(count, nobs, prop) 왼쪽 꼬리(less)\n",
    "# ==> 또는 binom_test()에서 alternative=two-sided, greater, less로 선정해 양측검정/단측검정을 선택할 수 있음\n",
    "x = stats.binom_test(response_fq[0], n=len(my_df.response), p=0.50)\n",
    "print(x)"
   ]
  },
  {
   "cell_type": "code",
   "execution_count": 12,
   "metadata": {},
   "outputs": [
    {
     "name": "stdout",
     "output_type": "stream",
     "text": [
      "p-value = 0.024\n"
     ]
    }
   ],
   "source": [
    "print(\"p-value = %4.3f\" % x)"
   ]
  },
  {
   "cell_type": "code",
   "execution_count": 13,
   "metadata": {},
   "outputs": [
    {
     "data": {
      "text/plain": [
       "(100.0, 101.0)"
      ]
     },
     "execution_count": 13,
     "metadata": {},
     "output_type": "execute_result"
    }
   ],
   "source": [
    "stats.binom.interval(alpha=0.05, n=len(my_df.response), p=0.50, loc=0)"
   ]
  },
  {
   "cell_type": "code",
   "execution_count": 14,
   "metadata": {},
   "outputs": [
    {
     "name": "stdout",
     "output_type": "stream",
     "text": [
      "쿠폰이벤트 반응성공기준이 0.40 일때: p-value = 0.000\n"
     ]
    }
   ],
   "source": [
    "#이항검정(적합도 검정)\n",
    "y = stats.binom.sf(response_fq[0], n=len(my_df.response), p=0.00)\n",
    "print(\"쿠폰이벤트 반응성공기준이 0.40 일때: p-value = %4.3f\" % y)"
   ]
  },
  {
   "cell_type": "markdown",
   "metadata": {},
   "source": [
    "## end of documents"
   ]
  }
 ],
 "metadata": {
  "anaconda-cloud": {},
  "kernelspec": {
   "display_name": "Python 3",
   "language": "python",
   "name": "python3"
  },
  "language_info": {
   "codemirror_mode": {
    "name": "ipython",
    "version": 3
   },
   "file_extension": ".py",
   "mimetype": "text/x-python",
   "name": "python",
   "nbconvert_exporter": "python",
   "pygments_lexer": "ipython3",
   "version": "3.6.5"
  }
 },
 "nbformat": 4,
 "nbformat_minor": 1
}
